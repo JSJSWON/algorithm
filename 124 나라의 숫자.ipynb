{
 "cells": [
  {
   "cell_type": "code",
   "execution_count": 81,
   "id": "8a0ac2b8",
   "metadata": {},
   "outputs": [],
   "source": [
    "def solution(n):\n",
    "    answer = ''\n",
    "    \n",
    "    # t자리의 수이면서 tmp번째 수\n",
    "    tmp = n\n",
    "    t = 1\n",
    "    while True:\n",
    "        if tmp <= 3 ** t:\n",
    "            break\n",
    "        else:\n",
    "            tmp -= 3 ** t\n",
    "            t += 1\n",
    "    \n",
    "    while True:\n",
    "        if t == 1:\n",
    "            s = tmp % 3\n",
    "            if s == 1:\n",
    "                answer += '1'\n",
    "            elif s == 2:\n",
    "                answer += '2'\n",
    "            else:\n",
    "                answer += '4'\n",
    "            break\n",
    "        else:\n",
    "            s = tmp % (3 ** t)\n",
    "            if s == 0:\n",
    "                answer += '4'\n",
    "                t -= 1\n",
    "                continue\n",
    "            t -= 1\n",
    "            s -= 3 ** t\n",
    "            if s <= 0:\n",
    "                answer += '1'\n",
    "                continue\n",
    "            s -= 3 ** t\n",
    "            if s <= 0:\n",
    "                answer += '2'\n",
    "                continue\n",
    "            s -= 3 ** t\n",
    "            if s <= 0:\n",
    "                answer += '4'\n",
    "                continue\n",
    "\n",
    "    return answer"
   ]
  },
  {
   "cell_type": "code",
   "execution_count": 82,
   "id": "f670a465",
   "metadata": {},
   "outputs": [
    {
     "name": "stdout",
     "output_type": "stream",
     "text": [
      "1 : 1\n",
      "2 : 2\n",
      "3 : 4\n",
      "4 : 11\n",
      "5 : 12\n",
      "6 : 14\n",
      "7 : 21\n",
      "8 : 22\n",
      "9 : 24\n",
      "10 : 41\n",
      "11 : 42\n",
      "12 : 44\n",
      "13 : 111\n",
      "14 : 112\n",
      "15 : 114\n",
      "16 : 121\n",
      "17 : 122\n",
      "18 : 124\n",
      "19 : 141\n",
      "20 : 142\n",
      "21 : 144\n",
      "22 : 211\n",
      "23 : 212\n",
      "24 : 214\n",
      "25 : 221\n",
      "26 : 222\n",
      "27 : 224\n",
      "28 : 241\n",
      "29 : 242\n",
      "30 : 244\n",
      "31 : 411\n",
      "32 : 412\n",
      "33 : 414\n",
      "34 : 421\n",
      "35 : 422\n",
      "36 : 424\n",
      "37 : 441\n",
      "38 : 442\n",
      "39 : 444\n"
     ]
    }
   ],
   "source": [
    "for i in range(1, 40):\n",
    "    print(str(i) + ' : ' + solution(i))"
   ]
  },
  {
   "cell_type": "code",
   "execution_count": null,
   "id": "4816552c",
   "metadata": {},
   "outputs": [],
   "source": []
  }
 ],
 "metadata": {
  "kernelspec": {
   "display_name": "Python 3 (ipykernel)",
   "language": "python",
   "name": "python3"
  },
  "language_info": {
   "codemirror_mode": {
    "name": "ipython",
    "version": 3
   },
   "file_extension": ".py",
   "mimetype": "text/x-python",
   "name": "python",
   "nbconvert_exporter": "python",
   "pygments_lexer": "ipython3",
   "version": "3.9.6"
  }
 },
 "nbformat": 4,
 "nbformat_minor": 5
}
