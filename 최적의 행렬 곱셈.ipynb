{
 "cells": [
  {
   "cell_type": "code",
   "execution_count": 63,
   "id": "947ce1b1",
   "metadata": {},
   "outputs": [],
   "source": [
    "def solution(matrix_sizes):\n",
    "    answer = 0\n",
    "    l = len(matrix_sizes)\n",
    "    dp = [[1000000000 for _ in range(l)] for _ in range(l)]\n",
    "\n",
    "    for i in range(l):\n",
    "        dp[i][i] = 0\n",
    "\n",
    "    for gap in range(1, l):\n",
    "        for start in range(l):\n",
    "            end = start + gap\n",
    "            if end >= l:\n",
    "                break\n",
    "            for mid in range(start, end):\n",
    "                dp[start][end] = min(dp[start][end],\n",
    "                                    dp[start][mid] + dp[mid+1][end]\n",
    "                                     + matrix_sizes[start][0] * matrix_sizes[mid][1] * matrix_sizes[end][1])\n",
    "\n",
    "    return dp[0][l-1]"
   ]
  },
  {
   "cell_type": "code",
   "execution_count": 64,
   "id": "712687ce",
   "metadata": {},
   "outputs": [
    {
     "data": {
      "text/plain": [
       "270"
      ]
     },
     "execution_count": 64,
     "metadata": {},
     "output_type": "execute_result"
    }
   ],
   "source": [
    "solution([[5,3],[3,10],[10,6]])"
   ]
  },
  {
   "cell_type": "code",
   "execution_count": null,
   "id": "1ef64836",
   "metadata": {},
   "outputs": [],
   "source": []
  }
 ],
 "metadata": {
  "kernelspec": {
   "display_name": "Python 3 (ipykernel)",
   "language": "python",
   "name": "python3"
  },
  "language_info": {
   "codemirror_mode": {
    "name": "ipython",
    "version": 3
   },
   "file_extension": ".py",
   "mimetype": "text/x-python",
   "name": "python",
   "nbconvert_exporter": "python",
   "pygments_lexer": "ipython3",
   "version": "3.9.12"
  }
 },
 "nbformat": 4,
 "nbformat_minor": 5
}
