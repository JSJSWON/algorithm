{
 "cells": [
  {
   "cell_type": "code",
   "execution_count": 123,
   "id": "9ae0bf09",
   "metadata": {},
   "outputs": [],
   "source": [
    "# 현재 칸을 무조건 inxex 0으로 맞추기 (U: 시계방향)\n",
    "from collections import deque\n",
    "\n",
    "def solution(n, k, cmd):\n",
    "    answer = ['X' for _ in range(n)]\n",
    "    \n",
    "    queue = deque([i for i in range(n)])\n",
    "    \n",
    "    queue.rotate(-k)\n",
    "#     rotate = -k\n",
    "#     print(queue)\n",
    "    tmp = []\n",
    "    for x in cmd:\n",
    "        x = x.split()\n",
    "        if x[0] == 'U':\n",
    "            if len(queue) > 1:\n",
    "                cnt = 0\n",
    "                while True:\n",
    "                    if queue[-1] > queue[0] or cnt == int(x[1]):\n",
    "                        break\n",
    "                    else:\n",
    "                        queue.rotate(1)\n",
    "                        cnt += 1\n",
    "#             queue.rotate(int(x[1]))\n",
    "#             rotate += x[1]\n",
    "        elif x[0] == 'D':\n",
    "            if len(queue) > 1:\n",
    "                cnt = 0\n",
    "                while True:\n",
    "                    if queue[0] > queue[1] or cnt == int(x[1]):\n",
    "                        break\n",
    "                    else:\n",
    "                        queue.rotate(-1)\n",
    "                        cnt += 1\n",
    "#             queue.rotate(int(x[1]) * (-1))\n",
    "#             rotate -= x[1]\n",
    "        elif x[0] == 'C':\n",
    "            if len(queue) == 1:\n",
    "                tmp.append(queue.popleft())\n",
    "            else:\n",
    "                if queue[0] > queue[1]:\n",
    "                    tmp.append(queue.popleft())\n",
    "                    queue.rotate(1)\n",
    "                else:\n",
    "                    tmp.append(queue.popleft())\n",
    "        elif x[0] == 'Z':\n",
    "            if len(queue) == 1:\n",
    "                if queue[0] > tmp[-1]:\n",
    "                    queue.appendleft(tmp.pop())\n",
    "                else:\n",
    "                    queue.append(tmp.pop())\n",
    "            elif len(queue) == 0:\n",
    "                queue.appendleft(tmp.pop())\n",
    "            else:\n",
    "                if tmp[-1] > max(queue):\n",
    "                    queue.insert(queue.index(max(queue)) + 1, tmp.pop())\n",
    "                elif tmp[-1] < min(queue):\n",
    "                    index = queue.index(min(queue))\n",
    "                    if index == 0:\n",
    "                        queue.appendleft(tmp.pop())\n",
    "                    else:\n",
    "                        queue.insert(index, tmp.pop())\n",
    "                else:\n",
    "                    if queue[-1] < tmp[-1] < queue[0]:\n",
    "                        queue.append(tmp.pop())\n",
    "                    else:\n",
    "                        for i in range(len(queue) - 1):\n",
    "                            if queue[i] < tmp[-1] < queue[i+1]:\n",
    "                                queue.insert(i+1, tmp.pop())\n",
    "                                break\n",
    "        print(queue)\n",
    "        print(tmp)\n",
    "    print(queue)\n",
    "    for x in queue:\n",
    "        answer[x] = 'O'\n",
    "\n",
    "    return ''.join(answer)"
   ]
  },
  {
   "cell_type": "code",
   "execution_count": 62,
   "id": "4d662bac",
   "metadata": {},
   "outputs": [
    {
     "data": {
      "text/plain": [
       "'OOOOXOOO'"
      ]
     },
     "execution_count": 62,
     "metadata": {},
     "output_type": "execute_result"
    }
   ],
   "source": [
    "solution(8, 2, [\"D 2\",\"C\",\"U 3\",\"C\",\"D 4\",\"C\",\"U 2\",\"Z\",\"Z\"])"
   ]
  },
  {
   "cell_type": "code",
   "execution_count": 116,
   "id": "58310070",
   "metadata": {},
   "outputs": [
    {
     "name": "stdout",
     "output_type": "stream",
     "text": [
      "deque([4, 5, 6, 7, 0, 1, 2, 3])\n",
      "[]\n",
      "deque([5, 6, 7, 0, 1, 2, 3])\n",
      "[4]\n",
      "deque([1, 2, 3, 5, 6, 7, 0])\n",
      "[4]\n",
      "deque([2, 3, 5, 6, 7, 0])\n",
      "[4, 1]\n",
      "deque([7, 0, 2, 3, 5, 6])\n",
      "[4, 1]\n",
      "deque([6, 0, 2, 3, 5])\n",
      "[4, 1, 7]\n",
      "deque([3, 5, 6, 0, 2])\n",
      "[4, 1, 7]\n",
      "deque([3, 5, 6, 7, 0, 2])\n",
      "[4, 1]\n",
      "deque([3, 5, 6, 7, 0, 1, 2])\n",
      "[4]\n",
      "deque([2, 3, 5, 6, 7, 0, 1])\n",
      "[4]\n",
      "deque([3, 5, 6, 7, 0, 1])\n",
      "[4, 2]\n",
      "deque([3, 5, 6, 7, 0, 1])\n"
     ]
    },
    {
     "data": {
      "text/plain": [
       "'OOXOXOOO'"
      ]
     },
     "execution_count": 116,
     "metadata": {},
     "output_type": "execute_result"
    }
   ],
   "source": [
    "solution(8, 2, [\"D 2\",\"C\",\"U 3\",\"C\",\"D 4\",\"C\",\"U 2\",\"Z\",\"Z\",\"U 1\",\"C\"])"
   ]
  },
  {
   "cell_type": "code",
   "execution_count": null,
   "id": "00e0a732",
   "metadata": {},
   "outputs": [],
   "source": [
    "3456712\n",
    "U -> 1234567\n",
    "D <-71234567\n",
    "\n",
    "3012"
   ]
  },
  {
   "cell_type": "code",
   "execution_count": 127,
   "id": "f3f85ac9",
   "metadata": {},
   "outputs": [
    {
     "name": "stdout",
     "output_type": "stream",
     "text": [
      "deque([1, 2, 3, 4, 5, 6, 7, 8, 9])\n",
      "[0]\n",
      "deque([3, 4, 5, 6, 7, 8, 9, 1, 2])\n",
      "[0]\n",
      "deque([4, 5, 6, 7, 8, 9, 1, 2])\n",
      "[0, 3]\n",
      "deque([1, 2, 4, 5, 6, 7, 8, 9])\n",
      "[0, 3]\n",
      "deque([2, 4, 5, 6, 7, 8, 9])\n",
      "[0, 3, 1]\n",
      "deque([4, 5, 6, 7, 8, 9, 2])\n",
      "[0, 3, 1]\n",
      "deque([5, 6, 7, 8, 9, 2])\n",
      "[0, 3, 1, 4]\n",
      "deque([8, 9, 2, 5, 6, 7])\n",
      "[0, 3, 1, 4]\n",
      "deque([8, 9, 2, 4, 5, 6, 7])\n",
      "[0, 3, 1]\n",
      "deque([2, 4, 5, 6, 7, 8, 9])\n",
      "[0, 3, 1]\n",
      "deque([1, 2, 4, 5, 6, 7, 8, 9])\n",
      "[0, 3]\n",
      "deque([1, 2, 3, 4, 5, 6, 7, 8, 9])\n",
      "[0]\n",
      "deque([1, 2, 3, 4, 5, 6, 7, 8, 9])\n"
     ]
    },
    {
     "data": {
      "text/plain": [
       "'XOOOOOOOOO'"
      ]
     },
     "execution_count": 127,
     "metadata": {},
     "output_type": "execute_result"
    }
   ],
   "source": [
    "solution(10, 0, [\"C\", \"D 2\", \"C\", \"U 3\", \"C\", \"D 1\", \"C\", \"D 3\", \"Z\",\"U 5\", \"Z\", \"Z\"])"
   ]
  },
  {
   "cell_type": "code",
   "execution_count": 103,
   "id": "34cdb253",
   "metadata": {},
   "outputs": [
    {
     "name": "stdout",
     "output_type": "stream",
     "text": [
      "deque([1, 2, 5, 3])\n"
     ]
    }
   ],
   "source": [
    "a = deque([1,2,3])\n",
    "a.insert(-1, 5)\n",
    "print(a)"
   ]
  },
  {
   "cell_type": "code",
   "execution_count": 128,
   "id": "f0720f6a",
   "metadata": {},
   "outputs": [],
   "source": [
    "# 현재 칸을 무조건 inxex 0으로 맞추기 (U: 시계방향)\n",
    "from collections import deque\n",
    "\n",
    "def solution(n, k, cmd):\n",
    "    answer = ['O' for _ in range(n)]\n",
    "    \n",
    "    queue = deque([i for i in range(n)])\n",
    "    \n",
    "    queue.rotate(-k)\n",
    "    tmp = []\n",
    "    for x in cmd:\n",
    "        x = x.split()\n",
    "        if x[0] == 'U':\n",
    "            if len(queue) > 1:\n",
    "                cnt = 0\n",
    "                while True:\n",
    "                    if queue[-1] > queue[0] or cnt == int(x[1]):\n",
    "                        break\n",
    "                    else:\n",
    "                        queue.rotate(1)\n",
    "                        cnt += 1\n",
    "        elif x[0] == 'D':\n",
    "            if len(queue) > 1:\n",
    "                cnt = 0\n",
    "                while True:\n",
    "                    if queue[0] > queue[1] or cnt == int(x[1]):\n",
    "                        break\n",
    "                    else:\n",
    "                        queue.rotate(-1)\n",
    "                        cnt += 1\n",
    "        elif x[0] == 'C':\n",
    "            if len(queue) == 1:\n",
    "                q = queue.popleft()\n",
    "                tmp.append(q)\n",
    "                answer[q] = 'X'\n",
    "            else:\n",
    "                if queue[0] > queue[1]:\n",
    "                    q = queue.popleft()\n",
    "                    tmp.append(q)\n",
    "                    answer[q] = 'X'\n",
    "                    queue.rotate(1)\n",
    "                else:\n",
    "                    q = queue.popleft()\n",
    "                    tmp.append(q)\n",
    "                    answer[q] = 'X'\n",
    "        elif x[0] == 'Z':\n",
    "            if len(queue) == 1:\n",
    "                if queue[0] > tmp[-1]:\n",
    "                    t = tmp.pop()\n",
    "                    queue.appendleft(t)\n",
    "                    answer[t] = 'O'\n",
    "                else:\n",
    "                    t = tmp.pop()\n",
    "                    queue.append(t)\n",
    "                    answer[t] = 'O'\n",
    "            elif len(queue) == 0:\n",
    "                    t = tmp.pop()\n",
    "                    queue.appendleft(t)\n",
    "                    answer[t] = 'O'\n",
    "            else:\n",
    "                if tmp[-1] > max(queue):\n",
    "                    index = queue.index(max(queue))\n",
    "                    t = tmp.pop()\n",
    "                    queue.insert(index + 1, t)\n",
    "                    answer[t] = 'O'\n",
    "                elif tmp[-1] < min(queue):\n",
    "                    index = queue.index(min(queue))\n",
    "                    if index == 0:\n",
    "                        t = tmp.pop()\n",
    "                        queue.append(t)\n",
    "                        answer[t] = 'O'\n",
    "                    else:\n",
    "                        t = tmp.pop()\n",
    "                        queue.insert(index, t)\n",
    "                        answer[t] = 'O'\n",
    "                else:\n",
    "                    if queue[-1] < tmp[-1] < queue[0]:\n",
    "                        t = tmp.pop()\n",
    "                        queue.append(t)\n",
    "                        answer[t] = 'O'\n",
    "                    else:\n",
    "                        for i in range(len(queue) - 1):\n",
    "                            if queue[i] < tmp[-1] < queue[i+1]:\n",
    "                                t = tmp.pop()\n",
    "                                queue.insert(i+1, t)\n",
    "                                answer[t] = 'O'\n",
    "                                break\n",
    "\n",
    "    return ''.join(answer)"
   ]
  },
  {
   "cell_type": "code",
   "execution_count": 137,
   "id": "86b05c8d",
   "metadata": {},
   "outputs": [],
   "source": [
    "a = [\"D 1000\", \"U 1000\"] * 200000"
   ]
  },
  {
   "cell_type": "code",
   "execution_count": 138,
   "id": "2215ab15",
   "metadata": {},
   "outputs": [
    {
     "ename": "KeyboardInterrupt",
     "evalue": "",
     "output_type": "error",
     "traceback": [
      "\u001b[0;31m---------------------------------------------------------------------------\u001b[0m",
      "\u001b[0;31mKeyboardInterrupt\u001b[0m                         Traceback (most recent call last)",
      "\u001b[0;32m/var/folders/h4/qkygjbx150l41hr_cmr5wpt80000gn/T/ipykernel_28391/3074898132.py\u001b[0m in \u001b[0;36m<module>\u001b[0;34m\u001b[0m\n\u001b[0;32m----> 1\u001b[0;31m \u001b[0msolution\u001b[0m\u001b[0;34m(\u001b[0m\u001b[0;36m1000000\u001b[0m\u001b[0;34m,\u001b[0m \u001b[0;36m0\u001b[0m\u001b[0;34m,\u001b[0m \u001b[0ma\u001b[0m\u001b[0;34m)\u001b[0m\u001b[0;34m\u001b[0m\u001b[0;34m\u001b[0m\u001b[0m\n\u001b[0m",
      "\u001b[0;32m/var/folders/h4/qkygjbx150l41hr_cmr5wpt80000gn/T/ipykernel_28391/3467290843.py\u001b[0m in \u001b[0;36msolution\u001b[0;34m(n, k, cmd)\u001b[0m\n\u001b[1;32m     27\u001b[0m                         \u001b[0;32mbreak\u001b[0m\u001b[0;34m\u001b[0m\u001b[0;34m\u001b[0m\u001b[0m\n\u001b[1;32m     28\u001b[0m                     \u001b[0;32melse\u001b[0m\u001b[0;34m:\u001b[0m\u001b[0;34m\u001b[0m\u001b[0;34m\u001b[0m\u001b[0m\n\u001b[0;32m---> 29\u001b[0;31m                         \u001b[0mqueue\u001b[0m\u001b[0;34m.\u001b[0m\u001b[0mrotate\u001b[0m\u001b[0;34m(\u001b[0m\u001b[0;34m-\u001b[0m\u001b[0;36m1\u001b[0m\u001b[0;34m)\u001b[0m\u001b[0;34m\u001b[0m\u001b[0;34m\u001b[0m\u001b[0m\n\u001b[0m\u001b[1;32m     30\u001b[0m                         \u001b[0mcnt\u001b[0m \u001b[0;34m+=\u001b[0m \u001b[0;36m1\u001b[0m\u001b[0;34m\u001b[0m\u001b[0;34m\u001b[0m\u001b[0m\n\u001b[1;32m     31\u001b[0m         \u001b[0;32melif\u001b[0m \u001b[0mx\u001b[0m\u001b[0;34m[\u001b[0m\u001b[0;36m0\u001b[0m\u001b[0;34m]\u001b[0m \u001b[0;34m==\u001b[0m \u001b[0;34m'C'\u001b[0m\u001b[0;34m:\u001b[0m\u001b[0;34m\u001b[0m\u001b[0;34m\u001b[0m\u001b[0m\n",
      "\u001b[0;31mKeyboardInterrupt\u001b[0m: "
     ]
    }
   ],
   "source": [
    "solution(1000000, 0, a)"
   ]
  },
  {
   "cell_type": "code",
   "execution_count": 139,
   "id": "0de6f496",
   "metadata": {},
   "outputs": [],
   "source": [
    "a = deque([1,2,3,4,5,6,6,6,6,6,6,6,6])"
   ]
  },
  {
   "cell_type": "code",
   "execution_count": 142,
   "id": "8f1e2f29",
   "metadata": {},
   "outputs": [
    {
     "ename": "KeyboardInterrupt",
     "evalue": "",
     "output_type": "error",
     "traceback": [
      "\u001b[0;31m---------------------------------------------------------------------------\u001b[0m",
      "\u001b[0;31mKeyboardInterrupt\u001b[0m                         Traceback (most recent call last)",
      "\u001b[0;32m/var/folders/h4/qkygjbx150l41hr_cmr5wpt80000gn/T/ipykernel_28391/197430526.py\u001b[0m in \u001b[0;36m<module>\u001b[0;34m\u001b[0m\n\u001b[1;32m      1\u001b[0m \u001b[0;32mfor\u001b[0m \u001b[0m_\u001b[0m \u001b[0;32min\u001b[0m \u001b[0mrange\u001b[0m\u001b[0;34m(\u001b[0m\u001b[0;36m2000000000\u001b[0m\u001b[0;34m)\u001b[0m\u001b[0;34m:\u001b[0m\u001b[0;34m\u001b[0m\u001b[0;34m\u001b[0m\u001b[0m\n\u001b[0;32m----> 2\u001b[0;31m     \u001b[0ma\u001b[0m\u001b[0;34m.\u001b[0m\u001b[0mrotate\u001b[0m\u001b[0;34m(\u001b[0m\u001b[0;36m1\u001b[0m\u001b[0;34m)\u001b[0m\u001b[0;34m\u001b[0m\u001b[0;34m\u001b[0m\u001b[0m\n\u001b[0m\u001b[1;32m      3\u001b[0m \u001b[0mprint\u001b[0m\u001b[0;34m(\u001b[0m\u001b[0ma\u001b[0m\u001b[0;34m)\u001b[0m\u001b[0;34m\u001b[0m\u001b[0;34m\u001b[0m\u001b[0m\n",
      "\u001b[0;31mKeyboardInterrupt\u001b[0m: "
     ]
    }
   ],
   "source": [
    "for _ in range(2000000000):\n",
    "    a.rotate(1)\n",
    "print(a)"
   ]
  },
  {
   "cell_type": "code",
   "execution_count": 143,
   "id": "cf984268",
   "metadata": {},
   "outputs": [
    {
     "name": "stdout",
     "output_type": "stream",
     "text": [
      "deque([6, 6, 6, 1, 2, 3, 4, 5, 6, 6, 6, 6, 6])\n"
     ]
    }
   ],
   "source": [
    "a.rotate(2000000000)\n",
    "print(a)"
   ]
  },
  {
   "cell_type": "code",
   "execution_count": 195,
   "id": "a3c9d02d",
   "metadata": {},
   "outputs": [],
   "source": [
    "# 현재 칸을 무조건 inxex 0으로 맞추기 (U: 시계방향)\n",
    "from collections import deque\n",
    "\n",
    "def solution(n, k, cmd):\n",
    "    answer = ['O' for _ in range(n)]\n",
    "    \n",
    "    queue = deque([i for i in range(n)])\n",
    "    \n",
    "    queue.rotate(-k)\n",
    "    tmp = []\n",
    "    r = -k\n",
    "    for x in cmd:\n",
    "        print(r)\n",
    "        print(queue)\n",
    "        x = x.split()\n",
    "        if x[0] == 'U':\n",
    "            if len(queue) > 1:\n",
    "                m = min(-r, int(x[1]))\n",
    "                queue.rotate(m)\n",
    "                r += m\n",
    "                    \n",
    "        elif x[0] == 'D':\n",
    "            if len(queue) > 1:\n",
    "                m = min(n+r-1, int(x[1]))\n",
    "                queue.rotate(-m)\n",
    "                r -= m\n",
    "        elif x[0] == 'C':\n",
    "            if len(queue) == 1:\n",
    "                q = queue.popleft()\n",
    "                tmp.append(q)\n",
    "                answer[q] = 'X'\n",
    "            else:\n",
    "                if queue[0] > queue[1]:\n",
    "                    q = queue.popleft()\n",
    "                    tmp.append(q)\n",
    "                    answer[q] = 'X'\n",
    "                    queue.rotate(1)\n",
    "                    r += 1\n",
    "                else:\n",
    "                    q = queue.popleft()\n",
    "                    tmp.append(q)\n",
    "                    answer[q] = 'X'\n",
    "            n -= 1\n",
    "        elif x[0] == 'Z':\n",
    "            if len(queue) == 1:\n",
    "                if queue[0] > tmp[-1]:\n",
    "                    t = tmp.pop()\n",
    "                    queue.appendleft(t)\n",
    "                    answer[t] = 'O'\n",
    "                else:\n",
    "                    t = tmp.pop()\n",
    "                    queue.append(t)\n",
    "                    answer[t] = 'O'\n",
    "            elif len(queue) == 0:\n",
    "                    t = tmp.pop()\n",
    "                    queue.appendleft(t)\n",
    "                    answer[t] = 'O'\n",
    "            else:\n",
    "                if tmp[-1] > max(queue):\n",
    "                    index = queue.index(max(queue))\n",
    "                    t = tmp.pop()\n",
    "                    queue.insert(index + 1, t)\n",
    "                    answer[t] = 'O'\n",
    "                elif tmp[-1] < min(queue):\n",
    "                    index = queue.index(min(queue))\n",
    "                    if index == 0:\n",
    "                        t = tmp.pop()\n",
    "                        queue.append(t)\n",
    "                        answer[t] = 'O'\n",
    "                    else:\n",
    "                        t = tmp.pop()\n",
    "                        queue.insert(index, t)\n",
    "                        answer[t] = 'O'\n",
    "                else:\n",
    "                    if queue[-1] < tmp[-1] < queue[0]:\n",
    "                        t = tmp.pop()\n",
    "                        queue.append(t)\n",
    "                        answer[t] = 'O'\n",
    "                    else:\n",
    "                        for i in range(len(queue) - 1):\n",
    "                            if queue[i] < tmp[-1] < queue[i+1]:\n",
    "                                t = tmp.pop()\n",
    "                                queue.insert(i+1, t)\n",
    "                                answer[t] = 'O'\n",
    "                                break\n",
    "            n += 1\n",
    "\n",
    "    return ''.join(answer)"
   ]
  },
  {
   "cell_type": "code",
   "execution_count": 186,
   "id": "6235038f",
   "metadata": {},
   "outputs": [],
   "source": [
    "a = [\"C\", \"Z\"] * 100000"
   ]
  },
  {
   "cell_type": "code",
   "execution_count": 187,
   "id": "8cf15d58",
   "metadata": {},
   "outputs": [
    {
     "ename": "KeyboardInterrupt",
     "evalue": "",
     "output_type": "error",
     "traceback": [
      "\u001b[0;31m---------------------------------------------------------------------------\u001b[0m",
      "\u001b[0;31mKeyboardInterrupt\u001b[0m                         Traceback (most recent call last)",
      "\u001b[0;32m/var/folders/h4/qkygjbx150l41hr_cmr5wpt80000gn/T/ipykernel_28391/3074898132.py\u001b[0m in \u001b[0;36m<module>\u001b[0;34m\u001b[0m\n\u001b[0;32m----> 1\u001b[0;31m \u001b[0msolution\u001b[0m\u001b[0;34m(\u001b[0m\u001b[0;36m1000000\u001b[0m\u001b[0;34m,\u001b[0m \u001b[0;36m0\u001b[0m\u001b[0;34m,\u001b[0m \u001b[0ma\u001b[0m\u001b[0;34m)\u001b[0m\u001b[0;34m\u001b[0m\u001b[0;34m\u001b[0m\u001b[0m\n\u001b[0m",
      "\u001b[0;32m/var/folders/h4/qkygjbx150l41hr_cmr5wpt80000gn/T/ipykernel_28391/2798024907.py\u001b[0m in \u001b[0;36msolution\u001b[0;34m(n, k, cmd)\u001b[0m\n\u001b[1;32m     62\u001b[0m                     \u001b[0mqueue\u001b[0m\u001b[0;34m.\u001b[0m\u001b[0minsert\u001b[0m\u001b[0;34m(\u001b[0m\u001b[0mindex\u001b[0m \u001b[0;34m+\u001b[0m \u001b[0;36m1\u001b[0m\u001b[0;34m,\u001b[0m \u001b[0mt\u001b[0m\u001b[0;34m)\u001b[0m\u001b[0;34m\u001b[0m\u001b[0;34m\u001b[0m\u001b[0m\n\u001b[1;32m     63\u001b[0m                     \u001b[0manswer\u001b[0m\u001b[0;34m[\u001b[0m\u001b[0mt\u001b[0m\u001b[0;34m]\u001b[0m \u001b[0;34m=\u001b[0m \u001b[0;34m'O'\u001b[0m\u001b[0;34m\u001b[0m\u001b[0;34m\u001b[0m\u001b[0m\n\u001b[0;32m---> 64\u001b[0;31m                 \u001b[0;32melif\u001b[0m \u001b[0mtmp\u001b[0m\u001b[0;34m[\u001b[0m\u001b[0;34m-\u001b[0m\u001b[0;36m1\u001b[0m\u001b[0;34m]\u001b[0m \u001b[0;34m<\u001b[0m \u001b[0mmin\u001b[0m\u001b[0;34m(\u001b[0m\u001b[0mqueue\u001b[0m\u001b[0;34m)\u001b[0m\u001b[0;34m:\u001b[0m\u001b[0;34m\u001b[0m\u001b[0;34m\u001b[0m\u001b[0m\n\u001b[0m\u001b[1;32m     65\u001b[0m                     \u001b[0mindex\u001b[0m \u001b[0;34m=\u001b[0m \u001b[0mqueue\u001b[0m\u001b[0;34m.\u001b[0m\u001b[0mindex\u001b[0m\u001b[0;34m(\u001b[0m\u001b[0mmin\u001b[0m\u001b[0;34m(\u001b[0m\u001b[0mqueue\u001b[0m\u001b[0;34m)\u001b[0m\u001b[0;34m)\u001b[0m\u001b[0;34m\u001b[0m\u001b[0;34m\u001b[0m\u001b[0m\n\u001b[1;32m     66\u001b[0m                     \u001b[0;32mif\u001b[0m \u001b[0mindex\u001b[0m \u001b[0;34m==\u001b[0m \u001b[0;36m0\u001b[0m\u001b[0;34m:\u001b[0m\u001b[0;34m\u001b[0m\u001b[0;34m\u001b[0m\u001b[0m\n",
      "\u001b[0;31mKeyboardInterrupt\u001b[0m: "
     ]
    }
   ],
   "source": [
    "solution(1000000, 0, a)"
   ]
  },
  {
   "cell_type": "code",
   "execution_count": 197,
   "id": "ec9e7910",
   "metadata": {},
   "outputs": [
    {
     "name": "stdout",
     "output_type": "stream",
     "text": [
      "-2\n",
      "deque([2, 3, 4, 5, 6, 7, 0, 1])\n",
      "-4\n",
      "deque([4, 5, 6, 7, 0, 1, 2, 3])\n",
      "-4\n",
      "deque([5, 6, 7, 0, 1, 2, 3])\n",
      "-1\n",
      "deque([1, 2, 3, 5, 6, 7, 0])\n",
      "-1\n",
      "deque([2, 3, 5, 6, 7, 0])\n",
      "-5\n",
      "deque([7, 0, 2, 3, 5, 6])\n",
      "-5\n",
      "deque([6, 0, 2, 3, 5])\n",
      "-3\n",
      "deque([3, 5, 6, 0, 2])\n",
      "-3\n",
      "deque([3, 5, 6, 7, 0, 2])\n",
      "-3\n",
      "deque([3, 5, 6, 7, 0, 1, 2])\n",
      "-2\n",
      "deque([2, 3, 5, 6, 7, 0, 1])\n"
     ]
    },
    {
     "data": {
      "text/plain": [
       "'OOXOXOOO'"
      ]
     },
     "execution_count": 197,
     "metadata": {},
     "output_type": "execute_result"
    }
   ],
   "source": [
    "solution(8, 2, [\"D 2\",\"C\",\"U 3\",\"C\",\"D 4\",\"C\",\"U 2\",\"Z\",\"Z\",\"U 1\",\"C\"])"
   ]
  },
  {
   "cell_type": "code",
   "execution_count": 196,
   "id": "a15ab54e",
   "metadata": {},
   "outputs": [
    {
     "name": "stdout",
     "output_type": "stream",
     "text": [
      "0\n",
      "deque([0, 1, 2, 3, 4])\n",
      "0\n",
      "deque([1, 2, 3, 4])\n",
      "-1\n",
      "deque([2, 3, 4, 1])\n",
      "-1\n",
      "deque([3, 4, 1])\n"
     ]
    },
    {
     "data": {
      "text/plain": [
       "'XOXOO'"
      ]
     },
     "execution_count": 196,
     "metadata": {},
     "output_type": "execute_result"
    }
   ],
   "source": [
    "solution(5,0,[\"C\",\"D 1\",\"C\", \"D 1\"])"
   ]
  },
  {
   "cell_type": "code",
   "execution_count": null,
   "id": "b52859f9",
   "metadata": {},
   "outputs": [],
   "source": [
    "# 효율성 꽝\n",
    "\n",
    "# 현재 칸을 무조건 inxex 0으로 맞추기 (U: 시계방향)\n",
    "from collections import deque\n",
    "\n",
    "def solution(n, k, cmd):\n",
    "    answer = ['O' for _ in range(n)]\n",
    "    \n",
    "    queue = deque([i for i in range(n)])\n",
    "    \n",
    "    queue.rotate(-k)\n",
    "    tmp = []\n",
    "    for x in cmd:\n",
    "        x = x.split()\n",
    "        if x[0] == 'U':\n",
    "            if len(queue) > 1:\n",
    "                cnt = 0\n",
    "                while True:\n",
    "                    if queue[-1] > queue[0] or cnt == int(x[1]):\n",
    "                        break\n",
    "                    else:\n",
    "                        queue.rotate(1)\n",
    "                        cnt += 1\n",
    "        elif x[0] == 'D':\n",
    "            if len(queue) > 1:\n",
    "                cnt = 0\n",
    "                while True:\n",
    "                    if queue[0] > queue[1] or cnt == int(x[1]):\n",
    "                        break\n",
    "                    else:\n",
    "                        queue.rotate(-1)\n",
    "                        cnt += 1\n",
    "        elif x[0] == 'C':\n",
    "            if len(queue) == 1:\n",
    "                q = queue.popleft()\n",
    "                tmp.append(q)\n",
    "                answer[q] = 'X'\n",
    "            else:\n",
    "                if queue[0] > queue[1]:\n",
    "                    q = queue.popleft()\n",
    "                    tmp.append(q)\n",
    "                    answer[q] = 'X'\n",
    "                    queue.rotate(1)\n",
    "                else:\n",
    "                    q = queue.popleft()\n",
    "                    tmp.append(q)\n",
    "                    answer[q] = 'X'\n",
    "        elif x[0] == 'Z':\n",
    "            if len(queue) == 1:\n",
    "                if queue[0] > tmp[-1]:\n",
    "                    t = tmp.pop()\n",
    "                    queue.appendleft(t)\n",
    "                    answer[t] = 'O'\n",
    "                else:\n",
    "                    t = tmp.pop()\n",
    "                    queue.append(t)\n",
    "                    answer[t] = 'O'\n",
    "            elif len(queue) == 0:\n",
    "                    t = tmp.pop()\n",
    "                    queue.appendleft(t)\n",
    "                    answer[t] = 'O'\n",
    "            else:\n",
    "                if tmp[-1] > max(queue):\n",
    "                    index = queue.index(max(queue))\n",
    "                    t = tmp.pop()\n",
    "                    queue.insert(index + 1, t)\n",
    "                    answer[t] = 'O'\n",
    "                elif tmp[-1] < min(queue):\n",
    "                    index = queue.index(min(queue))\n",
    "                    if index == 0:\n",
    "                        t = tmp.pop()\n",
    "                        queue.append(t)\n",
    "                        answer[t] = 'O'\n",
    "                    else:\n",
    "                        t = tmp.pop()\n",
    "                        queue.insert(index, t)\n",
    "                        answer[t] = 'O'\n",
    "                else:\n",
    "                    if queue[-1] < tmp[-1] < queue[0]:\n",
    "                        t = tmp.pop()\n",
    "                        queue.append(t)\n",
    "                        answer[t] = 'O'\n",
    "                    else:\n",
    "                        for i in range(len(queue) - 1):\n",
    "                            if queue[i] < tmp[-1] < queue[i+1]:\n",
    "                                t = tmp.pop()\n",
    "                                queue.insert(i+1, t)\n",
    "                                answer[t] = 'O'\n",
    "                                break\n",
    "\n",
    "    return ''.join(answer)"
   ]
  },
  {
   "cell_type": "markdown",
   "id": "a4496b31",
   "metadata": {},
   "source": [
    "# linked list로 맞음"
   ]
  },
  {
   "cell_type": "code",
   "execution_count": 244,
   "id": "4544080b",
   "metadata": {},
   "outputs": [],
   "source": [
    "def solution(n, k, cmd):\n",
    "    answer = ['O' for _ in range(n)]\n",
    "    \n",
    "    linked_list = dict()\n",
    "    \n",
    "    linked_list[0] = [n-1, 1]\n",
    "    for i in range(1, n-1):\n",
    "        linked_list[i] = [i-1, i+1]\n",
    "    linked_list[n-1] = [n-2, 0]\n",
    "    print(linked_list)\n",
    "    \n",
    "    index_now = k\n",
    "    tmp = []\n",
    "\n",
    "    for x in cmd:\n",
    "        x = x.split()\n",
    "        if x[0] == 'U':\n",
    "            cnt = 0\n",
    "            while True:\n",
    "                if cnt == int(x[1]) or linked_list[index_now][0] > linked_list[index_now][1] > index_now:\n",
    "                    break\n",
    "                else:\n",
    "                    index_now = linked_list[index_now][0]\n",
    "                    cnt += 1\n",
    "        elif x[0] == 'D':\n",
    "            cnt = 0\n",
    "            while True:\n",
    "                if cnt == int(x[1]) or index_now > linked_list[index_now][0] > linked_list[index_now][1]:\n",
    "                    break\n",
    "                else:\n",
    "                    index_now = linked_list[index_now][1]\n",
    "                    cnt += 1\n",
    "        elif x[0] == 'C':\n",
    "            linked_list[linked_list[index_now][0]][1] = linked_list[index_now][1]\n",
    "            linked_list[linked_list[index_now][1]][0] = linked_list[index_now][0]\n",
    "            tmp.append(index_now)\n",
    "            answer[index_now] = 'X'\n",
    "            if index_now < linked_list[index_now][1]:\n",
    "                index_now = linked_list[index_now][1]\n",
    "            else:\n",
    "                index_now = linked_list[index_now][0]\n",
    "            \n",
    "        elif x[0] == 'Z':\n",
    "            t = tmp.pop()\n",
    "            linked_list[linked_list[t][0]][1] = t\n",
    "            linked_list[linked_list[t][1]][0] = t\n",
    "            answer[t] = 'O'\n",
    "        print(linked_list)\n",
    "        print(index_now)\n",
    "\n",
    "    return ''.join(answer)"
   ]
  },
  {
   "cell_type": "code",
   "execution_count": 245,
   "id": "d1997a8a",
   "metadata": {},
   "outputs": [
    {
     "name": "stdout",
     "output_type": "stream",
     "text": [
      "{0: [7, 1], 1: [0, 2], 2: [1, 3], 3: [2, 4], 4: [3, 5], 5: [4, 6], 6: [5, 7], 7: [6, 0]}\n",
      "{0: [7, 1], 1: [0, 2], 2: [1, 3], 3: [2, 4], 4: [3, 5], 5: [4, 6], 6: [5, 7], 7: [6, 0]}\n",
      "4\n",
      "{0: [7, 1], 1: [0, 2], 2: [1, 3], 3: [2, 5], 4: [3, 5], 5: [3, 6], 6: [5, 7], 7: [6, 0]}\n",
      "5\n",
      "{0: [7, 1], 1: [0, 2], 2: [1, 3], 3: [2, 5], 4: [3, 5], 5: [3, 6], 6: [5, 7], 7: [6, 0]}\n",
      "1\n",
      "{0: [7, 2], 1: [0, 2], 2: [0, 3], 3: [2, 5], 4: [3, 5], 5: [3, 6], 6: [5, 7], 7: [6, 0]}\n",
      "2\n",
      "{0: [7, 2], 1: [0, 2], 2: [0, 3], 3: [2, 5], 4: [3, 5], 5: [3, 6], 6: [5, 7], 7: [6, 0]}\n",
      "7\n",
      "{0: [6, 2], 1: [0, 2], 2: [0, 3], 3: [2, 5], 4: [3, 5], 5: [3, 6], 6: [5, 0], 7: [6, 0]}\n",
      "6\n",
      "{0: [6, 2], 1: [0, 2], 2: [0, 3], 3: [2, 5], 4: [3, 5], 5: [3, 6], 6: [5, 0], 7: [6, 0]}\n",
      "3\n",
      "{0: [7, 2], 1: [0, 2], 2: [0, 3], 3: [2, 5], 4: [3, 5], 5: [3, 6], 6: [5, 7], 7: [6, 0]}\n",
      "3\n",
      "{0: [7, 1], 1: [0, 2], 2: [1, 3], 3: [2, 5], 4: [3, 5], 5: [3, 6], 6: [5, 7], 7: [6, 0]}\n",
      "3\n",
      "{0: [7, 1], 1: [0, 2], 2: [1, 3], 3: [2, 5], 4: [3, 5], 5: [3, 6], 6: [5, 7], 7: [6, 0]}\n",
      "2\n",
      "{0: [7, 1], 1: [0, 3], 2: [1, 3], 3: [1, 5], 4: [3, 5], 5: [3, 6], 6: [5, 7], 7: [6, 0]}\n",
      "3\n"
     ]
    },
    {
     "data": {
      "text/plain": [
       "'OOXOXOOO'"
      ]
     },
     "execution_count": 245,
     "metadata": {},
     "output_type": "execute_result"
    }
   ],
   "source": [
    "solution(8, 2, [\"D 2\",\"C\",\"U 3\",\"C\",\"D 4\",\"C\",\"U 2\",\"Z\",\"Z\",\"U 1\",\"C\"])"
   ]
  },
  {
   "cell_type": "code",
   "execution_count": 235,
   "id": "dcfca25a",
   "metadata": {},
   "outputs": [
    {
     "name": "stdout",
     "output_type": "stream",
     "text": [
      "{0: [7, 1], 1: [0, 2], 2: [1, 3], 3: [2, 4], 4: [3, 5], 5: [4, 6], 6: [5, 7], 7: [6, 0]}\n",
      "{0: [7, 1], 1: [0, 2], 2: [1, 3], 3: [2, 4], 4: [3, 5], 5: [4, 6], 6: [5, 7], 7: [6, 0]}\n",
      "4\n",
      "{0: [7, 1], 1: [0, 2], 2: [1, 3], 3: [2, 5], 4: [3, 5], 5: [3, 6], 6: [5, 7], 7: [6, 0]}\n",
      "4\n",
      "{0: [7, 1], 1: [0, 2], 2: [1, 3], 3: [2, 5], 4: [3, 5], 5: [3, 6], 6: [5, 7], 7: [6, 0]}\n",
      "1\n",
      "{0: [7, 2], 1: [0, 2], 2: [0, 3], 3: [2, 5], 4: [3, 5], 5: [3, 6], 6: [5, 7], 7: [6, 0]}\n",
      "1\n",
      "{0: [7, 2], 1: [0, 2], 2: [0, 3], 3: [2, 5], 4: [3, 5], 5: [3, 6], 6: [5, 7], 7: [6, 0]}\n",
      "6\n",
      "{0: [7, 2], 1: [0, 2], 2: [0, 3], 3: [2, 5], 4: [3, 5], 5: [3, 7], 6: [5, 7], 7: [5, 0]}\n",
      "6\n",
      "{0: [7, 2], 1: [0, 2], 2: [0, 3], 3: [2, 5], 4: [3, 5], 5: [3, 7], 6: [5, 7], 7: [5, 0]}\n",
      "3\n",
      "{0: [7, 2], 1: [0, 2], 2: [0, 3], 3: [2, 5], 4: [3, 5], 5: [3, 6], 6: [5, 7], 7: [6, 0]}\n",
      "3\n",
      "{0: [7, 1], 1: [0, 2], 2: [1, 3], 3: [2, 5], 4: [3, 5], 5: [3, 6], 6: [5, 7], 7: [6, 0]}\n",
      "3\n"
     ]
    },
    {
     "data": {
      "text/plain": [
       "'OOOOXOOO'"
      ]
     },
     "execution_count": 235,
     "metadata": {},
     "output_type": "execute_result"
    }
   ],
   "source": [
    "solution(8, 2, [\"D 2\",\"C\",\"U 3\",\"C\",\"D 4\",\"C\",\"U 2\",\"Z\",\"Z\"])"
   ]
  },
  {
   "cell_type": "code",
   "execution_count": 243,
   "id": "42351100",
   "metadata": {},
   "outputs": [
    {
     "name": "stdout",
     "output_type": "stream",
     "text": [
      "{0: [5, 1], 1: [0, 2], 2: [1, 3], 3: [2, 4], 4: [3, 5], 5: [4, 0]}\n",
      "{0: [5, 2], 1: [0, 2], 2: [0, 3], 3: [2, 4], 4: [3, 5], 5: [4, 0]}\n",
      "2\n",
      "{0: [5, 2], 1: [0, 2], 2: [0, 3], 3: [2, 4], 4: [3, 5], 5: [4, 0]}\n",
      "0\n",
      "{0: [5, 2], 1: [0, 2], 2: [5, 3], 3: [2, 4], 4: [3, 5], 5: [4, 2]}\n",
      "2\n"
     ]
    },
    {
     "data": {
      "text/plain": [
       "'XXOOOO'"
      ]
     },
     "execution_count": 243,
     "metadata": {},
     "output_type": "execute_result"
    }
   ],
   "source": [
    "solution(6, 1, [\"C\", \"U 1\", \"C\"])"
   ]
  },
  {
   "cell_type": "code",
   "execution_count": null,
   "id": "adc679ce",
   "metadata": {},
   "outputs": [],
   "source": []
  }
 ],
 "metadata": {
  "kernelspec": {
   "display_name": "Python 3 (ipykernel)",
   "language": "python",
   "name": "python3"
  },
  "language_info": {
   "codemirror_mode": {
    "name": "ipython",
    "version": 3
   },
   "file_extension": ".py",
   "mimetype": "text/x-python",
   "name": "python",
   "nbconvert_exporter": "python",
   "pygments_lexer": "ipython3",
   "version": "3.9.6"
  }
 },
 "nbformat": 4,
 "nbformat_minor": 5
}
