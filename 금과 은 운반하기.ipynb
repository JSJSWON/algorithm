{
 "cells": [
  {
   "cell_type": "code",
   "execution_count": 158,
   "id": "be79e457",
   "metadata": {},
   "outputs": [],
   "source": [
    "# # 틀림\n",
    "\n",
    "# def solution(a, b, g, s, w, t):\n",
    "#     answer = []\n",
    "    \n",
    "#     wt = sorted(list(zip(w, t)), reverse=True, key=lambda x: x[0]/x[1])\n",
    "# #     print(wt)\n",
    "#     index = 0\n",
    "#     ans = 0\n",
    "#     while True:\n",
    "# #         print([a, b])\n",
    "# #         print(answer)\n",
    "# #         print(index) \n",
    "# #         print([g,s])\n",
    "# #         print(ans)\n",
    "#         if a <= 0 and b <= 0:\n",
    "#             return max(answer)\n",
    "\n",
    "#         if g[index] >= a and s[index] >= b:\n",
    "#             if a >= w[index] and b >= w[index]:\n",
    "#                 a -= w[index]\n",
    "#                 g[index] -= w[index]\n",
    "#                 ans += t[index] * 2\n",
    "#             else:\n",
    "#                 if a >= w[index]:\n",
    "#                     a -= w[index]\n",
    "#                     if a <= 0 and b <= 0:\n",
    "#                         answer.append(ans + t[index])\n",
    "#                         return max(answer)\n",
    "#                     g[index] -= w[index]\n",
    "#                     ans += t[index] * 2\n",
    "#                 elif b >= w[index]:\n",
    "#                     b -= w[index]\n",
    "#                     if a <= 0 and b <= 0:\n",
    "#                         answer.append(ans + t[index])\n",
    "#                         return max(answer)\n",
    "#                     s[index] -= w[index]\n",
    "#                     ans += t[index] * 2\n",
    "#                 else:\n",
    "#                     answer.append(ans + t[index])\n",
    "#                     return max(answer)\n",
    "#         else: \n",
    "#             if g[index] >= a: # s[index] < b -> 얠 다 써야지\n",
    "#                 if w[index] <= s[index]:\n",
    "#                     b -= w[index]\n",
    "#                     s[index] -= w[index]\n",
    "#                     ans += t[index] * 2\n",
    "#                 else:\n",
    "#                     b -= s[index]\n",
    "#                     s[index] -= s[index]\n",
    "                    \n",
    "#                     a -= min(w[index]-s[index], g[index])\n",
    "#                     g[index] -= min(w[index]-s[index], g[index])\n",
    "#                     if a <= 0 and b <= 0:\n",
    "#                         answer.append(ans + t[index])\n",
    "#                         return max(answer)\n",
    "#                     else:\n",
    "#                         ans += t[index] * 2\n",
    "#                         if g[index] <= 0:\n",
    "#                             index += 1\n",
    "#                             answer.append(ans)\n",
    "#                             ans = 0\n",
    "\n",
    "#             elif s[index] >= b:\n",
    "#                 if w[index] <= g[index]:\n",
    "#                     a -= w[index]\n",
    "#                     g[index] -= w[index]\n",
    "#                     ans += t[index] * 2\n",
    "#                 else:\n",
    "#                     a -= g[index]\n",
    "#                     g[index] -= g[index]\n",
    "                    \n",
    "#                     b -= min(w[index]-g[index], s[index])\n",
    "#                     s[index] -= min(w[index]-g[index], s[index])\n",
    "#                     if a <= 0 and b <= 0:\n",
    "#                         answer.append(ans + t[index])\n",
    "#                         return max(answer)\n",
    "#                     else:\n",
    "#                         ans += t[index] * 2\n",
    "#                         if s[index] <= 0:\n",
    "#                             index += 1\n",
    "#                             answer.append(ans)\n",
    "#                             ans = 0\n",
    "                \n",
    "#             else: # g[index] < a and s[index] < b\n",
    "#                 if g[index] + s[index] <= w[index]:\n",
    "#                     a -= g[index]\n",
    "#                     b -= s[index]\n",
    "#                     g[index] -= g[index]\n",
    "#                     s[index] -= s[index]\n",
    "#                     ans += t[index] * 2\n",
    "#                     index += 1\n",
    "#                     answer.append(ans)\n",
    "#                     ans = 0\n",
    "#                 else:\n",
    "#                     wt.sort(reverse=True, key=lambda x: x[0]/x[1])\n",
    "#                     index = 0\n",
    "            \n",
    "# #     while True:\n",
    "# #         if a <= 0 and b <= 0:\n",
    "# #             return answer\n",
    "# #         else:\n",
    "# #             m = w\n",
    "# #             if g[index] + s[index] <= w:\n",
    "# #                 a -= g[index]\n",
    "# #                 b -= s[index]\n",
    "# #                 if a <= 0 and b <= 0:\n",
    "# #                     return answer + t[index]\n",
    "# #                 else:\n",
    "# #                     ans += t[index] * 2\n",
    "# #                     index += 1\n",
    "# #             elif g[index] + s[index] > w:\n",
    "# #                 if g[index] >= 0 and s[index] >= 0:\n",
    "# #                     if g[index] <= w and s[index] <= w:\n",
    "                        \n",
    "# #                     elif g[index] <= w and s[index] > w:\n",
    "# #         if min(g[index]+s[index], w[index])\n",
    "# #     if g[index] > 0 and s[index] > 0:\n",
    "# #         if a \n",
    "    \n",
    "    \n",
    "#     return answer"
   ]
  },
  {
   "cell_type": "code",
   "execution_count": 159,
   "id": "2c3380bb",
   "metadata": {},
   "outputs": [
    {
     "data": {
      "text/plain": [
       "50"
      ]
     },
     "execution_count": 159,
     "metadata": {},
     "output_type": "execute_result"
    }
   ],
   "source": [
    "solution(10, 10, [100], [100], [7], [10])"
   ]
  },
  {
   "cell_type": "code",
   "execution_count": 160,
   "id": "7ef0f95f",
   "metadata": {},
   "outputs": [
    {
     "data": {
      "text/plain": [
       "499"
      ]
     },
     "execution_count": 160,
     "metadata": {},
     "output_type": "execute_result"
    }
   ],
   "source": [
    "solution(90, 500, [70, 70, 0], [0,0,500], [100,100,2], [4,8,1])"
   ]
  },
  {
   "cell_type": "markdown",
   "id": "ed9f6852",
   "metadata": {},
   "source": [
    "# 정답"
   ]
  },
  {
   "cell_type": "code",
   "execution_count": 161,
   "id": "219bf58c",
   "metadata": {},
   "outputs": [],
   "source": [
    "# 시간을 기준으로 최대 얼마나 운반할 수 있는지를 계산\n",
    "# 맞음\n",
    "\n",
    "def solution(a, b, g, s, w, t):\n",
    "    answer = 4 * (10**9) * (10**5)\n",
    "    \n",
    "    start = 0\n",
    "    end = 4 * (10**9) * (10**5)\n",
    "    \n",
    "    while True:\n",
    "        if start > end:\n",
    "            return answer\n",
    "        else:\n",
    "            mid = (start + end) // 2\n",
    "            current_gold = 0\n",
    "            current_silver = 0\n",
    "            total = 0\n",
    "            \n",
    "            \n",
    "            for i, time in enumerate(t):\n",
    "                cnt = (mid - time) // (time * 2) + 1\n",
    "                \n",
    "                current_gold += min(cnt * w[i], g[i]) # 금만 펐을 때 최대 금의 양\n",
    "                current_silver += min(cnt * w[i], s[i]) # 은만 펐을 때 최대 은의 양\n",
    "                total += min(cnt * w[i], g[i] + s[i]) # 최대로 팠을 때의 양\n",
    "                \n",
    "            if current_gold >= a and current_silver >= b and total >= a + b:\n",
    "                end = mid -1\n",
    "                answer = min(answer, mid)\n",
    "            else:\n",
    "                start = mid + 1"
   ]
  },
  {
   "cell_type": "code",
   "execution_count": 162,
   "id": "d68a30b2",
   "metadata": {},
   "outputs": [
    {
     "data": {
      "text/plain": [
       "50"
      ]
     },
     "execution_count": 162,
     "metadata": {},
     "output_type": "execute_result"
    }
   ],
   "source": [
    "solution(10, 10, [100], [100], [7], [10])"
   ]
  },
  {
   "cell_type": "code",
   "execution_count": 163,
   "id": "4d948fe7",
   "metadata": {},
   "outputs": [
    {
     "data": {
      "text/plain": [
       "499"
      ]
     },
     "execution_count": 163,
     "metadata": {},
     "output_type": "execute_result"
    }
   ],
   "source": [
    "solution(90, 500, [70, 70, 0], [0,0,500], [100,100,2], [4,8,1])"
   ]
  },
  {
   "cell_type": "code",
   "execution_count": 119,
   "id": "6bf64546",
   "metadata": {},
   "outputs": [
    {
     "name": "stdout",
     "output_type": "stream",
     "text": [
      "(0, 'a')\n",
      "(1, 'b')\n",
      "(2, 'c')\n"
     ]
    }
   ],
   "source": [
    "a=['a','b','c']\n",
    "\n",
    "for x in enumerate(a): # 그냥 인덱싱만 해줄 때\n",
    "    print(x)"
   ]
  },
  {
   "cell_type": "code",
   "execution_count": 124,
   "id": "c0c3b7ba",
   "metadata": {},
   "outputs": [
    {
     "name": "stdout",
     "output_type": "stream",
     "text": [
      "0 a\n",
      "1 b\n",
      "4 c\n"
     ]
    }
   ],
   "source": [
    "for i, x in enumerate(a): # i를 쓰고 싶을 때\n",
    "    print(i**2, x)"
   ]
  },
  {
   "cell_type": "code",
   "execution_count": 127,
   "id": "d646f121",
   "metadata": {},
   "outputs": [
    {
     "name": "stdout",
     "output_type": "stream",
     "text": [
      "(100, 'a')\n",
      "(101, 'b')\n",
      "(102, 'c')\n"
     ]
    }
   ],
   "source": [
    "for x in enumerate(a, start = 100): # 시작 번호 바꾸고 싶을 때\n",
    "    print(x)"
   ]
  },
  {
   "cell_type": "code",
   "execution_count": null,
   "id": "28934751",
   "metadata": {},
   "outputs": [],
   "source": []
  }
 ],
 "metadata": {
  "kernelspec": {
   "display_name": "Python 3 (ipykernel)",
   "language": "python",
   "name": "python3"
  },
  "language_info": {
   "codemirror_mode": {
    "name": "ipython",
    "version": 3
   },
   "file_extension": ".py",
   "mimetype": "text/x-python",
   "name": "python",
   "nbconvert_exporter": "python",
   "pygments_lexer": "ipython3",
   "version": "3.9.6"
  }
 },
 "nbformat": 4,
 "nbformat_minor": 5
}
