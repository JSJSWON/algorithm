{
 "cells": [
  {
   "cell_type": "code",
   "execution_count": null,
   "id": "4e15d072",
   "metadata": {},
   "outputs": [],
   "source": [
    "# 겹치는 시간을 최소화하기 -> 조금 겹치는 것을 우선으로 x"
   ]
  },
  {
   "cell_type": "code",
   "execution_count": 24,
   "id": "a884ab1f",
   "metadata": {},
   "outputs": [],
   "source": [
    "def solution(jobs):\n",
    "    answer = 0\n",
    "    \n",
    "    jobs.sort(key=lambda x: x[0] + x[1])\n",
    "    print(jobs)\n",
    "    now = 0\n",
    "    for x in jobs:\n",
    "        print(answer)\n",
    "        if x[0] >= now:\n",
    "            answer += x[1]\n",
    "            now  += x[1]\n",
    "        else:\n",
    "            answer += now - x[0] + x[1]\n",
    "            now += x[1]\n",
    "    return answer"
   ]
  },
  {
   "cell_type": "code",
   "execution_count": 31,
   "id": "dffb5d5b",
   "metadata": {},
   "outputs": [
    {
     "name": "stdout",
     "output_type": "stream",
     "text": [
      "[[0, 3], [1, 3], [2, 3]]\n",
      "0\n",
      "3\n",
      "8\n"
     ]
    },
    {
     "data": {
      "text/plain": [
       "15"
      ]
     },
     "execution_count": 31,
     "metadata": {},
     "output_type": "execute_result"
    }
   ],
   "source": [
    "solution([[0, 3], [1, 3], [2, 3]])"
   ]
  },
  {
   "cell_type": "code",
   "execution_count": 58,
   "id": "da628857",
   "metadata": {},
   "outputs": [],
   "source": [
    "def solution(jobs):\n",
    "    answer = 0\n",
    "    \n",
    "    time = []\n",
    "    for i in range(len(jobs)):\n",
    "        cnt = []\n",
    "        for j in range(len(jobs)):\n",
    "            if i != j:\n",
    "                if jobs[i][0] <= jobs[j][0] <= jobs[i][0] + jobs[i][1] and \\\n",
    "                jobs[i][0] <= jobs[j][0] + jobs[j][1] <= jobs[i][0] + jobs[i][1]:\n",
    "                    cnt.append(jobs[j][1])\n",
    "                elif jobs[j][0] <= jobs[i][0] <= jobs[j][0] + jobs[j][1] and \\\n",
    "                jobs[j][0] <= jobs[i][0] + jobs[i][1] <= jobs[j][0] + jobs[j][1]:\n",
    "                    cnt.append(jobs[i][1])\n",
    "                else:\n",
    "                    if jobs[i][0] <= jobs[j][0] <= jobs[i][0] + jobs[i][1]:\n",
    "                        cnt.append(jobs[i][0] + jobs[i][1] - jobs[j][0])\n",
    "                    elif jobs[i][0] <= jobs[j][0] + jobs[j][1] <= jobs[i][0] + jobs[i][1]:\n",
    "                        cnt.append(jobs[j][0] + jobs[j][1] - jobs[i][0])\n",
    "                    else:\n",
    "                        cnt.append(0)\n",
    "            else:\n",
    "                cnt.append(0)\n",
    "        time.append([i, cnt])\n",
    "    time.sort(key=lambda x: (-sum(x[1]), -jobs[x[0]][1], -jobs[x[0]][0]))\n",
    "    \n",
    "    \n",
    "    \n",
    "    now = 0\n",
    "    while True:\n",
    "        if jobs[time[-1][0]][0] > now:\n",
    "            time.sort(key=lambda x: -x[0])\n",
    "        t = time.pop()\n",
    "#         print(answer)\n",
    "#         print(now)\n",
    "#         print('-----')\n",
    "        if jobs[t[0]][0] >= now:\n",
    "            answer += jobs[t[0]][1]\n",
    "            now  = jobs[t[0]][0] + jobs[t[0]][1]\n",
    "        else:\n",
    "            answer += now - jobs[t[0]][0] + jobs[t[0]][1]\n",
    "            now += jobs[t[0]][1]\n",
    "        if len(time) == 0:\n",
    "            break\n",
    "        else:\n",
    "            for y in time:\n",
    "                y[1][t[0]] = 0\n",
    "            time.sort(key=lambda x: (-sum(x[1]), -jobs[x[0]][1], -jobs[x[0]][0]))        \n",
    "#     print(answer)\n",
    "    return answer // len(jobs)"
   ]
  },
  {
   "cell_type": "code",
   "execution_count": 70,
   "id": "3c5cca58",
   "metadata": {},
   "outputs": [],
   "source": [
    "# 다시\n",
    "\n",
    "import heapq\n",
    "def solution(jobs):\n",
    "    answer = 0\n",
    "    start = -1\n",
    "    cnt = 0\n",
    "    \n",
    "    heap = []\n",
    "    \n",
    "    now = 0\n",
    "    # 지금 시간에 진행할 수 있는 작업들 중에 걸리는 시간이 가장 최소인 것을 구해야함.\n",
    "    while True:\n",
    "        if cnt == len(jobs):\n",
    "            break\n",
    "        for x in jobs:\n",
    "            if start < x[0] <= now:\n",
    "                heapq.heappush(heap, [x[1], x[0]])\n",
    "        print(heap)\n",
    "        \n",
    "        if len(heap) != 0:\n",
    "            current = heapq.heappop(heap)\n",
    "            start = now\n",
    "            now += current[0]\n",
    "            answer += (now - current[1])\n",
    "            cnt += 1\n",
    "        else:\n",
    "            now += 1\n",
    "        \n",
    "            \n",
    "    \n",
    "    \n",
    "    return answer // len(jobs)"
   ]
  },
  {
   "cell_type": "code",
   "execution_count": 71,
   "id": "8e227a3e",
   "metadata": {},
   "outputs": [
    {
     "name": "stdout",
     "output_type": "stream",
     "text": [
      "[[3, 0]]\n",
      "[]\n",
      "[]\n",
      "[[3, 5]]\n"
     ]
    },
    {
     "data": {
      "text/plain": [
       "3"
      ]
     },
     "execution_count": 71,
     "metadata": {},
     "output_type": "execute_result"
    }
   ],
   "source": [
    "solution([[0, 3],[5, 3]])"
   ]
  },
  {
   "cell_type": "code",
   "execution_count": 60,
   "id": "eb812fe1",
   "metadata": {},
   "outputs": [
    {
     "data": {
      "text/plain": [
       "6"
      ]
     },
     "execution_count": 60,
     "metadata": {},
     "output_type": "execute_result"
    }
   ],
   "source": [
    "solution([[0,4],[0,4]])"
   ]
  },
  {
   "cell_type": "code",
   "execution_count": 79,
   "id": "dd2fed70",
   "metadata": {},
   "outputs": [
    {
     "name": "stdout",
     "output_type": "stream",
     "text": [
      "[[0, 3], [4, 1], [5, 3], [4, 4]]\n",
      "[0, 3]\n",
      "[[4, 1], [4, 4], [5, 3]]\n"
     ]
    }
   ],
   "source": [
    "a = [[0, 3], [4, 4], [5, 3], [4, 1]]\n",
    "heapq.heapify(a)\n",
    "print(a)\n",
    "t = heapq.heappop(a)\n",
    "print(t)\n",
    "print(a)"
   ]
  },
  {
   "cell_type": "code",
   "execution_count": 62,
   "id": "24ece9e3",
   "metadata": {},
   "outputs": [
    {
     "data": {
      "text/plain": [
       "5"
      ]
     },
     "execution_count": 62,
     "metadata": {},
     "output_type": "execute_result"
    }
   ],
   "source": [
    "solution([[0, 3], [1, 3], [2, 3]])"
   ]
  },
  {
   "cell_type": "code",
   "execution_count": 63,
   "id": "68ba8b62",
   "metadata": {},
   "outputs": [
    {
     "data": {
      "text/plain": [
       "9"
      ]
     },
     "execution_count": 63,
     "metadata": {},
     "output_type": "execute_result"
    }
   ],
   "source": [
    "solution([[0, 3], [1, 9], [2, 6]])"
   ]
  },
  {
   "cell_type": "code",
   "execution_count": 64,
   "id": "2109d9f1",
   "metadata": {},
   "outputs": [
    {
     "data": {
      "text/plain": [
       "8"
      ]
     },
     "execution_count": 64,
     "metadata": {},
     "output_type": "execute_result"
    }
   ],
   "source": [
    "solution([[0,3],[0,4],[0,9]])"
   ]
  },
  {
   "cell_type": "code",
   "execution_count": 83,
   "id": "fead1cf1",
   "metadata": {},
   "outputs": [
    {
     "name": "stdout",
     "output_type": "stream",
     "text": [
      "[[1, -19], [1, -18], [1, -14], [1, -17], [1, -10], [1, -12], [1, -13], [1, -16], [1, -8], [1, -9], [1, -1], [1, -11], [1, -5], [1, -2], [1, -6], [1, -15], [1, -7], [1, -3], [1, 0], [1, -4]]\n",
      "[[1, -18], [1, -17], [1, -14], [1, -16], [1, -10], [1, -12], [1, -13], [1, -15], [1, -8], [1, -9], [1, -1], [1, -11], [1, -5], [1, -2], [1, -6], [1, -4], [1, -7], [1, -3], [1, 0]]\n",
      "[[1, -17], [1, -16], [1, -14], [1, -15], [1, -10], [1, -12], [1, -13], [1, -7], [1, -8], [1, -9], [1, -1], [1, -11], [1, -5], [1, -2], [1, -6], [1, -4], [1, 0], [1, -3]]\n",
      "[[1, -16], [1, -15], [1, -14], [1, -8], [1, -10], [1, -12], [1, -13], [1, -7], [1, -3], [1, -9], [1, -1], [1, -11], [1, -5], [1, -2], [1, -6], [1, -4], [1, 0]]\n",
      "[[1, -15], [1, -10], [1, -14], [1, -8], [1, -9], [1, -12], [1, -13], [1, -7], [1, -3], [1, 0], [1, -1], [1, -11], [1, -5], [1, -2], [1, -6], [1, -4]]\n",
      "[[1, -14], [1, -10], [1, -13], [1, -8], [1, -9], [1, -12], [1, -6], [1, -7], [1, -3], [1, 0], [1, -1], [1, -11], [1, -5], [1, -2], [1, -4]]\n",
      "[[1, -13], [1, -10], [1, -12], [1, -8], [1, -9], [1, -11], [1, -6], [1, -7], [1, -3], [1, 0], [1, -1], [1, -4], [1, -5], [1, -2]]\n",
      "[[1, -12], [1, -10], [1, -11], [1, -8], [1, -9], [1, -5], [1, -6], [1, -7], [1, -3], [1, 0], [1, -1], [1, -4], [1, -2]]\n",
      "[[1, -11], [1, -10], [1, -6], [1, -8], [1, -9], [1, -5], [1, -2], [1, -7], [1, -3], [1, 0], [1, -1], [1, -4]]\n",
      "[[1, -10], [1, -9], [1, -6], [1, -8], [1, -4], [1, -5], [1, -2], [1, -7], [1, -3], [1, 0], [1, -1]]\n",
      "[[1, -9], [1, -8], [1, -6], [1, -7], [1, -4], [1, -5], [1, -2], [1, -1], [1, -3], [1, 0]]\n",
      "[[1, -8], [1, -7], [1, -6], [1, -3], [1, -4], [1, -5], [1, -2], [1, -1], [1, 0]]\n",
      "[[1, -7], [1, -4], [1, -6], [1, -3], [1, 0], [1, -5], [1, -2], [1, -1]]\n",
      "[[1, -6], [1, -4], [1, -5], [1, -3], [1, 0], [1, -1], [1, -2]]\n",
      "[[1, -5], [1, -4], [1, -2], [1, -3], [1, 0], [1, -1]]\n",
      "[[1, -4], [1, -3], [1, -2], [1, -1], [1, 0]]\n",
      "[[1, -3], [1, -1], [1, -2], [1, 0]]\n",
      "[[1, -2], [1, -1], [1, 0]]\n",
      "[[1, -1], [1, 0]]\n",
      "[[1, 0]]\n"
     ]
    }
   ],
   "source": [
    "a = []\n",
    "for i in range(20):\n",
    "    a.append([1,-i])\n",
    "heapq.heapify(a)\n",
    "print(a)\n",
    "for i in range(19):\n",
    "    heapq.heappop(a)\n",
    "    print(a)"
   ]
  },
  {
   "cell_type": "code",
   "execution_count": null,
   "id": "655d29b2",
   "metadata": {},
   "outputs": [],
   "source": []
  },
  {
   "cell_type": "code",
   "execution_count": null,
   "id": "17eed49f",
   "metadata": {},
   "outputs": [],
   "source": []
  },
  {
   "cell_type": "code",
   "execution_count": null,
   "id": "724c6d6c",
   "metadata": {},
   "outputs": [],
   "source": []
  },
  {
   "cell_type": "code",
   "execution_count": null,
   "id": "c1a8de36",
   "metadata": {},
   "outputs": [],
   "source": []
  },
  {
   "cell_type": "code",
   "execution_count": null,
   "id": "906384fe",
   "metadata": {},
   "outputs": [],
   "source": []
  }
 ],
 "metadata": {
  "kernelspec": {
   "display_name": "Python 3 (ipykernel)",
   "language": "python",
   "name": "python3"
  },
  "language_info": {
   "codemirror_mode": {
    "name": "ipython",
    "version": 3
   },
   "file_extension": ".py",
   "mimetype": "text/x-python",
   "name": "python",
   "nbconvert_exporter": "python",
   "pygments_lexer": "ipython3",
   "version": "3.9.6"
  }
 },
 "nbformat": 4,
 "nbformat_minor": 5
}
