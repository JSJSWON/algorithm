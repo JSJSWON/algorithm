{
 "cells": [
  {
   "cell_type": "code",
   "execution_count": 60,
   "id": "60a6780f",
   "metadata": {},
   "outputs": [
    {
     "name": "stdout",
     "output_type": "stream",
     "text": [
      "3\n",
      "1 2 3\n",
      "4 5 6\n",
      "4 9 0\n",
      "18 6\n"
     ]
    }
   ],
   "source": [
    "N = int(input())\n",
    "nums = []\n",
    "ans_min = [0, 0, 0]\n",
    "ans_max = [0, 0, 0]\n",
    "for _ in range(N):\n",
    "    nums = list(map(int, input().split()))\n",
    "    ans_min = [nums[0] + min(ans_min[0], ans_min[1]),\n",
    "               nums[1] + min(ans_min[0], ans_min[1], ans_min[2]),\n",
    "               nums[2] + min(ans_min[1], ans_min[2])]\n",
    "    ans_max = [nums[0] + max(ans_max[0], ans_max[1]),\n",
    "               nums[1] + max(ans_max[0], ans_max[1], ans_max[2]),\n",
    "               nums[2] + max(ans_max[1], ans_max[2])]\n",
    "\n",
    "print(max(ans_max), min(ans_min))"
   ]
  },
  {
   "cell_type": "code",
   "execution_count": null,
   "id": "a5169adb",
   "metadata": {},
   "outputs": [],
   "source": []
  }
 ],
 "metadata": {
  "kernelspec": {
   "display_name": "Python 3 (ipykernel)",
   "language": "python",
   "name": "python3"
  },
  "language_info": {
   "codemirror_mode": {
    "name": "ipython",
    "version": 3
   },
   "file_extension": ".py",
   "mimetype": "text/x-python",
   "name": "python",
   "nbconvert_exporter": "python",
   "pygments_lexer": "ipython3",
   "version": "3.9.12"
  }
 },
 "nbformat": 4,
 "nbformat_minor": 5
}
