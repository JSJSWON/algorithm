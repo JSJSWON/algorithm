{
 "cells": [
  {
   "cell_type": "code",
   "execution_count": 85,
   "id": "93759e9a",
   "metadata": {},
   "outputs": [
    {
     "name": "stdout",
     "output_type": "stream",
     "text": [
      "6\n",
      "1 2 3 4 5 6\n",
      "2 1 1 1\n",
      "54\n",
      "-24\n"
     ]
    }
   ],
   "source": [
    "from itertools import permutations\n",
    "\n",
    "N = int(input())\n",
    "a = list(map(int, input().split()))\n",
    "operator = list(map(int, input().split()))\n",
    "o = []\n",
    "for i in range(4):\n",
    "    o += [i] * operator[i]\n",
    "o = list(set(list(permutations(o))))\n",
    "\n",
    "minimum = float('inf')\n",
    "maximum = float('-inf')\n",
    "\n",
    "for op in o:\n",
    "    tmp = a[0]\n",
    "    for i in range(N - 1):        \n",
    "        if op[i] == 0:\n",
    "            tmp += a[i+1]\n",
    "        elif op[i] == 1:\n",
    "            tmp -= a[i+1]\n",
    "        elif op[i] == 2:\n",
    "            tmp *= a[i+1]\n",
    "        else:\n",
    "            if tmp < 0:\n",
    "                tmp = ((-1 * tmp) // a[i+1]) * (-1)\n",
    "            else:\n",
    "                tmp //= a[i+1]\n",
    "    if tmp > maximum:\n",
    "        maximum = tmp\n",
    "    if tmp < minimum:\n",
    "        minimum = tmp\n",
    "\n",
    "print(maximum)\n",
    "print(minimum)"
   ]
  },
  {
   "cell_type": "code",
   "execution_count": null,
   "id": "8c2ca7a4",
   "metadata": {},
   "outputs": [],
   "source": []
  }
 ],
 "metadata": {
  "kernelspec": {
   "display_name": "Python 3 (ipykernel)",
   "language": "python",
   "name": "python3"
  },
  "language_info": {
   "codemirror_mode": {
    "name": "ipython",
    "version": 3
   },
   "file_extension": ".py",
   "mimetype": "text/x-python",
   "name": "python",
   "nbconvert_exporter": "python",
   "pygments_lexer": "ipython3",
   "version": "3.9.12"
  }
 },
 "nbformat": 4,
 "nbformat_minor": 5
}
