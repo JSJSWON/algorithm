{
 "cells": [
  {
   "cell_type": "code",
   "execution_count": 75,
   "id": "80743cbf",
   "metadata": {},
   "outputs": [],
   "source": [
    "def solution(genres, plays):\n",
    "    answer = []\n",
    "    \n",
    "    musics = dict()\n",
    "    for i in range(len(genres)):\n",
    "        if genres[i] in musics:\n",
    "            musics[genres[i]] += plays[i]\n",
    "        else:\n",
    "            musics[genres[i]] = plays[i]\n",
    "    \n",
    "    musics1 = list(zip(genres, plays))\n",
    "    print(musics1)\n",
    "    \n",
    "    t = list(sorted(musics.values(), reverse = True))\n",
    "    print(t)\n",
    "    for y in t:\n",
    "        ans = []\n",
    "        for x in musics:\n",
    "            if musics[x] == y:\n",
    "                genre = x\n",
    "        for z in musics1:\n",
    "            if z[0] == genre:\n",
    "                ans.append(z[1])\n",
    "        ans.sort(reverse = True)\n",
    "        print(ans)\n",
    "        if len(ans) == 1:\n",
    "            ind = 0\n",
    "            for z in musics1:\n",
    "                if ans[0] == z[1] and z[0] == genre:\n",
    "                    answer.append(ind)\n",
    "                else:\n",
    "                    ind += 1\n",
    "        if len(ans) >= 2:\n",
    "            for i in range(2):\n",
    "                ind = 0\n",
    "                for z in musics1:\n",
    "                    if ans[i] == z[1] and z[0] == genre:\n",
    "                        answer.append(ind)\n",
    "                        break\n",
    "                    else:\n",
    "                        ind += 1\n",
    "\n",
    "    return answer"
   ]
  },
  {
   "cell_type": "code",
   "execution_count": 78,
   "id": "2fb3c917",
   "metadata": {},
   "outputs": [
    {
     "name": "stdout",
     "output_type": "stream",
     "text": [
      "[('classic', 500), ('pop', 2500), ('classic', 150), ('classic', 800), ('pop', 2500)]\n",
      "[5000, 1450]\n",
      "[2500, 2500]\n",
      "[800, 500, 150]\n"
     ]
    },
    {
     "data": {
      "text/plain": [
       "[1, 1, 3, 0]"
      ]
     },
     "execution_count": 78,
     "metadata": {},
     "output_type": "execute_result"
    }
   ],
   "source": [
    "solution([\"classic\", \"pop\", \"classic\", \"classic\", \"pop\"], [500, 2500, 150, 800, 2500])"
   ]
  },
  {
   "cell_type": "code",
   "execution_count": null,
   "id": "625233a3",
   "metadata": {},
   "outputs": [],
   "source": []
  },
  {
   "cell_type": "code",
   "execution_count": null,
   "id": "fd2139aa",
   "metadata": {},
   "outputs": [],
   "source": [
    "def solution(genres, plays):\n",
    "    answer = []\n",
    "    \n",
    "    musics = dict()\n",
    "    for i in range(len(genres)):\n",
    "        if genres[i] in musics:\n",
    "            musics[genres[i]] += plays[i]\n",
    "        else:\n",
    "            musics[genres[i]] = plays[i]\n",
    "    \n",
    "    musics1 = list(zip(genres, plays))\n",
    "    \n",
    "    t = list(sorted(musics.values(), reverse = True))\n",
    "    for y in t:\n",
    "        ans = []\n",
    "        for x in musics:\n",
    "            if musics[x] == y:\n",
    "                for z in musics1:\n",
    "                    if z[0] == x:\n",
    "                        ans.append(z[1])\n",
    "        ans.sort(reverse = True)\n",
    "        for i in range(2):\n",
    "            ind = 0\n",
    "            for z in musics1:\n",
    "                if ans[i] == z[1]:\n",
    "                    answer.append(ind)\n",
    "                else:\n",
    "                    ind += 1\n",
    "\n",
    "    return answer"
   ]
  },
  {
   "cell_type": "code",
   "execution_count": null,
   "id": "0a17b121",
   "metadata": {},
   "outputs": [],
   "source": []
  },
  {
   "cell_type": "code",
   "execution_count": null,
   "id": "8d6d5e9a",
   "metadata": {},
   "outputs": [],
   "source": [
    "def solution(genres, plays):\n",
    "    answer = []\n",
    "    \n",
    "    musics = dict()\n",
    "    for i in range(len(genres)):\n",
    "        if genres[i] in musics:\n",
    "            musics[genres[i]] += plays[i]\n",
    "        else:\n",
    "            musics[genres[i]] = plays[i]\n",
    "    \n",
    "    musics1 = list(zip(genres, plays))\n",
    "    \n",
    "    t = list(sorted(musics.values(), reverse = True))\n",
    "    for y in t:\n",
    "        ans = []\n",
    "        for x in musics:\n",
    "            if musics[x] == y:\n",
    "                genre = x\n",
    "        for z in musics1:\n",
    "            if z[0] == genre:\n",
    "                ans.append(z[1])\n",
    "        ans.sort(reverse = True)\n",
    "        if len(ans) == 1:\n",
    "            ind = 0\n",
    "            for z in musics1:\n",
    "                if ans[0] == z[1] and z[0] == genre:\n",
    "                    answer.append(ind)\n",
    "                else:\n",
    "                    ind += 1\n",
    "        if len(ans) >= 2:\n",
    "            tmp = -1 # 조건 3 !!!!\n",
    "            for i in range(2):\n",
    "                ind = 0\n",
    "                for z in musics1:\n",
    "                    if ans[i] == z[1] and z[0] == genre and tmp != ind:\n",
    "                        answer.append(ind)\n",
    "                        tmp = ind\n",
    "                        break\n",
    "                    else:\n",
    "                        ind += 1\n",
    "\n",
    "    return answer"
   ]
  }
 ],
 "metadata": {
  "kernelspec": {
   "display_name": "Python 3 (ipykernel)",
   "language": "python",
   "name": "python3"
  },
  "language_info": {
   "codemirror_mode": {
    "name": "ipython",
    "version": 3
   },
   "file_extension": ".py",
   "mimetype": "text/x-python",
   "name": "python",
   "nbconvert_exporter": "python",
   "pygments_lexer": "ipython3",
   "version": "3.9.6"
  }
 },
 "nbformat": 4,
 "nbformat_minor": 5
}
