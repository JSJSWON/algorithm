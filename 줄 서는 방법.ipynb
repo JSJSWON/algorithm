{
 "cells": [
  {
   "cell_type": "code",
   "execution_count": 49,
   "id": "c8d4444a",
   "metadata": {},
   "outputs": [],
   "source": [
    "def fac(n):\n",
    "    ans = 1\n",
    "    for i in range(1, n+1):\n",
    "        ans *= i\n",
    "    return ans\n",
    "\n",
    "def solution(n, k):\n",
    "    answer = []\n",
    "    total_nums = [i for i in range(1, n+1)]\n",
    "    nums_loc = []\n",
    "    num = fac(n-1)\n",
    "\n",
    "    for i in range(n-2, 0, -1):\n",
    "        if k % num == 0:\n",
    "            nums_loc.append(k // num)\n",
    "            k = 0\n",
    "        else:\n",
    "            nums_loc.append((k // num) + 1)\n",
    "            k -= num * (k // num)\n",
    "        num //= i + 1\n",
    "    nums_loc.append(k)\n",
    "\n",
    "    for i in range(len(nums_loc)):\n",
    "        answer.append(total_nums[nums_loc[i]-1])\n",
    "        del total_nums[nums_loc[i]-1]\n",
    "    answer.append(total_nums[0])\n",
    "\n",
    "    return answer"
   ]
  },
  {
   "cell_type": "code",
   "execution_count": 50,
   "id": "4cde2378",
   "metadata": {},
   "outputs": [
    {
     "data": {
      "text/plain": [
       "[1, 2, 3, 4, 5, 6, 11, 9, 12, 13, 8, 7, 10]"
      ]
     },
     "execution_count": 50,
     "metadata": {},
     "output_type": "execute_result"
    }
   ],
   "source": [
    "solution(13, 3213)"
   ]
  },
  {
   "cell_type": "code",
   "execution_count": null,
   "id": "7e2c648f",
   "metadata": {},
   "outputs": [],
   "source": []
  }
 ],
 "metadata": {
  "kernelspec": {
   "display_name": "Python 3 (ipykernel)",
   "language": "python",
   "name": "python3"
  },
  "language_info": {
   "codemirror_mode": {
    "name": "ipython",
    "version": 3
   },
   "file_extension": ".py",
   "mimetype": "text/x-python",
   "name": "python",
   "nbconvert_exporter": "python",
   "pygments_lexer": "ipython3",
   "version": "3.9.6"
  }
 },
 "nbformat": 4,
 "nbformat_minor": 5
}
