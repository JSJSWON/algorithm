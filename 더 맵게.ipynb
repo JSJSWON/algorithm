{
 "cells": [
  {
   "cell_type": "code",
   "execution_count": 6,
   "id": "166b527d",
   "metadata": {},
   "outputs": [],
   "source": [
    "def solution(scoville, K):\n",
    "    answer = 0\n",
    "    \n",
    "    while True:\n",
    "        if len(scoville) == 1:\n",
    "            break\n",
    "        scoville.sort(reverse = True)\n",
    "        if scoville[-1] >= K:\n",
    "            break\n",
    "        \n",
    "        tmp = scoville[-1] + scoville[-2] * 2\n",
    "        answer += 1\n",
    "        scoville.pop()\n",
    "        scoville.pop()\n",
    "        scoville.append(tmp)\n",
    "\n",
    "    if len(scoville) == 1:\n",
    "        if scoville[0] < K:\n",
    "            answer = -1\n",
    "    \n",
    "    return answer"
   ]
  },
  {
   "cell_type": "code",
   "execution_count": 7,
   "id": "0121fa1e",
   "metadata": {},
   "outputs": [
    {
     "data": {
      "text/plain": [
       "2"
      ]
     },
     "execution_count": 7,
     "metadata": {},
     "output_type": "execute_result"
    }
   ],
   "source": [
    "solution([1, 2, 3, 9, 10, 12], 7)"
   ]
  },
  {
   "cell_type": "code",
   "execution_count": 2,
   "id": "4bedb20f",
   "metadata": {},
   "outputs": [
    {
     "name": "stdout",
     "output_type": "stream",
     "text": [
      "[5, 4, 3, 2, 1]\n"
     ]
    }
   ],
   "source": [
    "a = [5,3,4,2,1]\n",
    "a.sort(reverse = True)\n",
    "print(a)"
   ]
  },
  {
   "cell_type": "code",
   "execution_count": 22,
   "id": "c7ca3f56",
   "metadata": {},
   "outputs": [],
   "source": [
    "import heapq\n",
    "\n",
    "def solution(scoville, K):\n",
    "    answer = 0\n",
    "    \n",
    "    heapq.heapify(scoville)\n",
    "    print(scoville)\n",
    "    a = heapq.heappop(scoville)\n",
    "    b = heapq.heappop(scoville)\n",
    "    \n",
    "    print(a)\n",
    "    print(b)\n",
    "    print(scoville)\n",
    "    return answer"
   ]
  },
  {
   "cell_type": "code",
   "execution_count": 23,
   "id": "c103ccfe",
   "metadata": {},
   "outputs": [
    {
     "name": "stdout",
     "output_type": "stream",
     "text": [
      "[-5, 0, -4, 9, 1, 2, 3, 100, 10, 12, 3, 2]\n",
      "-5\n",
      "-4\n",
      "[0, 1, 2, 9, 3, 2, 3, 100, 10, 12]\n"
     ]
    },
    {
     "data": {
      "text/plain": [
       "0"
      ]
     },
     "execution_count": 23,
     "metadata": {},
     "output_type": "execute_result"
    }
   ],
   "source": [
    "solution([0, 3, 2, 100, 1, 2, 3, 9, 10, 12, -5, -4], 7)"
   ]
  },
  {
   "cell_type": "code",
   "execution_count": 35,
   "id": "050cb30e",
   "metadata": {},
   "outputs": [],
   "source": [
    "import heapq\n",
    "\n",
    "def solution(scoville, K):\n",
    "    answer = 0\n",
    "    heapq.heapify(scoville)\n",
    "    \n",
    "    while True:\n",
    "        if len(scoville) == 1:\n",
    "            break\n",
    "        \n",
    "        if scoville[0] >= K:\n",
    "            break\n",
    "\n",
    "        \n",
    "        a = heapq.heappop(scoville)\n",
    "        b = heapq.heappop(scoville)\n",
    "        tmp = a + b * 2\n",
    "        answer += 1\n",
    "        heapq.heappush(scoville, tmp)\n",
    "\n",
    "    if len(scoville) == 1:\n",
    "        if scoville[0] < K:\n",
    "            answer = -1\n",
    "    \n",
    "    return answer"
   ]
  },
  {
   "cell_type": "code",
   "execution_count": 36,
   "id": "41f0e6bd",
   "metadata": {},
   "outputs": [
    {
     "name": "stdout",
     "output_type": "stream",
     "text": [
      "6\n",
      "1\n",
      "5\n",
      "3\n",
      "4\n"
     ]
    },
    {
     "data": {
      "text/plain": [
       "2"
      ]
     },
     "execution_count": 36,
     "metadata": {},
     "output_type": "execute_result"
    }
   ],
   "source": [
    "solution([1, 2, 3, 9, 10, 12], 7)"
   ]
  },
  {
   "cell_type": "code",
   "execution_count": null,
   "id": "7dfaabc4",
   "metadata": {},
   "outputs": [],
   "source": []
  }
 ],
 "metadata": {
  "kernelspec": {
   "display_name": "Python 3 (ipykernel)",
   "language": "python",
   "name": "python3"
  },
  "language_info": {
   "codemirror_mode": {
    "name": "ipython",
    "version": 3
   },
   "file_extension": ".py",
   "mimetype": "text/x-python",
   "name": "python",
   "nbconvert_exporter": "python",
   "pygments_lexer": "ipython3",
   "version": "3.9.6"
  }
 },
 "nbformat": 4,
 "nbformat_minor": 5
}
