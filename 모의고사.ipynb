{
 "cells": [
  {
   "cell_type": "code",
   "execution_count": 6,
   "id": "c244aa69",
   "metadata": {},
   "outputs": [],
   "source": [
    "def solution(answers):\n",
    "    answer = []\n",
    "    \n",
    "    a1 = [1,2,3,4,5] * 2000\n",
    "    a2 = [2,1,2,3,2,4,2,5] * 1250\n",
    "    a3 = [3,3,1,1,2,2,4,4,5,5] * 1000\n",
    "    \n",
    "    ans = []\n",
    "    cnt = 0\n",
    "    \n",
    "    for i in range(len(answers)):\n",
    "        if a1[i] == answers[i]:\n",
    "            cnt += 1\n",
    "    ans.append(cnt)\n",
    "    cnt = 0\n",
    "    for i in range(len(answers)):\n",
    "        if a2[i] == answers[i]:\n",
    "            cnt += 1\n",
    "    ans.append(cnt)\n",
    "    cnt = 0\n",
    "    for i in range(len(answers)):\n",
    "        if a3[i] == answers[i]:\n",
    "            cnt += 1\n",
    "    ans.append(cnt)\n",
    "    \n",
    "    m = max(ans)\n",
    "    for i in range(3):\n",
    "        if ans[i] == m:\n",
    "            answer.append(i + 1)\n",
    "    \n",
    "    return answer"
   ]
  },
  {
   "cell_type": "code",
   "execution_count": 8,
   "id": "768ee9e9",
   "metadata": {},
   "outputs": [
    {
     "data": {
      "text/plain": [
       "[1, 2, 3]"
      ]
     },
     "execution_count": 8,
     "metadata": {},
     "output_type": "execute_result"
    }
   ],
   "source": [
    "solution([1,3,2,4,2])"
   ]
  },
  {
   "cell_type": "code",
   "execution_count": null,
   "id": "4495bba6",
   "metadata": {},
   "outputs": [],
   "source": []
  }
 ],
 "metadata": {
  "kernelspec": {
   "display_name": "Python 3 (ipykernel)",
   "language": "python",
   "name": "python3"
  },
  "language_info": {
   "codemirror_mode": {
    "name": "ipython",
    "version": 3
   },
   "file_extension": ".py",
   "mimetype": "text/x-python",
   "name": "python",
   "nbconvert_exporter": "python",
   "pygments_lexer": "ipython3",
   "version": "3.9.6"
  }
 },
 "nbformat": 4,
 "nbformat_minor": 5
}
