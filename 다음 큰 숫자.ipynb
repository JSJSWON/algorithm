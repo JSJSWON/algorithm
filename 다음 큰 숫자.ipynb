{
 "cells": [
  {
   "cell_type": "code",
   "execution_count": 24,
   "id": "bcaecb2a",
   "metadata": {},
   "outputs": [],
   "source": [
    "def solution(n):    \n",
    "    bin_n = bin(n).split('b')[1]\n",
    "    cnt = bin_n.count('1')\n",
    "    \n",
    "    for i in range(n + 1, 1000001):\n",
    "        bin_ans = bin(i).split('b')[1]\n",
    "        cnt_ans = bin_ans.count('1')\n",
    "        if cnt == cnt_ans:\n",
    "            return i"
   ]
  },
  {
   "cell_type": "code",
   "execution_count": 23,
   "id": "422bf0a8",
   "metadata": {},
   "outputs": [
    {
     "name": "stdout",
     "output_type": "stream",
     "text": [
      "100001\n"
     ]
    }
   ],
   "source": [
    "print(bin(16).split('b')[1])"
   ]
  },
  {
   "cell_type": "code",
   "execution_count": 27,
   "id": "ecfd2c02",
   "metadata": {},
   "outputs": [
    {
     "data": {
      "text/plain": [
       "150031"
      ]
     },
     "execution_count": 27,
     "metadata": {},
     "output_type": "execute_result"
    }
   ],
   "source": [
    "solution(150000)"
   ]
  },
  {
   "cell_type": "code",
   "execution_count": null,
   "id": "aa3f1eb5",
   "metadata": {},
   "outputs": [],
   "source": []
  }
 ],
 "metadata": {
  "kernelspec": {
   "display_name": "Python 3 (ipykernel)",
   "language": "python",
   "name": "python3"
  },
  "language_info": {
   "codemirror_mode": {
    "name": "ipython",
    "version": 3
   },
   "file_extension": ".py",
   "mimetype": "text/x-python",
   "name": "python",
   "nbconvert_exporter": "python",
   "pygments_lexer": "ipython3",
   "version": "3.9.6"
  }
 },
 "nbformat": 4,
 "nbformat_minor": 5
}
