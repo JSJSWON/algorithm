{
 "cells": [
  {
   "cell_type": "code",
   "execution_count": 56,
   "id": "e9c59045",
   "metadata": {},
   "outputs": [],
   "source": [
    "# 9시부터 총 n회 t분 간격으로 역에 도착, 최대 m명이 탈 수 있음\n",
    "# 00:00을 0으로 치환, 00:01을 1로, 9:00은 540\n",
    "def solution(n, t, m, timetable):\n",
    "    answer = ''\n",
    "    \n",
    "    for i in range(len(timetable)):\n",
    "        timetable[i] = int(timetable[i][:2]) * 60 + int(timetable[i][3:])\n",
    "    timetable.sort()\n",
    "    print(timetable)\n",
    "    \n",
    "    bus = []\n",
    "    for i in range(n):\n",
    "        bus.append(540 + t * i)\n",
    "    print(bus)\n",
    "    \n",
    "    \n",
    "    dic = dict()\n",
    "    index = 0\n",
    "    for x in bus:\n",
    "        dic[x] = []\n",
    "        cnt = 0\n",
    "#         for y in timetable:\n",
    "#             if cnt == m or y > x:\n",
    "#                 break\n",
    "#             else:\n",
    "#                 cnt += 1\n",
    "#                 dic[x].append(y)\n",
    "        for i in range(index, len(timetable)):\n",
    "            if cnt == m or timetable[i] > x or len(timetable) <= index:\n",
    "                index = i\n",
    "                break\n",
    "            else:\n",
    "                cnt += 1\n",
    "                dic[x].append(timetable[i])\n",
    "\n",
    "\n",
    "\n",
    "    print(dic)\n",
    "    \n",
    "    for i in range(len(bus)-1, -1, -1):\n",
    "        if len(dic[bus[i]]) != m:\n",
    "            return bus[i]\n",
    "        else:\n",
    "            for j in range(len(dic[bus[i]])-1, 0, -1):\n",
    "                if dic[bus[i]][j] != dic[bus[i]][j-1]:\n",
    "                    return dic[bus[i]][j-1]\n",
    "            return bus[i] - 1\n",
    "    \n",
    "    \n",
    "    return bus[0] - 1"
   ]
  },
  {
   "cell_type": "code",
   "execution_count": 57,
   "id": "6c814641",
   "metadata": {},
   "outputs": [
    {
     "name": "stdout",
     "output_type": "stream",
     "text": [
      "[480, 481, 482, 483]\n",
      "[540]\n",
      "{540: [480, 481, 482, 483]}\n"
     ]
    },
    {
     "data": {
      "text/plain": [
       "540"
      ]
     },
     "execution_count": 57,
     "metadata": {},
     "output_type": "execute_result"
    }
   ],
   "source": [
    "solution(1,1,5,[\"08:00\", \"08:01\", \"08:02\", \"08:03\"])"
   ]
  },
  {
   "cell_type": "code",
   "execution_count": 58,
   "id": "0d619500",
   "metadata": {},
   "outputs": [
    {
     "name": "stdout",
     "output_type": "stream",
     "text": [
      "[480, 549, 550]\n",
      "[540, 550]\n",
      "{540: [480], 550: [549, 550]}\n"
     ]
    },
    {
     "data": {
      "text/plain": [
       "549"
      ]
     },
     "execution_count": 58,
     "metadata": {},
     "output_type": "execute_result"
    }
   ],
   "source": [
    "solution(2,10,2,[\"09:10\", \"09:09\", \"08:00\"])"
   ]
  },
  {
   "cell_type": "code",
   "execution_count": 59,
   "id": "32724ddf",
   "metadata": {},
   "outputs": [
    {
     "name": "stdout",
     "output_type": "stream",
     "text": [
      "[540, 540, 540, 540]\n",
      "[540, 541]\n",
      "{540: [540, 540], 541: [540, 540]}\n"
     ]
    },
    {
     "data": {
      "text/plain": [
       "540"
      ]
     },
     "execution_count": 59,
     "metadata": {},
     "output_type": "execute_result"
    }
   ],
   "source": [
    "solution(2,1,2,[\"09:00\", \"09:00\", \"09:00\", \"09:00\"])"
   ]
  },
  {
   "cell_type": "code",
   "execution_count": null,
   "id": "4380f9d5",
   "metadata": {},
   "outputs": [],
   "source": []
  }
 ],
 "metadata": {
  "kernelspec": {
   "display_name": "Python 3 (ipykernel)",
   "language": "python",
   "name": "python3"
  },
  "language_info": {
   "codemirror_mode": {
    "name": "ipython",
    "version": 3
   },
   "file_extension": ".py",
   "mimetype": "text/x-python",
   "name": "python",
   "nbconvert_exporter": "python",
   "pygments_lexer": "ipython3",
   "version": "3.9.6"
  }
 },
 "nbformat": 4,
 "nbformat_minor": 5
}
