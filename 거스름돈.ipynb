{
 "cells": [
  {
   "cell_type": "code",
   "execution_count": 34,
   "id": "4243b154",
   "metadata": {},
   "outputs": [],
   "source": [
    "def solution(n, money):\n",
    "    money.sort()\n",
    "    dp = [0 for _ in range(n+1)]\n",
    "    dp[0] = 1\n",
    "    for m in money:\n",
    "        for i in range(m, n+1):\n",
    "            if i >= m:\n",
    "                dp[i] += dp[i - m]\n",
    "    return dp[-1] % 1000000007"
   ]
  },
  {
   "cell_type": "code",
   "execution_count": 35,
   "id": "bc97082c",
   "metadata": {},
   "outputs": [
    {
     "data": {
      "text/plain": [
       "4"
      ]
     },
     "execution_count": 35,
     "metadata": {},
     "output_type": "execute_result"
    }
   ],
   "source": [
    "solution(5, [1,2,5])"
   ]
  },
  {
   "cell_type": "code",
   "execution_count": null,
   "id": "c567b972",
   "metadata": {},
   "outputs": [],
   "source": []
  }
 ],
 "metadata": {
  "kernelspec": {
   "display_name": "Python 3 (ipykernel)",
   "language": "python",
   "name": "python3"
  },
  "language_info": {
   "codemirror_mode": {
    "name": "ipython",
    "version": 3
   },
   "file_extension": ".py",
   "mimetype": "text/x-python",
   "name": "python",
   "nbconvert_exporter": "python",
   "pygments_lexer": "ipython3",
   "version": "3.9.6"
  }
 },
 "nbformat": 4,
 "nbformat_minor": 5
}
