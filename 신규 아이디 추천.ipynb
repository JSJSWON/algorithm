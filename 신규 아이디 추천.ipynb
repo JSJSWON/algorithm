{
 "cells": [
  {
   "cell_type": "code",
   "execution_count": 51,
   "id": "c15b39ea",
   "metadata": {},
   "outputs": [],
   "source": [
    "from string import ascii_lowercase\n",
    "\n",
    "def solution(new_id):\n",
    "    answer = ''\n",
    "    \n",
    "    alp = list(ascii_lowercase)\n",
    "    num = [str(i) for i in range(0, 10)]\n",
    "    oth = ['-', '_', '.']\n",
    "    \n",
    "    new_id = new_id.lower()\n",
    "    print(new_id)\n",
    "    \n",
    "    tmp_id = ''\n",
    "    for x in new_id:\n",
    "        if x in alp or x in num or x in oth:\n",
    "            tmp_id += x\n",
    "    new_id = tmp_id\n",
    "    print(new_id)\n",
    "    \n",
    "    tmp_id = ''\n",
    "    cnt = 0\n",
    "    for x in new_id:\n",
    "        if x == '.':\n",
    "            if cnt == 0:\n",
    "                tmp_id += x\n",
    "                cnt += 1\n",
    "        else:\n",
    "            cnt = 0\n",
    "            tmp_id += x\n",
    "    new_id = tmp_id\n",
    "    print(new_id)\n",
    "    \n",
    "    new_id = new_id.strip('.')\n",
    "    print(new_id)\n",
    "    \n",
    "    if len(new_id) == 0:\n",
    "        new_id = 'a'\n",
    "    print(new_id)\n",
    "    \n",
    "    tmp_id = ''\n",
    "    if len(new_id) >= 16:\n",
    "        for i in range(15):\n",
    "            tmp_id += new_id[i]\n",
    "    new_id = tmp_id\n",
    "    print(new_id)\n",
    "    \n",
    "    new_id = new_id.strip('.')\n",
    "    print(new_id)\n",
    "    \n",
    "    if len(new_id) < 3:\n",
    "        while True:\n",
    "            if len(new_id) == 3:\n",
    "                break\n",
    "            else:\n",
    "                new_id += new_id[-1]\n",
    "    print(new_id)\n",
    "\n",
    "\n",
    "    answer = new_id\n",
    "        \n",
    "        \n",
    "    return answer"
   ]
  },
  {
   "cell_type": "code",
   "execution_count": 52,
   "id": "4694852b",
   "metadata": {},
   "outputs": [
    {
     "name": "stdout",
     "output_type": "stream",
     "text": [
      "...!@bat#*..y.abcdefghijklm\n",
      "...bat..y.abcdefghijklm\n",
      ".bat.y.abcdefghijklm\n",
      "bat.y.abcdefghijklm\n",
      "bat.y.abcdefghijklm\n",
      "bat.y.abcdefghi\n",
      "bat.y.abcdefghi\n",
      "bat.y.abcdefghi\n",
      "bat.y.abcdefghi\n"
     ]
    }
   ],
   "source": [
    "print(solution(\"...!@BaT#*..y.abcdefghijklm\"))"
   ]
  },
  {
   "cell_type": "code",
   "execution_count": 7,
   "id": "ac042536",
   "metadata": {},
   "outputs": [
    {
     "name": "stdout",
     "output_type": "stream",
     "text": [
      "['a', 'b', 'c', 'd', 'e', 'f', 'g', 'h', 'i', 'j', 'k', 'l', 'm', 'n', 'o', 'p', 'q', 'r', 's', 't', 'u', 'v', 'w', 'x', 'y', 'z']\n"
     ]
    }
   ],
   "source": [
    "from string import ascii_lowercase\n",
    "a = list(ascii_lowercase)\n",
    "print(a)"
   ]
  },
  {
   "cell_type": "code",
   "execution_count": 8,
   "id": "d79b032e",
   "metadata": {},
   "outputs": [
    {
     "name": "stdout",
     "output_type": "stream",
     "text": [
      "1\n",
      "2\n",
      "3\n",
      "4\n",
      "5\n"
     ]
    }
   ],
   "source": [
    "a=[1,2,3]\n",
    "c=[3,4,5]\n",
    "for i in range(100):\n",
    "    if i in a or i in c:\n",
    "        print(i)"
   ]
  },
  {
   "cell_type": "code",
   "execution_count": 15,
   "id": "5b6e03f5",
   "metadata": {},
   "outputs": [
    {
     "name": "stdout",
     "output_type": "stream",
     "text": [
      "211123213111112\n"
     ]
    }
   ],
   "source": [
    "a = '1112111232131111121'\n",
    "a = a.strip('1')\n",
    "print(a)"
   ]
  },
  {
   "cell_type": "code",
   "execution_count": 24,
   "id": "a1b76ea2",
   "metadata": {},
   "outputs": [
    {
     "name": "stdout",
     "output_type": "stream",
     "text": [
      "...!@bat#*..y.abcdefghijklm\n"
     ]
    }
   ],
   "source": [
    "a = \"...!@BaT#*..y.abcdefghijklm\".lower()\n",
    "print(a)"
   ]
  },
  {
   "cell_type": "code",
   "execution_count": 28,
   "id": "64d6cac8",
   "metadata": {},
   "outputs": [
    {
     "name": "stdout",
     "output_type": "stream",
     "text": [
      "*23*23*23\n"
     ]
    }
   ],
   "source": [
    "a = '123123123'\n",
    "a = a.replace('1', '*')\n",
    "print(a)"
   ]
  },
  {
   "cell_type": "code",
   "execution_count": 34,
   "id": "27db0694",
   "metadata": {},
   "outputs": [
    {
     "name": "stdout",
     "output_type": "stream",
     "text": [
      "[0, 1, 2, 3, 4, 5, 6, 7, 8, 9]\n"
     ]
    }
   ],
   "source": [
    "num = [i for i in range(0, 10)]\n",
    "print(num)\n"
   ]
  },
  {
   "cell_type": "code",
   "execution_count": null,
   "id": "5d1c1ee5",
   "metadata": {},
   "outputs": [],
   "source": []
  }
 ],
 "metadata": {
  "kernelspec": {
   "display_name": "Python 3 (ipykernel)",
   "language": "python",
   "name": "python3"
  },
  "language_info": {
   "codemirror_mode": {
    "name": "ipython",
    "version": 3
   },
   "file_extension": ".py",
   "mimetype": "text/x-python",
   "name": "python",
   "nbconvert_exporter": "python",
   "pygments_lexer": "ipython3",
   "version": "3.9.6"
  }
 },
 "nbformat": 4,
 "nbformat_minor": 5
}
