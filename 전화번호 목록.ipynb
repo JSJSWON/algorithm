{
 "cells": [
  {
   "cell_type": "code",
   "execution_count": 19,
   "id": "8ea11b0f",
   "metadata": {},
   "outputs": [],
   "source": [
    "def solution(phone_book):\n",
    "    answer = True\n",
    "    \n",
    "    p = sorted(phone_book, key = lambda x : len(x))\n",
    "    tag = 0\n",
    "    for i in range(len(p) - 1):\n",
    "        for j in range(i + 1, len(p)):\n",
    "            if p[i] == p[j][:len(p[i])]:\n",
    "                answer = False\n",
    "                tag += 1\n",
    "                break\n",
    "        if tag == 1:\n",
    "            break\n",
    "    \n",
    "    return answer"
   ]
  },
  {
   "cell_type": "code",
   "execution_count": 20,
   "id": "174a9227",
   "metadata": {},
   "outputs": [
    {
     "data": {
      "text/plain": [
       "True"
      ]
     },
     "execution_count": 20,
     "metadata": {},
     "output_type": "execute_result"
    }
   ],
   "source": [
    "solution([\"123\",\"456\",\"789\"])"
   ]
  },
  {
   "cell_type": "code",
   "execution_count": 18,
   "id": "7c2cf51c",
   "metadata": {},
   "outputs": [
    {
     "ename": "ValueError",
     "evalue": "dictionary update sequence element #0 has length 1; 2 is required",
     "output_type": "error",
     "traceback": [
      "\u001b[0;31m---------------------------------------------------------------------------\u001b[0m",
      "\u001b[0;31mValueError\u001b[0m                                Traceback (most recent call last)",
      "\u001b[0;32m/var/folders/h4/qkygjbx150l41hr_cmr5wpt80000gn/T/ipykernel_52524/2904175267.py\u001b[0m in \u001b[0;36m<module>\u001b[0;34m\u001b[0m\n\u001b[1;32m      1\u001b[0m \u001b[0ma\u001b[0m \u001b[0;34m=\u001b[0m \u001b[0;34m'123132'\u001b[0m\u001b[0;34m\u001b[0m\u001b[0;34m\u001b[0m\u001b[0m\n\u001b[0;32m----> 2\u001b[0;31m \u001b[0mb\u001b[0m\u001b[0;34m=\u001b[0m \u001b[0mdict\u001b[0m\u001b[0;34m(\u001b[0m\u001b[0ma\u001b[0m\u001b[0;34m)\u001b[0m\u001b[0;34m\u001b[0m\u001b[0;34m\u001b[0m\u001b[0m\n\u001b[0m",
      "\u001b[0;31mValueError\u001b[0m: dictionary update sequence element #0 has length 1; 2 is required"
     ]
    }
   ],
   "source": [
    "a = '123132'\n",
    "b= dict(a)"
   ]
  },
  {
   "cell_type": "code",
   "execution_count": 27,
   "id": "35241d14",
   "metadata": {},
   "outputs": [],
   "source": [
    "def solution(phone_book):\n",
    "    answer = True\n",
    "    p = phone_book\n",
    "    tag = 0\n",
    "    for i in range(len(p)):\n",
    "        for j in range(len(p)):\n",
    "            if i != j:\n",
    "                if len(p[i]) >= len(p[j]):\n",
    "                    long = p[i]\n",
    "                    short = p[j]\n",
    "                else:\n",
    "                    long = p[j]\n",
    "                    short = p[i]\n",
    "                cnt = 0\n",
    "                t = len(short)\n",
    "                for i in range(t):\n",
    "                    if short[i] == long[i]:\n",
    "                        cnt += 1\n",
    "                    else:\n",
    "                        break\n",
    "                if cnt == t:\n",
    "                    answer = False\n",
    "                    tag += 1\n",
    "                    break\n",
    "        if tag == 1:\n",
    "            break\n",
    "    \n",
    "    return answer"
   ]
  },
  {
   "cell_type": "code",
   "execution_count": 29,
   "id": "98991afe",
   "metadata": {},
   "outputs": [
    {
     "data": {
      "text/plain": [
       "False"
      ]
     },
     "execution_count": 29,
     "metadata": {},
     "output_type": "execute_result"
    }
   ],
   "source": [
    "solution([\"119\", \"97674223\", \"1195524421\"])"
   ]
  },
  {
   "cell_type": "code",
   "execution_count": null,
   "id": "e3f05ae3",
   "metadata": {},
   "outputs": [],
   "source": [
    "def solution(phone_book):\n",
    "    answer = True\n",
    "    tag = 0\n",
    "    for i in range(len(phone_book)):\n",
    "        for j in range(len(phone_book)):\n",
    "            if i != j:\n",
    "                if len(phone_book[i]) >= len(phone_book[j]):\n",
    "                    long, short = phone_book[i], phone_book[j]\n",
    "                else:\n",
    "                    long, short = phone_book[j], phone_book[i]\n",
    "                \n",
    "                if short == long[:len(short)]:\n",
    "                    answer = False\n",
    "                    tag += 1\n",
    "                    break\n",
    "        if tag == 1:\n",
    "            break\n",
    "    \n",
    "    return answer"
   ]
  },
  {
   "cell_type": "code",
   "execution_count": null,
   "id": "1ec1a350",
   "metadata": {},
   "outputs": [],
   "source": [
    "def solution(phone_book):\n",
    "    answer = True\n",
    "    \n",
    "    tag = 0\n",
    "    for i in range(len(phone_book) - 1):\n",
    "        for j in range(i + 1, len(phone_book)):\n",
    "            if phone_book[i].startswith(phone_book[j]):\n",
    "                answer = False\n",
    "                tag += 1\n",
    "                break\n",
    "            if phone_book[j].startswith(phone_book[i]):\n",
    "                answer = False\n",
    "                tag += 1\n",
    "                break\n",
    "        if tag == 1:\n",
    "            break\n",
    "    \n",
    "    return answer"
   ]
  },
  {
   "cell_type": "code",
   "execution_count": null,
   "id": "68308bc6",
   "metadata": {},
   "outputs": [],
   "source": [
    "def solution(phone_book):\n",
    "    \n",
    "    for i in range(len(phone_book)):\n",
    "        for j in range(i + 1, len(phone_book)):\n",
    "            if phone_book[i] == phone_book[j][:len(phone_book[i])]:\n",
    "                return False\n",
    "            if phone_book[j] == phone_book[i][:len(phone_book[i])]:\n",
    "                return False\n",
    "    \n",
    "    return True"
   ]
  },
  {
   "cell_type": "code",
   "execution_count": 31,
   "id": "f75f3b80",
   "metadata": {},
   "outputs": [
    {
     "name": "stdout",
     "output_type": "stream",
     "text": [
      "False\n",
      "True\n"
     ]
    }
   ],
   "source": [
    "a= '123'\n",
    "b= '456'\n",
    "c = '123'\n",
    "print(a.startswith(b))\n",
    "print(a.startswith(c))"
   ]
  },
  {
   "cell_type": "code",
   "execution_count": 32,
   "id": "25eb97f7",
   "metadata": {},
   "outputs": [
    {
     "name": "stdout",
     "output_type": "stream",
     "text": [
      "['118', '119', '11911', '1193', '1199']\n"
     ]
    }
   ],
   "source": [
    "a = ['119', '118', '1199', '1193', '11911']\n",
    "print(sorted(a))"
   ]
  },
  {
   "cell_type": "code",
   "execution_count": 37,
   "id": "ee7f28f8",
   "metadata": {},
   "outputs": [
    {
     "name": "stdout",
     "output_type": "stream",
     "text": [
      "119\n",
      "118\n",
      "118\n",
      "1199\n",
      "1199\n",
      "1193\n",
      "1193\n",
      "11911\n",
      "[('119', '118'), ('118', '1199'), ('1199', '1193'), ('1193', '11911')]\n"
     ]
    }
   ],
   "source": [
    "for x, y in zip(a, a[1:]):\n",
    "    print(x)\n",
    "    print(y)\n",
    "print(list(zip(a, a[1:])))"
   ]
  },
  {
   "cell_type": "code",
   "execution_count": null,
   "id": "16ddd155",
   "metadata": {},
   "outputs": [],
   "source": [
    "def solution(phone_book):\n",
    "    p = sorted(phone_book)\n",
    "    for i in range(len(p) - 1):\n",
    "        if p[i] == p[i + 1][:len(p[i])]:\n",
    "            return False\n",
    "    return True"
   ]
  },
  {
   "cell_type": "code",
   "execution_count": null,
   "id": "62c43df7",
   "metadata": {},
   "outputs": [],
   "source": []
  },
  {
   "cell_type": "code",
   "execution_count": null,
   "id": "76449167",
   "metadata": {},
   "outputs": [],
   "source": []
  }
 ],
 "metadata": {
  "kernelspec": {
   "display_name": "Python 3 (ipykernel)",
   "language": "python",
   "name": "python3"
  },
  "language_info": {
   "codemirror_mode": {
    "name": "ipython",
    "version": 3
   },
   "file_extension": ".py",
   "mimetype": "text/x-python",
   "name": "python",
   "nbconvert_exporter": "python",
   "pygments_lexer": "ipython3",
   "version": "3.9.6"
  }
 },
 "nbformat": 4,
 "nbformat_minor": 5
}
