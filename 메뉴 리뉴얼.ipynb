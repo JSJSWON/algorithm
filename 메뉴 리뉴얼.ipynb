{
 "cells": [
  {
   "cell_type": "code",
   "execution_count": 106,
   "id": "fb783a7d",
   "metadata": {},
   "outputs": [],
   "source": [
    "from itertools import combinations\n",
    "\n",
    "def solution(orders, course):\n",
    "    answer = [[] for _ in range(len(orders))]\n",
    "    \n",
    "#     e = set()\n",
    "    \n",
    "#     for x in orders:\n",
    "#         for y in x:\n",
    "#             e.add(y)\n",
    "#     e = list(e)\n",
    "    for i in range(len(course)):\n",
    "#         t = list(combinations(e, course[i]))\n",
    "        \n",
    "        t = []\n",
    "        for x in orders:\n",
    "            if len(x) >= course[i]:\n",
    "                t += list(combinations(x, course[i]))\n",
    "        t = list(set(t))\n",
    "        \n",
    "        \n",
    "        \n",
    "        ans = []\n",
    "        m = 0\n",
    "        cnt = 0\n",
    "        for y in t:\n",
    "            menu = ''\n",
    "            for z in y:\n",
    "                menu += z\n",
    "            for z in orders:\n",
    "                tmp = 0\n",
    "                for t in menu:\n",
    "                    if t in z:\n",
    "                        tmp += 1\n",
    "                if tmp == course[i]:\n",
    "                    cnt += 1\n",
    "            if cnt > 1:\n",
    "                if m < cnt:\n",
    "                    ans = []\n",
    "                    ans.append(menu)\n",
    "                    m = cnt\n",
    "                elif m == cnt:\n",
    "                    ans.append(menu)\n",
    "            cnt = 0\n",
    "        for x in ans:\n",
    "            answer[m].append(x)\n",
    "        m = 0\n",
    "\n",
    "    answer1 = set()\n",
    "    for i in range(len(answer) - 1, -1, -1):\n",
    "        for x in answer[i]:\n",
    "            tmp = sorted(x)\n",
    "            t = ''\n",
    "            for x in tmp:\n",
    "                t += x\n",
    "            answer1.add(t)\n",
    "    answer1 = sorted(list(answer1))\n",
    "\n",
    "    return sorted(answer1)"
   ]
  },
  {
   "cell_type": "code",
   "execution_count": 107,
   "id": "bed82a6f",
   "metadata": {},
   "outputs": [
    {
     "data": {
      "text/plain": [
       "['AC', 'ACDE', 'BCFG', 'CDE']"
      ]
     },
     "execution_count": 107,
     "metadata": {},
     "output_type": "execute_result"
    }
   ],
   "source": [
    "solution([\"ABCFG\", \"AC\", \"CDE\", \"ACDE\", \"BCFG\", \"ACDEH\"], [2,3,4])"
   ]
  },
  {
   "cell_type": "code",
   "execution_count": 6,
   "id": "9612597b",
   "metadata": {},
   "outputs": [
    {
     "name": "stdout",
     "output_type": "stream",
     "text": [
      "12\n",
      "13\n",
      "23\n",
      "[('1', '2'), ('1', '3'), ('2', '3')]\n"
     ]
    }
   ],
   "source": [
    "from itertools import combinations as c\n",
    "\n",
    "a = ['1', '2', '3']\n",
    "l = list(c(a, 2))\n",
    "\n",
    "for x in l:\n",
    "    t = ''\n",
    "    for y in x:\n",
    "        t += y\n",
    "    print(t)\n",
    "\n",
    "print(l)"
   ]
  },
  {
   "cell_type": "code",
   "execution_count": 25,
   "id": "3882a671",
   "metadata": {},
   "outputs": [
    {
     "data": {
      "text/plain": [
       "False"
      ]
     },
     "execution_count": 25,
     "metadata": {},
     "output_type": "execute_result"
    }
   ],
   "source": [
    "'as' in 'ads'"
   ]
  },
  {
   "cell_type": "code",
   "execution_count": 63,
   "id": "99c596e2",
   "metadata": {},
   "outputs": [],
   "source": [
    "a = []\n",
    "a.sort()"
   ]
  },
  {
   "cell_type": "code",
   "execution_count": 85,
   "id": "028b90a9",
   "metadata": {},
   "outputs": [
    {
     "ename": "TypeError",
     "evalue": "unsupported operand type(s) for +: 'int' and 'str'",
     "output_type": "error",
     "traceback": [
      "\u001b[0;31m---------------------------------------------------------------------------\u001b[0m",
      "\u001b[0;31mTypeError\u001b[0m                                 Traceback (most recent call last)",
      "\u001b[0;32m/var/folders/h4/qkygjbx150l41hr_cmr5wpt80000gn/T/ipykernel_8220/1142037837.py\u001b[0m in \u001b[0;36m<module>\u001b[0;34m\u001b[0m\n\u001b[1;32m      1\u001b[0m \u001b[0ma\u001b[0m\u001b[0;34m=\u001b[0m\u001b[0;34m[\u001b[0m\u001b[0;34m'a'\u001b[0m\u001b[0;34m,\u001b[0m \u001b[0;34m'b'\u001b[0m\u001b[0;34m]\u001b[0m\u001b[0;34m\u001b[0m\u001b[0;34m\u001b[0m\u001b[0m\n\u001b[0;32m----> 2\u001b[0;31m \u001b[0mprint\u001b[0m\u001b[0;34m(\u001b[0m\u001b[0msum\u001b[0m\u001b[0;34m(\u001b[0m\u001b[0ma\u001b[0m\u001b[0;34m)\u001b[0m\u001b[0;34m)\u001b[0m\u001b[0;34m\u001b[0m\u001b[0;34m\u001b[0m\u001b[0m\n\u001b[0m",
      "\u001b[0;31mTypeError\u001b[0m: unsupported operand type(s) for +: 'int' and 'str'"
     ]
    }
   ],
   "source": [
    "a=['a', 'b']\n",
    "print(sum(a))"
   ]
  },
  {
   "cell_type": "code",
   "execution_count": null,
   "id": "3d1d28ae",
   "metadata": {},
   "outputs": [],
   "source": []
  }
 ],
 "metadata": {
  "kernelspec": {
   "display_name": "Python 3 (ipykernel)",
   "language": "python",
   "name": "python3"
  },
  "language_info": {
   "codemirror_mode": {
    "name": "ipython",
    "version": 3
   },
   "file_extension": ".py",
   "mimetype": "text/x-python",
   "name": "python",
   "nbconvert_exporter": "python",
   "pygments_lexer": "ipython3",
   "version": "3.9.6"
  }
 },
 "nbformat": 4,
 "nbformat_minor": 5
}
