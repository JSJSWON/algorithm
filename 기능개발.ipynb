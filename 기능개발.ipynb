{
 "cells": [
  {
   "cell_type": "code",
   "execution_count": 2,
   "id": "56de9472",
   "metadata": {},
   "outputs": [],
   "source": [
    "def solution(progresses, speeds):\n",
    "    answer = []\n",
    "    \n",
    "    days = []\n",
    "    \n",
    "    for i in range(len(speeds)):\n",
    "        tmp = 100 - progresses[i]\n",
    "        if tmp % speeds[i] == 0:\n",
    "            days.append(tmp // speeds[i])\n",
    "        else:\n",
    "            days.append(tmp // speeds[i] + 1)\n",
    "    \n",
    "    now = days[0]\n",
    "    cnt = 0\n",
    "    for x in days:\n",
    "        if x <= now:\n",
    "            cnt += 1\n",
    "        else:\n",
    "            answer.append(cnt)\n",
    "            cnt = 1\n",
    "            now = x\n",
    "    if cnt != 0:\n",
    "        answer.append(cnt)\n",
    "    \n",
    "    \n",
    "    return answer"
   ]
  },
  {
   "cell_type": "code",
   "execution_count": 4,
   "id": "61fa79fe",
   "metadata": {},
   "outputs": [
    {
     "data": {
      "text/plain": [
       "[1, 3, 2]"
      ]
     },
     "execution_count": 4,
     "metadata": {},
     "output_type": "execute_result"
    }
   ],
   "source": [
    "solution([95, 90, 99, 99, 80, 99], [1, 1, 1, 1, 1, 1])"
   ]
  },
  {
   "cell_type": "code",
   "execution_count": null,
   "id": "c2204784",
   "metadata": {},
   "outputs": [],
   "source": []
  }
 ],
 "metadata": {
  "kernelspec": {
   "display_name": "Python 3 (ipykernel)",
   "language": "python",
   "name": "python3"
  },
  "language_info": {
   "codemirror_mode": {
    "name": "ipython",
    "version": 3
   },
   "file_extension": ".py",
   "mimetype": "text/x-python",
   "name": "python",
   "nbconvert_exporter": "python",
   "pygments_lexer": "ipython3",
   "version": "3.9.6"
  }
 },
 "nbformat": 4,
 "nbformat_minor": 5
}
