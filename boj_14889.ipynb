{
 "cells": [
  {
   "cell_type": "code",
   "execution_count": null,
   "id": "dbbd7192",
   "metadata": {},
   "outputs": [],
   "source": [
    "from itertools import combinations\n",
    "N = int(input())\n",
    "S = []\n",
    "p = set(i for i in range(1, N+1))\n",
    "for _ in range(N):\n",
    "    S.append(list(map(int, input().split())))\n",
    "\n",
    "teams = list(combinations(p, N//2))\n",
    "answer = float('inf')\n",
    "\n",
    "for t in teams:\n",
    "    t = list(t)\n",
    "    tt = list(p - set(t))\n",
    "    t_score = 0\n",
    "    tt_score = 0\n",
    "    \n",
    "    for i in range(len(t)-1):\n",
    "        for j in range(i+1, len(t)):\n",
    "            t_score += S[t[i]-1][t[j]-1] + S[t[j]-1][t[i]-1]\n",
    "    for i in range(len(tt)-1):\n",
    "        for j in range(i+1, len(tt)):\n",
    "            tt_score += S[tt[i]-1][tt[j]-1] + S[tt[j]-1][tt[i]-1]\n",
    "    if t_score - tt_score >= 0 and t_score - tt_score < answer:\n",
    "        answer = t_score - tt_score\n",
    "    if tt_score - t_score >= 0 and tt_score - t_score < answer:\n",
    "        answer = tt_score - t_score\n",
    "\n",
    "print(answer)"
   ]
  }
 ],
 "metadata": {
  "kernelspec": {
   "display_name": "Python 3 (ipykernel)",
   "language": "python",
   "name": "python3"
  },
  "language_info": {
   "codemirror_mode": {
    "name": "ipython",
    "version": 3
   },
   "file_extension": ".py",
   "mimetype": "text/x-python",
   "name": "python",
   "nbconvert_exporter": "python",
   "pygments_lexer": "ipython3",
   "version": "3.9.12"
  }
 },
 "nbformat": 4,
 "nbformat_minor": 5
}
