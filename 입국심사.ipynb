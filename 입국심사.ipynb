{
 "cells": [
  {
   "cell_type": "code",
   "execution_count": 151,
   "id": "3c1df88f",
   "metadata": {},
   "outputs": [],
   "source": [
    "def solution(n, times):\n",
    "    answer = 0\n",
    "    \n",
    "    m = 1\n",
    "    M = 10**18\n",
    "    \n",
    "    while True:\n",
    "        if m == M:\n",
    "            return m\n",
    "        tmp = 0\n",
    "        tmp_m = 0\n",
    "        tmp_M = 0\n",
    "        for x in times:\n",
    "            tmp += ((m + M) // 2) // x\n",
    "            tmp_m += m // x\n",
    "            tmp_M += M // x\n",
    "        if tmp_m == n:\n",
    "            return m\n",
    "        if tmp == n:\n",
    "            M = ((m + M) // 2)\n",
    "        else:\n",
    "            if n > tmp:\n",
    "                m = ((m + M) // 2) + 1\n",
    "            else:\n",
    "                M = ((m + M) // 2)"
   ]
  },
  {
   "cell_type": "code",
   "execution_count": 152,
   "id": "fc33a784",
   "metadata": {},
   "outputs": [
    {
     "data": {
      "text/plain": [
       "30"
      ]
     },
     "execution_count": 152,
     "metadata": {},
     "output_type": "execute_result"
    }
   ],
   "source": [
    "solution(10, [6,8,10])"
   ]
  },
  {
   "cell_type": "code",
   "execution_count": null,
   "id": "8c85da85",
   "metadata": {},
   "outputs": [],
   "source": []
  }
 ],
 "metadata": {
  "kernelspec": {
   "display_name": "Python 3 (ipykernel)",
   "language": "python",
   "name": "python3"
  },
  "language_info": {
   "codemirror_mode": {
    "name": "ipython",
    "version": 3
   },
   "file_extension": ".py",
   "mimetype": "text/x-python",
   "name": "python",
   "nbconvert_exporter": "python",
   "pygments_lexer": "ipython3",
   "version": "3.9.6"
  }
 },
 "nbformat": 4,
 "nbformat_minor": 5
}
