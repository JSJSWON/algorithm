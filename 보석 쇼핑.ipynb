{
 "cells": [
  {
   "cell_type": "code",
   "execution_count": 95,
   "id": "974fd3eb",
   "metadata": {},
   "outputs": [],
   "source": [
    "def solution(gems):\n",
    "    index = dict()\n",
    "    gem = set(gems)\n",
    "    cnt = dict()\n",
    "    for x in gems:\n",
    "        if x in cnt:\n",
    "            cnt[x] += 1\n",
    "        else:\n",
    "            cnt[x] = 1\n",
    "\n",
    "    ans = [0, len(gems)]\n",
    "    while True:\n",
    "        if cnt[gems[ans[1]-1]] == 1:\n",
    "            break\n",
    "        else:\n",
    "            cnt[gems[ans[1]-1]] -= 1\n",
    "            ans[1] -= 1\n",
    "    while True:\n",
    "        if cnt[gems[ans[0]]] == 1:\n",
    "            break\n",
    "        else:\n",
    "            cnt[gems[ans[0]]] -= 1\n",
    "            ans[0] += 1\n",
    "    ans[1] -= 1\n",
    "    print(ans)\n",
    "    \n",
    "#     while True:\n",
    "#         l = ans\n",
    "    \n",
    "\n",
    "#     return answer"
   ]
  },
  {
   "cell_type": "code",
   "execution_count": 96,
   "id": "8e541798",
   "metadata": {},
   "outputs": [
    {
     "data": {
      "text/plain": [
       "[3, 7]"
      ]
     },
     "execution_count": 96,
     "metadata": {},
     "output_type": "execute_result"
    }
   ],
   "source": [
    "solution([\"DIA\", \"RUBY\", \"RUBY\", \"DIA\", \"DIA\", \"EMERALD\", \"SAPPHIRE\", \"DIA\"])"
   ]
  },
  {
   "cell_type": "code",
   "execution_count": 97,
   "id": "fafce59f",
   "metadata": {},
   "outputs": [
    {
     "data": {
      "text/plain": [
       "[1, 1]"
      ]
     },
     "execution_count": 97,
     "metadata": {},
     "output_type": "execute_result"
    }
   ],
   "source": [
    "solution([\"XYZ\", \"XYZ\", \"XYZ\"])"
   ]
  },
  {
   "cell_type": "code",
   "execution_count": 98,
   "id": "446c0e49",
   "metadata": {},
   "outputs": [
    {
     "data": {
      "text/plain": [
       "[1, 3]"
      ]
     },
     "execution_count": 98,
     "metadata": {},
     "output_type": "execute_result"
    }
   ],
   "source": [
    "solution([\"AA\", \"AB\", \"AC\", \"AA\", \"AC\"])"
   ]
  },
  {
   "cell_type": "code",
   "execution_count": 33,
   "id": "17c06dc6",
   "metadata": {},
   "outputs": [
    {
     "data": {
      "text/plain": [
       "True"
      ]
     },
     "execution_count": 33,
     "metadata": {},
     "output_type": "execute_result"
    }
   ],
   "source": [
    "a=[1,2,3,3]\n",
    "b=[3,3,2,1]\n",
    "set(a) == set(b)"
   ]
  },
  {
   "cell_type": "code",
   "execution_count": 52,
   "id": "f35550bf",
   "metadata": {},
   "outputs": [
    {
     "ename": "ValueError",
     "evalue": "dictionary update sequence element #0 has length 1; 2 is required",
     "output_type": "error",
     "traceback": [
      "\u001b[0;31m---------------------------------------------------------------------------\u001b[0m",
      "\u001b[0;31mValueError\u001b[0m                                Traceback (most recent call last)",
      "\u001b[0;32m/var/folders/h4/qkygjbx150l41hr_cmr5wpt80000gn/T/ipykernel_35578/2996619943.py\u001b[0m in \u001b[0;36m<module>\u001b[0;34m\u001b[0m\n\u001b[1;32m      1\u001b[0m \u001b[0ma\u001b[0m \u001b[0;34m=\u001b[0m \u001b[0;34m[\u001b[0m\u001b[0;34m'b'\u001b[0m\u001b[0;34m,\u001b[0m \u001b[0;34m'c'\u001b[0m\u001b[0;34m]\u001b[0m\u001b[0;34m\u001b[0m\u001b[0;34m\u001b[0m\u001b[0m\n\u001b[0;32m----> 2\u001b[0;31m \u001b[0mdic\u001b[0m \u001b[0;34m=\u001b[0m \u001b[0mdict\u001b[0m\u001b[0;34m(\u001b[0m\u001b[0ma\u001b[0m\u001b[0;34m)\u001b[0m\u001b[0;34m\u001b[0m\u001b[0;34m\u001b[0m\u001b[0m\n\u001b[0m",
      "\u001b[0;31mValueError\u001b[0m: dictionary update sequence element #0 has length 1; 2 is required"
     ]
    }
   ],
   "source": [
    "a = ['b', 'c']\n",
    "dic = dict(a)"
   ]
  },
  {
   "cell_type": "code",
   "execution_count": null,
   "id": "7497dec9",
   "metadata": {},
   "outputs": [],
   "source": [
    "def solution(gems):\n",
    "    index = dict()\n",
    "    gem = set(gems)\n",
    "\n",
    "    ans = [0, len(gems)-1]\n",
    "    \n",
    "    for i in range(len(list(gem)), len(gems)):\n",
    "        for j in range(len(gems) - i + 1):\n",
    "            if set(gems[j:j+i+1]) == gem:\n",
    "                return [j+1, j+i+1+1]\n",
    "    ans[0] += 1\n",
    "    ans[1] += 1\n",
    "    return ans"
   ]
  },
  {
   "cell_type": "code",
   "execution_count": null,
   "id": "92a121db",
   "metadata": {},
   "outputs": [],
   "source": [
    "def solution(gems):\n",
    "    index = dict()\n",
    "    gem = set(gems)\n",
    "\n",
    "    ans = [0, len(gems)-1]\n",
    "    \n",
    "    for i in range(len(list(gem)), len(gems)):\n",
    "        for j in range(len(gems) - i + 1):\n",
    "            if set(gems[j:j+i+1]) == gem:\n",
    "                return [j+1, j+i+1+1]\n",
    "    ans[0] += 1\n",
    "    ans[1] += 1\n",
    "    return ans"
   ]
  },
  {
   "cell_type": "code",
   "execution_count": 126,
   "id": "f3b0ea22",
   "metadata": {},
   "outputs": [],
   "source": [
    "def solution(gems):\n",
    "    answer = []\n",
    "    cnt = dict()\n",
    "    start = 0\n",
    "    end = 0\n",
    "    gem = set(gems)\n",
    "    l = len(gems)\n",
    "    if len(gem) == 1:\n",
    "        return [1,1]\n",
    "    if len(gem) == l:\n",
    "        return [1, l]\n",
    "    for x in gem:\n",
    "        cnt[x] = 0\n",
    "    cnt[gems[0]] += 1\n",
    "    while True:\n",
    "        if 0 not in cnt.values():\n",
    "            answer.append([start, end])\n",
    "            cnt[gems[start]] -= 1\n",
    "            start += 1\n",
    "        else:\n",
    "            end += 1\n",
    "            if end == l:\n",
    "                break\n",
    "            cnt[gems[end]] += 1\n",
    "    answer.sort(key=lambda x: (x[1]-x[0], x[0]))\n",
    "    answer[0][0] += 1\n",
    "    answer[0][1] += 1\n",
    "    return answer[0]"
   ]
  },
  {
   "cell_type": "code",
   "execution_count": 127,
   "id": "6bf6ffb0",
   "metadata": {},
   "outputs": [
    {
     "data": {
      "text/plain": [
       "[3, 7]"
      ]
     },
     "execution_count": 127,
     "metadata": {},
     "output_type": "execute_result"
    }
   ],
   "source": [
    "solution([\"DIA\", \"RUBY\", \"RUBY\", \"DIA\", \"DIA\", \"EMERALD\", \"SAPPHIRE\", \"DIA\"])"
   ]
  },
  {
   "cell_type": "code",
   "execution_count": 125,
   "id": "2e2a2d10",
   "metadata": {},
   "outputs": [
    {
     "data": {
      "text/plain": [
       "[1, 1]"
      ]
     },
     "execution_count": 125,
     "metadata": {},
     "output_type": "execute_result"
    }
   ],
   "source": [
    "solution([\"XYZ\", \"XYZ\", \"XYZ\"])"
   ]
  },
  {
   "cell_type": "code",
   "execution_count": 114,
   "id": "4d03b72b",
   "metadata": {},
   "outputs": [
    {
     "data": {
      "text/plain": [
       "True"
      ]
     },
     "execution_count": 114,
     "metadata": {},
     "output_type": "execute_result"
    }
   ],
   "source": [
    "dic = {'a':1, 'b':0, 'c':1}\n",
    "0 in dic.values()"
   ]
  },
  {
   "cell_type": "code",
   "execution_count": 142,
   "id": "f390e06a",
   "metadata": {},
   "outputs": [],
   "source": [
    "def solution(gems):\n",
    "    answer = []\n",
    "    cnt = dict()\n",
    "    start = 0\n",
    "    end = 0\n",
    "    gem = set(gems)\n",
    "    l = len(gem)\n",
    "    now = set()\n",
    "    for x in gem:\n",
    "        cnt[x] = 0\n",
    "    cnt[gems[0]] += 1\n",
    "    now.add(gems[0])\n",
    "    ans = len(gems)\n",
    "    while True:\n",
    "        if len(now) == l:\n",
    "            if ans > end - start + 1:\n",
    "                answer = [[start, end]]\n",
    "                ans = end - start + 1\n",
    "            elif ans == end - start + 1:\n",
    "                answer.append([start, end])\n",
    "            cnt[gems[start]] -= 1\n",
    "            if cnt[gems[start]] == 0:\n",
    "                now.remove(gems[start])\n",
    "            start += 1\n",
    "        else:\n",
    "            end += 1\n",
    "            if end == len(gems):\n",
    "                break\n",
    "            cnt[gems[end]] += 1\n",
    "            if cnt[gems[end]] == 1:\n",
    "                now.add(gems[end])\n",
    "    answer[0][0] += 1\n",
    "    answer[0][1] += 1\n",
    "    return answer[0]"
   ]
  },
  {
   "cell_type": "code",
   "execution_count": 143,
   "id": "395e84aa",
   "metadata": {},
   "outputs": [
    {
     "data": {
      "text/plain": [
       "[3, 7]"
      ]
     },
     "execution_count": 143,
     "metadata": {},
     "output_type": "execute_result"
    }
   ],
   "source": [
    "solution([\"DIA\", \"RUBY\", \"RUBY\", \"DIA\", \"DIA\", \"EMERALD\", \"SAPPHIRE\", \"DIA\"])"
   ]
  },
  {
   "cell_type": "code",
   "execution_count": null,
   "id": "24580156",
   "metadata": {},
   "outputs": [],
   "source": []
  }
 ],
 "metadata": {
  "kernelspec": {
   "display_name": "Python 3 (ipykernel)",
   "language": "python",
   "name": "python3"
  },
  "language_info": {
   "codemirror_mode": {
    "name": "ipython",
    "version": 3
   },
   "file_extension": ".py",
   "mimetype": "text/x-python",
   "name": "python",
   "nbconvert_exporter": "python",
   "pygments_lexer": "ipython3",
   "version": "3.9.6"
  }
 },
 "nbformat": 4,
 "nbformat_minor": 5
}
