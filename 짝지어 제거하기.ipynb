{
 "cells": [
  {
   "cell_type": "code",
   "execution_count": 21,
   "id": "8f9316bb",
   "metadata": {},
   "outputs": [],
   "source": [
    "def solution(s):\n",
    "    answer = 0\n",
    "    \n",
    "    s = list(s)\n",
    "    i = 0\n",
    "\n",
    "    while True:\n",
    "        if len(s) - 2 == i and len(s) != 2:\n",
    "            break\n",
    "        if len(s) == 0:\n",
    "            break\n",
    "        else:\n",
    "            if s[i] == s[i + 1]:\n",
    "                del s[i]\n",
    "                del s[i]\n",
    "                i = 0\n",
    "            else:\n",
    "                i += 1\n",
    "    \n",
    "    if len(s) == 0:\n",
    "        answer = 1\n",
    "\n",
    "    return answer"
   ]
  },
  {
   "cell_type": "code",
   "execution_count": 23,
   "id": "263180ee",
   "metadata": {},
   "outputs": [
    {
     "name": "stdout",
     "output_type": "stream",
     "text": [
      "['c', 'd', 'c', 'd']\n"
     ]
    },
    {
     "data": {
      "text/plain": [
       "0"
      ]
     },
     "execution_count": 23,
     "metadata": {},
     "output_type": "execute_result"
    }
   ],
   "source": [
    "solution('cdcd')"
   ]
  },
  {
   "cell_type": "code",
   "execution_count": 61,
   "id": "713b347d",
   "metadata": {},
   "outputs": [],
   "source": [
    "def solution(s):\n",
    "    answer = -1\n",
    "    \n",
    "    tmp = ''\n",
    "    \n",
    "    while True:\n",
    "        i = 0\n",
    "        while True:\n",
    "            if i == len(s) - 1:\n",
    "                tmp += s[i]\n",
    "                break\n",
    "            elif i == len(s):\n",
    "                break\n",
    "            else:\n",
    "                if s[i] == s[i + 1]:\n",
    "                    i += 2\n",
    "                else:\n",
    "                    tmp += s[i]\n",
    "                    if i == len(s) - 2:\n",
    "                        tmp += s[i + 1]\n",
    "                    i += 1\n",
    "                    if i == len(s) - 1:\n",
    "                        break\n",
    "        print(tmp)\n",
    "        if tmp == s:\n",
    "            answer = 0\n",
    "            break\n",
    "        if len(tmp) == 0:\n",
    "            answer = 1\n",
    "            break\n",
    "        if tmp != s:\n",
    "            s = tmp\n",
    "            tmp = ''\n",
    "    return answer"
   ]
  },
  {
   "cell_type": "code",
   "execution_count": 62,
   "id": "8cfcda5d",
   "metadata": {},
   "outputs": [
    {
     "name": "stdout",
     "output_type": "stream",
     "text": [
      "bbdcdc\n",
      "dcdc\n",
      "dcdc\n"
     ]
    },
    {
     "data": {
      "text/plain": [
       "0"
      ]
     },
     "execution_count": 62,
     "metadata": {},
     "output_type": "execute_result"
    }
   ],
   "source": [
    "solution('baabdcdaac')"
   ]
  },
  {
   "cell_type": "code",
   "execution_count": 125,
   "id": "2ae0a5ed",
   "metadata": {},
   "outputs": [],
   "source": [
    "def solution(s):\n",
    "    \n",
    "    tmp = []\n",
    "    \n",
    "    i = 0\n",
    "    \n",
    "    while True:\n",
    "        if i == len(s):\n",
    "            if len(tmp) > 0:\n",
    "                answer = 0\n",
    "                break\n",
    "            answer = 1\n",
    "            break\n",
    "        \n",
    "        if len(tmp) > 0:\n",
    "            if tmp[-1] == s[i]:\n",
    "                if i == len(s) - 1:\n",
    "                    answer = 1\n",
    "                    break\n",
    "                else:\n",
    "                    del tmp[-1]\n",
    "                    i += 1\n",
    "                    continue\n",
    "            else:\n",
    "                if i == len(s) - 1:\n",
    "                    answer = 0\n",
    "                    break\n",
    "        else:\n",
    "            if i == len(s) - 1:\n",
    "                answer = 0\n",
    "                break\n",
    "        \n",
    "        if s[i] == s[i + 1]:\n",
    "            i += 2\n",
    "        else:\n",
    "            tmp.append(s[i])\n",
    "            i += 1\n",
    "\n",
    "    return answer"
   ]
  },
  {
   "cell_type": "code",
   "execution_count": 126,
   "id": "1d0470d2",
   "metadata": {},
   "outputs": [
    {
     "name": "stdout",
     "output_type": "stream",
     "text": [
      "[]\n",
      "[]\n",
      "['a']\n",
      "['a']\n"
     ]
    },
    {
     "data": {
      "text/plain": [
       "0"
      ]
     },
     "execution_count": 126,
     "metadata": {},
     "output_type": "execute_result"
    }
   ],
   "source": [
    "solution('aaabb')"
   ]
  },
  {
   "cell_type": "code",
   "execution_count": 103,
   "id": "04dcf632",
   "metadata": {},
   "outputs": [
    {
     "ename": "IndexError",
     "evalue": "list index out of range",
     "output_type": "error",
     "traceback": [
      "\u001b[0;31m---------------------------------------------------------------------------\u001b[0m",
      "\u001b[0;31mIndexError\u001b[0m                                Traceback (most recent call last)",
      "\u001b[0;32m/var/folders/h4/qkygjbx150l41hr_cmr5wpt80000gn/T/ipykernel_49389/2558899541.py\u001b[0m in \u001b[0;36m<module>\u001b[0;34m\u001b[0m\n\u001b[1;32m      1\u001b[0m \u001b[0ma\u001b[0m \u001b[0;34m=\u001b[0m \u001b[0;34m[\u001b[0m\u001b[0;34m]\u001b[0m\u001b[0;34m\u001b[0m\u001b[0;34m\u001b[0m\u001b[0m\n\u001b[0;32m----> 2\u001b[0;31m \u001b[0;32mif\u001b[0m \u001b[0ma\u001b[0m\u001b[0;34m[\u001b[0m\u001b[0;34m-\u001b[0m\u001b[0;36m1\u001b[0m\u001b[0;34m]\u001b[0m \u001b[0;34m==\u001b[0m \u001b[0;34m'1'\u001b[0m\u001b[0;34m:\u001b[0m\u001b[0;34m\u001b[0m\u001b[0;34m\u001b[0m\u001b[0m\n\u001b[0m\u001b[1;32m      3\u001b[0m     \u001b[0mprint\u001b[0m\u001b[0;34m(\u001b[0m\u001b[0;34m'hi'\u001b[0m\u001b[0;34m)\u001b[0m\u001b[0;34m\u001b[0m\u001b[0;34m\u001b[0m\u001b[0m\n",
      "\u001b[0;31mIndexError\u001b[0m: list index out of range"
     ]
    }
   ],
   "source": [
    "a = []\n",
    "if a[-1] == '1':\n",
    "    print('hi')"
   ]
  },
  {
   "cell_type": "code",
   "execution_count": null,
   "id": "a886f0d8",
   "metadata": {},
   "outputs": [],
   "source": []
  }
 ],
 "metadata": {
  "kernelspec": {
   "display_name": "Python 3 (ipykernel)",
   "language": "python",
   "name": "python3"
  },
  "language_info": {
   "codemirror_mode": {
    "name": "ipython",
    "version": 3
   },
   "file_extension": ".py",
   "mimetype": "text/x-python",
   "name": "python",
   "nbconvert_exporter": "python",
   "pygments_lexer": "ipython3",
   "version": "3.9.6"
  }
 },
 "nbformat": 4,
 "nbformat_minor": 5
}
