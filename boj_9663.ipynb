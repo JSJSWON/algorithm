{
 "cells": [
  {
   "cell_type": "code",
   "execution_count": 12,
   "id": "38e19bf2",
   "metadata": {},
   "outputs": [
    {
     "name": "stdout",
     "output_type": "stream",
     "text": [
      "15\n",
      "2279184\n"
     ]
    }
   ],
   "source": [
    "N = int(input())\n",
    "\n",
    "ans = 0\n",
    "graph = [0] * N # index=행, value=열\n",
    "\n",
    "def possible(x): # x행 i열에 놓을 수 있니?\n",
    "    for i in range(x): # -> 0행부터 순서대로 넣기 때문에 (x-1)행까지만 체크하면 됨\n",
    "        # 행은 무조건 다르니 1. 열이 같니? 2. 대각선이 겹치니?(기울기!! -> abs(행 - 열) 아님!!)\n",
    "        if graph[x] == graph[i] or abs(graph[x] - graph[i]) == abs(x - i):\n",
    "            return False\n",
    "    return True\n",
    "\n",
    "def queen(x): # x행에 queen 놓기\n",
    "    global ans\n",
    "    if x == N:\n",
    "        ans += 1\n",
    "        return\n",
    "    \n",
    "    for i in range(N):\n",
    "        graph[x] = i\n",
    "        if possible(x):\n",
    "            queen(x+1)\n",
    "queen(0)\n",
    "print(ans)"
   ]
  },
  {
   "cell_type": "code",
   "execution_count": null,
   "id": "b4ac9416",
   "metadata": {},
   "outputs": [],
   "source": []
  }
 ],
 "metadata": {
  "kernelspec": {
   "display_name": "Python 3 (ipykernel)",
   "language": "python",
   "name": "python3"
  },
  "language_info": {
   "codemirror_mode": {
    "name": "ipython",
    "version": 3
   },
   "file_extension": ".py",
   "mimetype": "text/x-python",
   "name": "python",
   "nbconvert_exporter": "python",
   "pygments_lexer": "ipython3",
   "version": "3.9.12"
  }
 },
 "nbformat": 4,
 "nbformat_minor": 5
}
