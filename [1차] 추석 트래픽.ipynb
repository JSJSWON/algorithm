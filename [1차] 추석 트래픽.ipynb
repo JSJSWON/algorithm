{
 "cells": [
  {
   "cell_type": "code",
   "execution_count": null,
   "id": "d0aa77dc",
   "metadata": {},
   "outputs": [],
   "source": [
    "# 시작 시간은 주어진 시간 - 처리 시간 + 0.001\n",
    "# 시작과 끝만 전부 확인하면 됨! +-1s로"
   ]
  },
  {
   "cell_type": "code",
   "execution_count": 89,
   "id": "b009e182",
   "metadata": {},
   "outputs": [
    {
     "ename": "SyntaxError",
     "evalue": "closing parenthesis ']' does not match opening parenthesis '(' (1522481160.py, line 43)",
     "output_type": "error",
     "traceback": [
      "\u001b[0;36m  File \u001b[0;32m\"/var/folders/h4/qkygjbx150l41hr_cmr5wpt80000gn/T/ipykernel_6592/1522481160.py\"\u001b[0;36m, line \u001b[0;32m43\u001b[0m\n\u001b[0;31m    time.append([str(format(h_start, '02') + ':' + str(format(m_start, '02')) + ':' + str(format(s_start, '06.012')),str(format(h_end, '02') + ':' + str(format(m_end, '02')) + ':' + str(format(s_end, '06.012'))])\u001b[0m\n\u001b[0m                                                                                                                                                                                                                  ^\u001b[0m\n\u001b[0;31mSyntaxError\u001b[0m\u001b[0;31m:\u001b[0m closing parenthesis ']' does not match opening parenthesis '('\n"
     ]
    }
   ],
   "source": [
    "def solution(lines):\n",
    "    answer = 0\n",
    "    \n",
    "    time = []\n",
    "    for x in lines:\n",
    "        h_start, h_end = int(x.split()[1][:2]), int(x.split()[1][:2])\n",
    "        m_start, m_end = int(x.split()[1][3:5]), int(x.split()[1][3:5])\n",
    "        s_start, s_end = float(x.split()[1][6:]), float(x.split()[1][6:])\n",
    "        m = int(x.split()[2][:1])\n",
    "        s = int(x.split()[2][2:-1])\n",
    "        \n",
    "        s_start = round(s_end - s / 1000, 3)\n",
    "        if s_start < 0:\n",
    "            s_start = round(1 + s_start + 0.001, 3)\n",
    "            if s_start == 1:\n",
    "                s_start = 0\n",
    "            m_start -= 1\n",
    "            if m_start < 0:\n",
    "                m_start = 59\n",
    "                h_start -= 1\n",
    "                if h_start < 0:\n",
    "                    m_start = 0\n",
    "                    h_start = 0\n",
    "        m_start -= m\n",
    "        if m_start == -1:\n",
    "            m_start = 59\n",
    "            h_start -= 1\n",
    "            if h_start < 0:\n",
    "                m_start = 0\n",
    "                h_start = 0\n",
    "        elif m_start == -2:\n",
    "            m_start = 58\n",
    "            h_start -= 1\n",
    "            if h_start < 0:\n",
    "                m_start = 0\n",
    "                h_start = 0\n",
    "        elif m_start == -3:\n",
    "            m_start = 57\n",
    "            h_start -= 1\n",
    "            if h_start < 0:\n",
    "                m_start = 0\n",
    "                h_start = 0\n",
    "        time.append([str(format(h_start, '02') + ':' + str(format(m_start, '02')) + ':' + str(format(s_start, '06.012')),str(format(h_end, '02') + ':' + str(format(m_end, '02')) + ':' + str(format(s_end, '06.012'))])\n",
    "    print(time)\n",
    "    for x in time:\n",
    "        x0_h = int(x[0][:2])\n",
    "        x0_m = int(x[0][3:5])\n",
    "        x0_s = int(x[0][6:8])\n",
    "        x0_ms = int(x[0][9:])\n",
    "        x0 = x[0]\n",
    "        \n",
    "        x0_h_past = int(x[0][:2])\n",
    "        x0_m_past = int(x[0][3:5])\n",
    "        x0_s_past = int(x[0][6:8]) - 1\n",
    "        \n",
    "        if x0_s_past == -1:\n",
    "            x0_s_past = 59\n",
    "            x0_m_past = x0_m - 1\n",
    "            if x0_m_past == -1:\n",
    "                x0_m_past = 59\n",
    "                x0_h_past = x0_h - 1\n",
    "                if x0_h_past == -1:\n",
    "                    x0_s_past = 0\n",
    "                    x0_m_past = 0\n",
    "                    x0_h_past = 0\n",
    "                \n",
    "\n",
    "        x0_past = str(format(x0_h_past, '02')) + ':' + str(format(x0_m_past, '02')) + ':' + str(format(x0_s_past, '02')) + '.' + str(x0_ms)\n",
    "        \n",
    "        print(x0_past)\n",
    "#         x0_future\n",
    "        x1 = x[1]\n",
    "        x1_m = x[1]\n",
    "        x1_p = x[1]\n",
    "        \n",
    "        cnt0_past = 0\n",
    "        cnt0_future = 0\n",
    "        cnt1_past = 0\n",
    "        cnt1_future = 0\n",
    "        \n",
    "#         for y in time:\n",
    "#             if \n",
    "    \n",
    "    \n",
    "    \n",
    "    \n",
    "    \n",
    "    return answer"
   ]
  },
  {
   "cell_type": "code",
   "execution_count": 90,
   "id": "d8ef75bf",
   "metadata": {},
   "outputs": [
    {
     "name": "stdout",
     "output_type": "stream",
     "text": [
      "[['20:59:57.07', '20:59:57.421'], ['20:58:58.052', '20:59:58.233'], ['20:59:58.291', '20:59:58.299'], ['20:58:58.647', '20:59:58.688'], ['20:58:59.179', '20:59:59.591'], ['20:58:0.999', '21:0:0.464'], ['20:59:0.16', '21:0:0.741'], ['20:58:0.717', '21:0:0.748'], ['21:0:0.585', '21:0:0.966'], ['20:58:2.004', '21:0:2.066']]\n",
      "20:59:56.7\n",
      "20:58:57.52\n",
      "20:59:57.291\n",
      "20:58:57.647\n",
      "20:58:58.179\n"
     ]
    },
    {
     "ename": "ValueError",
     "evalue": "invalid literal for int() with base 10: '0.'",
     "output_type": "error",
     "traceback": [
      "\u001b[0;31m---------------------------------------------------------------------------\u001b[0m",
      "\u001b[0;31mValueError\u001b[0m                                Traceback (most recent call last)",
      "\u001b[0;32m/var/folders/h4/qkygjbx150l41hr_cmr5wpt80000gn/T/ipykernel_6592/3799175611.py\u001b[0m in \u001b[0;36m<module>\u001b[0;34m\u001b[0m\n\u001b[0;32m----> 1\u001b[0;31m solution([\n\u001b[0m\u001b[1;32m      2\u001b[0m \u001b[0;34m\"2016-09-15 20:59:57.421 0.351s\"\u001b[0m\u001b[0;34m,\u001b[0m\u001b[0;34m\u001b[0m\u001b[0;34m\u001b[0m\u001b[0m\n\u001b[1;32m      3\u001b[0m \u001b[0;34m\"2016-09-15 20:59:58.233 1.181s\"\u001b[0m\u001b[0;34m,\u001b[0m\u001b[0;34m\u001b[0m\u001b[0;34m\u001b[0m\u001b[0m\n\u001b[1;32m      4\u001b[0m \u001b[0;34m\"2016-09-15 20:59:58.299 0.8s\"\u001b[0m\u001b[0;34m,\u001b[0m\u001b[0;34m\u001b[0m\u001b[0;34m\u001b[0m\u001b[0m\n\u001b[1;32m      5\u001b[0m \u001b[0;34m\"2016-09-15 20:59:58.688 1.041s\"\u001b[0m\u001b[0;34m,\u001b[0m\u001b[0;34m\u001b[0m\u001b[0;34m\u001b[0m\u001b[0m\n",
      "\u001b[0;32m/var/folders/h4/qkygjbx150l41hr_cmr5wpt80000gn/T/ipykernel_6592/1942280801.py\u001b[0m in \u001b[0;36msolution\u001b[0;34m(lines)\u001b[0m\n\u001b[1;32m     46\u001b[0m         \u001b[0mx0_h\u001b[0m \u001b[0;34m=\u001b[0m \u001b[0mint\u001b[0m\u001b[0;34m(\u001b[0m\u001b[0mx\u001b[0m\u001b[0;34m[\u001b[0m\u001b[0;36m0\u001b[0m\u001b[0;34m]\u001b[0m\u001b[0;34m[\u001b[0m\u001b[0;34m:\u001b[0m\u001b[0;36m2\u001b[0m\u001b[0;34m]\u001b[0m\u001b[0;34m)\u001b[0m\u001b[0;34m\u001b[0m\u001b[0;34m\u001b[0m\u001b[0m\n\u001b[1;32m     47\u001b[0m         \u001b[0mx0_m\u001b[0m \u001b[0;34m=\u001b[0m \u001b[0mint\u001b[0m\u001b[0;34m(\u001b[0m\u001b[0mx\u001b[0m\u001b[0;34m[\u001b[0m\u001b[0;36m0\u001b[0m\u001b[0;34m]\u001b[0m\u001b[0;34m[\u001b[0m\u001b[0;36m3\u001b[0m\u001b[0;34m:\u001b[0m\u001b[0;36m5\u001b[0m\u001b[0;34m]\u001b[0m\u001b[0;34m)\u001b[0m\u001b[0;34m\u001b[0m\u001b[0;34m\u001b[0m\u001b[0m\n\u001b[0;32m---> 48\u001b[0;31m         \u001b[0mx0_s\u001b[0m \u001b[0;34m=\u001b[0m \u001b[0mint\u001b[0m\u001b[0;34m(\u001b[0m\u001b[0mx\u001b[0m\u001b[0;34m[\u001b[0m\u001b[0;36m0\u001b[0m\u001b[0;34m]\u001b[0m\u001b[0;34m[\u001b[0m\u001b[0;36m6\u001b[0m\u001b[0;34m:\u001b[0m\u001b[0;36m8\u001b[0m\u001b[0;34m]\u001b[0m\u001b[0;34m)\u001b[0m\u001b[0;34m\u001b[0m\u001b[0;34m\u001b[0m\u001b[0m\n\u001b[0m\u001b[1;32m     49\u001b[0m         \u001b[0mx0_ms\u001b[0m \u001b[0;34m=\u001b[0m \u001b[0mint\u001b[0m\u001b[0;34m(\u001b[0m\u001b[0mx\u001b[0m\u001b[0;34m[\u001b[0m\u001b[0;36m0\u001b[0m\u001b[0;34m]\u001b[0m\u001b[0;34m[\u001b[0m\u001b[0;36m9\u001b[0m\u001b[0;34m:\u001b[0m\u001b[0;34m]\u001b[0m\u001b[0;34m)\u001b[0m\u001b[0;34m\u001b[0m\u001b[0;34m\u001b[0m\u001b[0m\n\u001b[1;32m     50\u001b[0m         \u001b[0mx0\u001b[0m \u001b[0;34m=\u001b[0m \u001b[0mx\u001b[0m\u001b[0;34m[\u001b[0m\u001b[0;36m0\u001b[0m\u001b[0;34m]\u001b[0m\u001b[0;34m\u001b[0m\u001b[0;34m\u001b[0m\u001b[0m\n",
      "\u001b[0;31mValueError\u001b[0m: invalid literal for int() with base 10: '0.'"
     ]
    }
   ],
   "source": [
    "solution([\n",
    "\"2016-09-15 20:59:57.421 0.351s\",\n",
    "\"2016-09-15 20:59:58.233 1.181s\",\n",
    "\"2016-09-15 20:59:58.299 0.8s\",\n",
    "\"2016-09-15 20:59:58.688 1.041s\",\n",
    "\"2016-09-15 20:59:59.591 1.412s\",\n",
    "\"2016-09-15 21:00:00.464 1.466s\",\n",
    "\"2016-09-15 21:00:00.741 1.581s\",\n",
    "\"2016-09-15 21:00:00.748 2.31s\",\n",
    "\"2016-09-15 21:00:00.966 0.381s\",\n",
    "\"2016-09-15 21:00:02.066 2.62s\"\n",
    "])"
   ]
  },
  {
   "cell_type": "code",
   "execution_count": 91,
   "id": "8b415191",
   "metadata": {},
   "outputs": [
    {
     "name": "stdout",
     "output_type": "stream",
     "text": [
      "1\n",
      "101\n"
     ]
    }
   ],
   "source": [
    "a=[1,2]\n",
    "\n",
    "b = a[0]\n",
    "c=a[0]\n",
    "c+= 100\n",
    "print(b)\n",
    "print(c)"
   ]
  },
  {
   "cell_type": "code",
   "execution_count": 42,
   "id": "9058ef72",
   "metadata": {},
   "outputs": [
    {
     "name": "stdout",
     "output_type": "stream",
     "text": [
      "hi\n"
     ]
    }
   ],
   "source": [
    "if '00:59:58.291' < '00:59:58.292' < '00:59:58.299':\n",
    "    print('hi')"
   ]
  },
  {
   "cell_type": "code",
   "execution_count": 41,
   "id": "9db8f058",
   "metadata": {},
   "outputs": [
    {
     "name": "stdout",
     "output_type": "stream",
     "text": [
      "1\n"
     ]
    }
   ],
   "source": [
    "if 1-2 < 0:\n",
    "    aa = 1\n",
    "print(aa)"
   ]
  },
  {
   "cell_type": "code",
   "execution_count": 88,
   "id": "0344522c",
   "metadata": {},
   "outputs": [
    {
     "name": "stdout",
     "output_type": "stream",
     "text": [
      "11.123\n"
     ]
    }
   ],
   "source": [
    "print(format(11.123, '06.012'))"
   ]
  },
  {
   "cell_type": "code",
   "execution_count": 50,
   "id": "84e8ccf0",
   "metadata": {},
   "outputs": [
    {
     "name": "stdout",
     "output_type": "stream",
     "text": [
      "1:\n"
     ]
    }
   ],
   "source": [
    "a = str(1) + ':'\n",
    "print(a)"
   ]
  },
  {
   "cell_type": "code",
   "execution_count": null,
   "id": "2198511c",
   "metadata": {},
   "outputs": [],
   "source": []
  },
  {
   "cell_type": "code",
   "execution_count": null,
   "id": "6488b56f",
   "metadata": {},
   "outputs": [],
   "source": [
    "# 시간을 정수로 바꿔주고 시작하자 0.001s = 1, 1s = 1000, 1m = 60000, 1h = 3600000"
   ]
  },
  {
   "cell_type": "code",
   "execution_count": 221,
   "id": "7214cb45",
   "metadata": {},
   "outputs": [],
   "source": [
    "def solution(lines):\n",
    "    answer = 1\n",
    "    \n",
    "    time = []\n",
    "    \n",
    "    for x in lines:\n",
    "        x1 = x.split()[1]\n",
    "        end = int(x1[:2]) * 3600000 + int(x1[3:5]) * 60000 + int(x1[6:8]) * 1000 + int(x1[9:])\n",
    "        \n",
    "        if len(x.split()[2]) == 2:\n",
    "            x22 = 0\n",
    "        if len(x.split()[2]) == 4:\n",
    "            x22 = int(x.split()[2][2:-1]) * 100\n",
    "        if len(x.split()[2]) == 5:\n",
    "            x22 = int(x.split()[2][2:-1]) * 10\n",
    "        if len(x.split()[2]) == 6:\n",
    "            x22 = int(x.split()[2][2:-1])\n",
    "            \n",
    "            \n",
    "        t = int(x.split()[2][:1]) * 1000 + x22\n",
    "        \n",
    "        start = end - t + 1\n",
    "        time.append([start, end])\n",
    "    \n",
    "    for x in time:\n",
    "        s = x[0]\n",
    "        s_past = x[0] - 999\n",
    "        s_future = x[0] + 999\n",
    "        e = x[1]\n",
    "        e_past = x[1] - 999\n",
    "        e_future = x[1] + 999\n",
    "\n",
    "        \n",
    "        cnt = 0\n",
    "        tmp = 0\n",
    "        \n",
    "        for y in time:\n",
    "            if y[0] <= s_past <= y[1] or y[0] <= s <= y[1]:\n",
    "                tmp += 1\n",
    "            elif s_past <= y[0] and s >= y[1]:\n",
    "                tmp += 1\n",
    "        if cnt < tmp:\n",
    "            cnt = tmp\n",
    "        tmp = 0\n",
    "        \n",
    "        for y in time:\n",
    "            if y[0] <= s <= y[1] or y[0] <= s_future <= y[1]:\n",
    "                tmp += 1\n",
    "            elif s <= y[0] and s_future >= y[1]:\n",
    "                tmp += 1\n",
    "        if cnt < tmp:\n",
    "            cnt = tmp\n",
    "        tmp = 0\n",
    "        \n",
    "        for y in time:\n",
    "            if y[0] <= e_past <= y[1] or y[0] <= e <= y[1]:\n",
    "                tmp += 1\n",
    "            elif e_past <= y[0] and e >= y[1]:\n",
    "                tmp += 1\n",
    "        if cnt < tmp:\n",
    "            cnt = tmp\n",
    "        tmp = 0\n",
    "        \n",
    "        for y in time:\n",
    "            if y[0] <= e <= y[1] or y[0] <= e_future <= y[1]:\n",
    "                tmp += 1\n",
    "            elif e <= y[0] and e_future >= y[1]:\n",
    "                tmp += 1\n",
    "        if cnt < tmp:\n",
    "            cnt = tmp\n",
    "        tmp = 0\n",
    "        \n",
    "        if cnt > answer:\n",
    "            answer = cnt\n",
    "        \n",
    "    return answer"
   ]
  },
  {
   "cell_type": "code",
   "execution_count": 222,
   "id": "7270ea04",
   "metadata": {},
   "outputs": [
    {
     "data": {
      "text/plain": [
       "7"
      ]
     },
     "execution_count": 222,
     "metadata": {},
     "output_type": "execute_result"
    }
   ],
   "source": [
    "solution( [\n",
    "\n",
    "\"2016-09-15 20:59:57.421 0.351s\",\n",
    "\"2016-09-15 20:59:58.233 1.181s\",\n",
    "\"2016-09-15 20:59:58.299 0.8s\",\n",
    "\"2016-09-15 20:59:58.688 1.041s\",\n",
    "\"2016-09-15 20:59:59.591 1.412s\",\n",
    "\"2016-09-15 21:00:00.464 1.466s\",\n",
    "\"2016-09-15 21:00:00.741 1.581s\",\n",
    "\"2016-09-15 21:00:00.748 2.31s\",\n",
    "\"2016-09-15 21:00:00.966 0.381s\",\n",
    "\"2016-09-15 21:00:02.066 2.62s\"\n",
    "\n",
    "\n",
    "])"
   ]
  },
  {
   "cell_type": "code",
   "execution_count": null,
   "id": "93af8ad2",
   "metadata": {},
   "outputs": [],
   "source": []
  },
  {
   "cell_type": "code",
   "execution_count": 147,
   "id": "e9e6a5f5",
   "metadata": {},
   "outputs": [
    {
     "data": {
      "text/plain": [
       "2003"
      ]
     },
     "execution_count": 147,
     "metadata": {},
     "output_type": "execute_result"
    }
   ],
   "source": [
    "4002-1999"
   ]
  },
  {
   "cell_type": "code",
   "execution_count": null,
   "id": "ab5137fc",
   "metadata": {},
   "outputs": [],
   "source": []
  },
  {
   "cell_type": "code",
   "execution_count": null,
   "id": "95eb2f44",
   "metadata": {},
   "outputs": [],
   "source": []
  },
  {
   "cell_type": "code",
   "execution_count": null,
   "id": "83960681",
   "metadata": {},
   "outputs": [],
   "source": []
  },
  {
   "cell_type": "code",
   "execution_count": null,
   "id": "ba52de27",
   "metadata": {},
   "outputs": [],
   "source": []
  }
 ],
 "metadata": {
  "kernelspec": {
   "display_name": "Python 3 (ipykernel)",
   "language": "python",
   "name": "python3"
  },
  "language_info": {
   "codemirror_mode": {
    "name": "ipython",
    "version": 3
   },
   "file_extension": ".py",
   "mimetype": "text/x-python",
   "name": "python",
   "nbconvert_exporter": "python",
   "pygments_lexer": "ipython3",
   "version": "3.9.6"
  }
 },
 "nbformat": 4,
 "nbformat_minor": 5
}
