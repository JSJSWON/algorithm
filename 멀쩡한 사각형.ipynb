{
 "cells": [
  {
   "cell_type": "code",
   "execution_count": 3,
   "id": "d281204b",
   "metadata": {},
   "outputs": [],
   "source": [
    "def solution(w,h):\n",
    "    M, m = max(w, h), min(w, h)\n",
    "    \n",
    "    if M % m == 0:\n",
    "        t = M // m\n",
    "    else:\n",
    "        t = M // m + 1\n",
    "    \n",
    "    answer = w * h - (t * m)\n",
    "    \n",
    "    return answer"
   ]
  },
  {
   "cell_type": "code",
   "execution_count": 8,
   "id": "fa37b059",
   "metadata": {},
   "outputs": [
    {
     "data": {
      "text/plain": [
       "0"
      ]
     },
     "execution_count": 8,
     "metadata": {},
     "output_type": "execute_result"
    }
   ],
   "source": [
    "solution(2, 1)"
   ]
  },
  {
   "cell_type": "code",
   "execution_count": 35,
   "id": "944c66f1",
   "metadata": {},
   "outputs": [],
   "source": [
    "def solution(w,h):\n",
    "    M, m = max(w, h), min(w, h)\n",
    "    ans = 0\n",
    "    for i in range(m // 2):\n",
    "        x1 = (i + 1) * M\n",
    "        if x1 % m == 0:\n",
    "            x1 //= m\n",
    "        else:\n",
    "            x1 //= m\n",
    "            x1 += 1\n",
    "        x2 = int(i * M / m)\n",
    "        ans += x1 - x2\n",
    "    ans *= 2\n",
    "    \n",
    "    i = m // 2\n",
    "    if m % 2 == 1:\n",
    "        x1 = (i + 1) * M\n",
    "        if x1 % m == 0:\n",
    "            x1 //= m\n",
    "        else:\n",
    "            x1 //= m\n",
    "            x1 += 1\n",
    "        x2 = int(i * M / m)\n",
    "        ans += x1 - x2\n",
    "    \n",
    "    answer = w * h - ans\n",
    "    \n",
    "    return answer"
   ]
  },
  {
   "cell_type": "code",
   "execution_count": 36,
   "id": "a7128d7e",
   "metadata": {},
   "outputs": [
    {
     "data": {
      "text/plain": [
       "99999990000000"
      ]
     },
     "execution_count": 36,
     "metadata": {},
     "output_type": "execute_result"
    }
   ],
   "source": [
    "solution(10000000,10000000)"
   ]
  },
  {
   "cell_type": "code",
   "execution_count": 23,
   "id": "dffe187c",
   "metadata": {},
   "outputs": [
    {
     "data": {
      "text/plain": [
       "1"
      ]
     },
     "execution_count": 23,
     "metadata": {},
     "output_type": "execute_result"
    }
   ],
   "source": [
    "math.gcd(5, 12)"
   ]
  },
  {
   "cell_type": "code",
   "execution_count": null,
   "id": "fbad14b9",
   "metadata": {},
   "outputs": [],
   "source": [
    "import math\n",
    "\n",
    "def solution(w,h):\n",
    "    M, m = max(w, h), min(w, h)\n",
    "    ans = 0\n",
    "    for i in range(m // 2):\n",
    "        ans += math.ceil((i + 1) * M / m) - int(i * M / m)\n",
    "    ans *= 2\n",
    "    \n",
    "    i = m // 2\n",
    "    if m % 2 == 1:\n",
    "        ans += math.ceil((i + 1) * M / m) - int(i * M / m)\n",
    "    \n",
    "    answer = w * h - ans\n",
    "    \n",
    "    return answer"
   ]
  },
  {
   "cell_type": "code",
   "execution_count": 39,
   "id": "84370a0c",
   "metadata": {},
   "outputs": [
    {
     "name": "stdout",
     "output_type": "stream",
     "text": [
      "2\n"
     ]
    }
   ],
   "source": [
    "x = 6\n",
    "x //=3\n",
    "print(x\n",
    ")"
   ]
  },
  {
   "cell_type": "code",
   "execution_count": null,
   "id": "6ed4bbea",
   "metadata": {},
   "outputs": [],
   "source": [
    "def solution(w,h):\n",
    "    M, m = max(w, h), min(w, h)\n",
    "    answer = w * h\n",
    "    for i in range(m // 2):\n",
    "        x1 = (i + 1) * M\n",
    "        if x1 % m == 0:\n",
    "            x1 //= m\n",
    "        else:\n",
    "            x1 //= m\n",
    "            x1 += 1\n",
    "        x2 = i * M // m\n",
    "        answer -= (x1 - x2) * 2\n",
    "    \n",
    "    i = m // 2\n",
    "    if m % 2 == 1:\n",
    "        x1 = (i + 1) * M\n",
    "        if x1 % m == 0:\n",
    "            x1 //= m\n",
    "        else:\n",
    "            x1 //= m\n",
    "            x1 += 1\n",
    "        x2 = i * M // m\n",
    "        answer -= x1 - x2\n",
    "    \n",
    "    return answer"
   ]
  },
  {
   "cell_type": "code",
   "execution_count": null,
   "id": "25625cf3",
   "metadata": {},
   "outputs": [],
   "source": [
    "import math\n",
    "def solution(w, h):\n",
    "    answer = w * h - (w + h - math.gcd(w, h))\n",
    "    return answer"
   ]
  }
 ],
 "metadata": {
  "kernelspec": {
   "display_name": "Python 3 (ipykernel)",
   "language": "python",
   "name": "python3"
  },
  "language_info": {
   "codemirror_mode": {
    "name": "ipython",
    "version": 3
   },
   "file_extension": ".py",
   "mimetype": "text/x-python",
   "name": "python",
   "nbconvert_exporter": "python",
   "pygments_lexer": "ipython3",
   "version": "3.9.6"
  }
 },
 "nbformat": 4,
 "nbformat_minor": 5
}
