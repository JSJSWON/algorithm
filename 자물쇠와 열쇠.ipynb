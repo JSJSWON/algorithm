{
 "cells": [
  {
   "cell_type": "code",
   "execution_count": 93,
   "id": "ad7b1a6b",
   "metadata": {},
   "outputs": [],
   "source": [
    "def turn(key):\n",
    "    k = [[] for _ in range(len(key))]\n",
    "    for i in range(len(key)):\n",
    "        for j in range(len(key)-1, -1, -1):\n",
    "            k[i].append(key[j][i])\n",
    "    return k\n",
    "\n",
    "def solution(key, lock):    \n",
    "    M, N = len(key), len(lock)\n",
    "    cnt = 0\n",
    "    for x in lock:\n",
    "        for y in x:\n",
    "            if y == 0:\n",
    "                cnt += 1\n",
    "    \n",
    "    for i in range(len(lock)):\n",
    "        lock[i] = [-1] * (M-1) + lock[i] + [-1] * (M-1)\n",
    "    lock = [[-1] * (M-1+N+M-1)] * (M-1) + lock + [[-1] * (M-1+N+M-1)] * (M-1)\n",
    "    keys = [key]\n",
    "    for _ in range(3):\n",
    "        keys.append(turn(keys[-1]))\n",
    "\n",
    "    for v in keys:\n",
    "        x, y = 0, 0\n",
    "        while True:\n",
    "            if x == N + M - 1 and y == 0:\n",
    "                break\n",
    "            tmp = 0\n",
    "            for j in range(M):\n",
    "                tag = 0\n",
    "                for i in range(M):\n",
    "                    if [v[j][i], lock[j + y][i + x]] == [1, 0]:\n",
    "                        tmp += 1\n",
    "                    elif [v[j][i], lock[j + y][i + x]] == [1, 1]:\n",
    "                        tag += 1\n",
    "                        break\n",
    "                if tag == 1:\n",
    "                    break\n",
    "            if tmp == cnt:\n",
    "                return True\n",
    "            else:\n",
    "                if y == N + M - 2:\n",
    "                    x += 1\n",
    "                    y = 0\n",
    "                else:\n",
    "                    y += 1\n",
    "\n",
    "    return False"
   ]
  },
  {
   "cell_type": "code",
   "execution_count": 94,
   "id": "56ad03df",
   "metadata": {},
   "outputs": [
    {
     "data": {
      "text/plain": [
       "False"
      ]
     },
     "execution_count": 94,
     "metadata": {},
     "output_type": "execute_result"
    }
   ],
   "source": [
    "solution([[0, 0, 0], [0, 0, 0], [0, 1, 1]], [[1, 1, 1], [1, 1, 0], [1, 0, 1]])"
   ]
  },
  {
   "cell_type": "code",
   "execution_count": 28,
   "id": "96ed6702",
   "metadata": {},
   "outputs": [
    {
     "name": "stdout",
     "output_type": "stream",
     "text": [
      "[[[1, 2], [2, 3]], [[1, 2], [2, 3]], [[1, 2], [2, 3]], [[1, 2], [2, 3]]]\n",
      "[[[1, 2], [2, 100]], [[1, 2], [2, 3]], [[1, 2], [2, 3]], [[1, 2], [2, 3]]]\n"
     ]
    }
   ],
   "source": [
    "a=[[1,2],[2,3]]\n",
    "key = [copy.deepcopy(a) for _ in range(4)]\n",
    "print(key)\n",
    "a[1][1] = 100\n",
    "key[0][1][1] = 100\n",
    "print(key)\n"
   ]
  },
  {
   "cell_type": "code",
   "execution_count": 55,
   "id": "81957bc2",
   "metadata": {},
   "outputs": [
    {
     "ename": "SyntaxError",
     "evalue": "invalid syntax (3528875576.py, line 1)",
     "output_type": "error",
     "traceback": [
      "\u001b[0;36m  File \u001b[0;32m\"/var/folders/h4/qkygjbx150l41hr_cmr5wpt80000gn/T/ipykernel_12252/3528875576.py\"\u001b[0;36m, line \u001b[0;32m1\u001b[0m\n\u001b[0;31m    if 1, 2 == 1, 2:\u001b[0m\n\u001b[0m        ^\u001b[0m\n\u001b[0;31mSyntaxError\u001b[0m\u001b[0;31m:\u001b[0m invalid syntax\n"
     ]
    }
   ],
   "source": [
    "if 1, 2 == 1, 2:\n",
    "    print(1)"
   ]
  },
  {
   "cell_type": "code",
   "execution_count": null,
   "id": "b8cb1c19",
   "metadata": {},
   "outputs": [],
   "source": []
  },
  {
   "cell_type": "code",
   "execution_count": null,
   "id": "74d9bcad",
   "metadata": {},
   "outputs": [],
   "source": []
  },
  {
   "cell_type": "code",
   "execution_count": null,
   "id": "23ff932e",
   "metadata": {},
   "outputs": [],
   "source": []
  },
  {
   "cell_type": "code",
   "execution_count": null,
   "id": "89741801",
   "metadata": {},
   "outputs": [],
   "source": []
  },
  {
   "cell_type": "code",
   "execution_count": null,
   "id": "9869db1f",
   "metadata": {},
   "outputs": [],
   "source": []
  },
  {
   "cell_type": "code",
   "execution_count": null,
   "id": "34a293c4",
   "metadata": {},
   "outputs": [],
   "source": []
  },
  {
   "cell_type": "code",
   "execution_count": null,
   "id": "fc3724f7",
   "metadata": {},
   "outputs": [],
   "source": []
  },
  {
   "cell_type": "code",
   "execution_count": null,
   "id": "054c0e8c",
   "metadata": {},
   "outputs": [],
   "source": []
  }
 ],
 "metadata": {
  "kernelspec": {
   "display_name": "Python 3 (ipykernel)",
   "language": "python",
   "name": "python3"
  },
  "language_info": {
   "codemirror_mode": {
    "name": "ipython",
    "version": 3
   },
   "file_extension": ".py",
   "mimetype": "text/x-python",
   "name": "python",
   "nbconvert_exporter": "python",
   "pygments_lexer": "ipython3",
   "version": "3.9.6"
  }
 },
 "nbformat": 4,
 "nbformat_minor": 5
}
