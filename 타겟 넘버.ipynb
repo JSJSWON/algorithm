{
 "cells": [
  {
   "cell_type": "code",
   "execution_count": 16,
   "id": "9839849d",
   "metadata": {},
   "outputs": [],
   "source": [
    "from collections import deque\n",
    "\n",
    "def solution(numbers, target):\n",
    "    \n",
    "    tmp = []\n",
    "    queue = deque()\n",
    "    numbers = deque(numbers)\n",
    "    n = numbers.popleft()\n",
    "    queue.append(n)\n",
    "    queue.append(-n)\n",
    "    \n",
    "    while True:\n",
    "        if len(numbers) == 0:\n",
    "            break\n",
    "        else:\n",
    "            t1 = numbers.popleft()\n",
    "            while True:\n",
    "                if len(queue) == 0:\n",
    "                    break\n",
    "                else:\n",
    "                    t2 = queue.popleft()\n",
    "                    tmp.append(t2 + t1)\n",
    "                    tmp.append(t2 - t1)\n",
    "            queue = deque(tmp)\n",
    "            tmp = []\n",
    "    answer = queue.count(target)\n",
    "    \n",
    "    return answer"
   ]
  },
  {
   "cell_type": "code",
   "execution_count": 17,
   "id": "42812fa4",
   "metadata": {},
   "outputs": [
    {
     "data": {
      "text/plain": [
       "2"
      ]
     },
     "execution_count": 17,
     "metadata": {},
     "output_type": "execute_result"
    }
   ],
   "source": [
    "solution([4,1,2,1], 2)"
   ]
  }
 ],
 "metadata": {
  "kernelspec": {
   "display_name": "Python 3 (ipykernel)",
   "language": "python",
   "name": "python3"
  },
  "language_info": {
   "codemirror_mode": {
    "name": "ipython",
    "version": 3
   },
   "file_extension": ".py",
   "mimetype": "text/x-python",
   "name": "python",
   "nbconvert_exporter": "python",
   "pygments_lexer": "ipython3",
   "version": "3.9.6"
  }
 },
 "nbformat": 4,
 "nbformat_minor": 5
}
