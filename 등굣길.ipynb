{
 "cells": [
  {
   "cell_type": "code",
   "execution_count": 65,
   "id": "130cc22f",
   "metadata": {},
   "outputs": [],
   "source": [
    "def solution(m, n, puddles):\n",
    "    dp = [[] for _ in range(n+1)]\n",
    "    dp[1] = [0] + [1 for _ in range(m)]\n",
    "    for i in range(2, n+1):\n",
    "        dp[i].append(0)\n",
    "        dp[i].append(1)\n",
    "\n",
    "    for x in puddles:\n",
    "        if x[0] == 1:\n",
    "            for i in range(x[1], n+1):\n",
    "                dp[i][1] = 0\n",
    "        elif x[1] == 1:\n",
    "            for i in range(x[0], m+1):\n",
    "                dp[1][i] = 0\n",
    "\n",
    "    for i in range(2, n+1):\n",
    "        for j in range(2, m+1):\n",
    "            if [j, i] in puddles:\n",
    "                dp[i].append(0)\n",
    "            else:\n",
    "                dp[i].append(dp[i-1][j] + dp[i][j-1])\n",
    "\n",
    "    return dp[-1][-1] % 1000000007"
   ]
  },
  {
   "cell_type": "code",
   "execution_count": 66,
   "id": "95be9a80",
   "metadata": {},
   "outputs": [
    {
     "data": {
      "text/plain": [
       "0"
      ]
     },
     "execution_count": 66,
     "metadata": {},
     "output_type": "execute_result"
    }
   ],
   "source": [
    "solution(3, 5, [[1,2],[2,3],[3,4]])"
   ]
  },
  {
   "cell_type": "code",
   "execution_count": null,
   "id": "d6afcaca",
   "metadata": {},
   "outputs": [],
   "source": []
  }
 ],
 "metadata": {
  "kernelspec": {
   "display_name": "Python 3 (ipykernel)",
   "language": "python",
   "name": "python3"
  },
  "language_info": {
   "codemirror_mode": {
    "name": "ipython",
    "version": 3
   },
   "file_extension": ".py",
   "mimetype": "text/x-python",
   "name": "python",
   "nbconvert_exporter": "python",
   "pygments_lexer": "ipython3",
   "version": "3.9.6"
  }
 },
 "nbformat": 4,
 "nbformat_minor": 5
}
