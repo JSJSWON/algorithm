{
 "cells": [
  {
   "cell_type": "code",
   "execution_count": null,
   "id": "9026d2e0",
   "metadata": {},
   "outputs": [],
   "source": [
    "import sys\n",
    "N, C = map(int, input().split())\n",
    "arr = []\n",
    "for _ in range(N):\n",
    "    arr.append(int(sys.stdin.readline()))\n",
    "arr.sort()\n",
    "\n",
    "end = arr[-1] - arr[0] # 제일 긴 거리\n",
    "start = 1 # 제일 짧은 거리\n",
    "ans = 0\n",
    "\n",
    "while True:\n",
    "    if start > end:\n",
    "        print(ans)\n",
    "        break\n",
    "    mid = (start + end) // 2\n",
    "    cnt = 1\n",
    "    now = arr[0]\n",
    "    tmp = float('inf')\n",
    "    \n",
    "    for i in range(1, N): # 위에서 now가 index=0이니까 index=1부터 시작\n",
    "        if mid <= arr[i] - now: # 거리가 mid만 넘기면 바로 추가\n",
    "            tmp = min(arr[i] - now, tmp) # 그 중 최솟값으로 업데이트\n",
    "            cnt += 1\n",
    "            now = arr[i]\n",
    "    \n",
    "    # 이분 탐색\n",
    "    if cnt < C:\n",
    "        # 거리가 mid를 넘기는 공유기의 개수가 적음\n",
    "        # -> 공유기 더 설치해야 함 -> 간격 짧게 -> end를 줄이기\n",
    "        end = mid - 1\n",
    "    else:\n",
    "        # 거리가 mid를 넘기는 공유기의 개수가 많음\n",
    "        # -> 공유기 덜 설치해야 함 -> 간격 길게\n",
    "        # -> 여기서 나온 거리보단 길테니까 ans 업데이트\n",
    "        start = mid + 1\n",
    "        ans = tmp"
   ]
  }
 ],
 "metadata": {
  "kernelspec": {
   "display_name": "Python 3 (ipykernel)",
   "language": "python",
   "name": "python3"
  },
  "language_info": {
   "codemirror_mode": {
    "name": "ipython",
    "version": 3
   },
   "file_extension": ".py",
   "mimetype": "text/x-python",
   "name": "python",
   "nbconvert_exporter": "python",
   "pygments_lexer": "ipython3",
   "version": "3.9.12"
  }
 },
 "nbformat": 4,
 "nbformat_minor": 5
}
