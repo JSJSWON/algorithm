{
 "cells": [
  {
   "cell_type": "code",
   "execution_count": 68,
   "id": "397ab249",
   "metadata": {},
   "outputs": [],
   "source": [
    "def solution(n, costs):\n",
    "    answer = 0\n",
    "    \n",
    "    costs.sort(key=lambda x: x[2])\n",
    "    linked = set()\n",
    "    linked.add(costs[0][0])\n",
    "    linked.add(costs[0][1])\n",
    "    answer += costs[0][2]\n",
    "    while True:\n",
    "        if len(linked) == n:\n",
    "            return answer\n",
    "        for i in range(len(costs)):\n",
    "            if costs[i][0] in linked and costs[i][1] in linked:\n",
    "                continue\n",
    "            else:\n",
    "                if costs[i][0] in linked or costs[i][1] in linked:\n",
    "                    linked.add(costs[i][0])\n",
    "                    linked.add(costs[i][1])\n",
    "                    answer += costs[i][2]\n",
    "                    break"
   ]
  },
  {
   "cell_type": "code",
   "execution_count": 69,
   "id": "e1e9e274",
   "metadata": {},
   "outputs": [
    {
     "data": {
      "text/plain": [
       "4"
      ]
     },
     "execution_count": 69,
     "metadata": {},
     "output_type": "execute_result"
    }
   ],
   "source": [
    "solution(4, [[0,1,1],[0,2,2],[1,2,5],[1,3,1],[2,3,8]])"
   ]
  },
  {
   "cell_type": "code",
   "execution_count": 70,
   "id": "0904baf8",
   "metadata": {},
   "outputs": [
    {
     "data": {
      "text/plain": [
       "203"
      ]
     },
     "execution_count": 70,
     "metadata": {},
     "output_type": "execute_result"
    }
   ],
   "source": [
    "solution(6, [[0,1,1], [2,3,1], [4,5,1], [1,2,100], [3,4,100]])"
   ]
  },
  {
   "cell_type": "code",
   "execution_count": null,
   "id": "33e8ff84",
   "metadata": {},
   "outputs": [],
   "source": []
  }
 ],
 "metadata": {
  "kernelspec": {
   "display_name": "Python 3 (ipykernel)",
   "language": "python",
   "name": "python3"
  },
  "language_info": {
   "codemirror_mode": {
    "name": "ipython",
    "version": 3
   },
   "file_extension": ".py",
   "mimetype": "text/x-python",
   "name": "python",
   "nbconvert_exporter": "python",
   "pygments_lexer": "ipython3",
   "version": "3.9.6"
  }
 },
 "nbformat": 4,
 "nbformat_minor": 5
}
