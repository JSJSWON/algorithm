{
 "cells": [
  {
   "cell_type": "code",
   "execution_count": 23,
   "id": "606cec3c",
   "metadata": {},
   "outputs": [],
   "source": [
    "import itertools\n",
    "\n",
    "def solution(clothes):\n",
    "    answer = 0\n",
    "    \n",
    "    k = dict()\n",
    "    \n",
    "    for x in clothes:\n",
    "        if x[1] in k:\n",
    "            k[x[1]] += 1\n",
    "        else:\n",
    "            k[x[1]] = 1\n",
    "    kinds = list(k.values())\n",
    "    for i in range(2, len(kinds)):\n",
    "        tmp = list(itertools.combinations(kinds, i))\n",
    "        for x in tmp:\n",
    "            a = 1\n",
    "            for y in x:\n",
    "                a *= y\n",
    "            answer += a\n",
    "            \n",
    "    a = 1\n",
    "    for x in kinds:\n",
    "        a *= x\n",
    "    if len(kinds) == 1:\n",
    "        answer += sum(kinds)\n",
    "    else:\n",
    "        answer += sum(kinds) + a\n",
    "    \n",
    "    return answer"
   ]
  },
  {
   "cell_type": "code",
   "execution_count": 24,
   "id": "20e95904",
   "metadata": {},
   "outputs": [
    {
     "data": {
      "text/plain": [
       "3"
      ]
     },
     "execution_count": 24,
     "metadata": {},
     "output_type": "execute_result"
    }
   ],
   "source": [
    "solution([[\"crowmask\", \"face\"], [\"bluesunglasses\", \"face\"], [\"smoky_makeup\", \"face\"]])"
   ]
  },
  {
   "cell_type": "code",
   "execution_count": null,
   "id": "82921b0d",
   "metadata": {},
   "outputs": [],
   "source": [
    "import itertools\n",
    "\n",
    "def solution(clothes):\n",
    "    answer = 0\n",
    "    \n",
    "    k = dict()\n",
    "    \n",
    "    for x in clothes:\n",
    "        if x[1] in k:\n",
    "            k[x[1]] += 1\n",
    "        else:\n",
    "            k[x[1]] = 1\n",
    "    kinds = list(k.values())\n",
    "    for i in range(2, len(kinds) + 1):\n",
    "        tmp = list(itertools.combinations(kinds, i))\n",
    "        for x in tmp:\n",
    "            a = 1\n",
    "            for y in x:\n",
    "                a *= y\n",
    "            answer += a\n",
    "            \n",
    "    answer += sum(kinds)\n",
    "    \n",
    "    return answer"
   ]
  },
  {
   "cell_type": "code",
   "execution_count": 25,
   "id": "82f5a415",
   "metadata": {},
   "outputs": [
    {
     "ename": "NameError",
     "evalue": "name 'product' is not defined",
     "output_type": "error",
     "traceback": [
      "\u001b[0;31m---------------------------------------------------------------------------\u001b[0m",
      "\u001b[0;31mNameError\u001b[0m                                 Traceback (most recent call last)",
      "\u001b[0;32m/var/folders/h4/qkygjbx150l41hr_cmr5wpt80000gn/T/ipykernel_52830/237988820.py\u001b[0m in \u001b[0;36m<module>\u001b[0;34m\u001b[0m\n\u001b[1;32m      1\u001b[0m \u001b[0ma\u001b[0m\u001b[0;34m=\u001b[0m\u001b[0;34m[\u001b[0m\u001b[0;36m1\u001b[0m\u001b[0;34m,\u001b[0m\u001b[0;36m2\u001b[0m\u001b[0;34m,\u001b[0m\u001b[0;36m3\u001b[0m\u001b[0;34m]\u001b[0m\u001b[0;34m\u001b[0m\u001b[0;34m\u001b[0m\u001b[0m\n\u001b[0;32m----> 2\u001b[0;31m \u001b[0mproduct\u001b[0m\u001b[0;34m(\u001b[0m\u001b[0ma\u001b[0m\u001b[0;34m)\u001b[0m\u001b[0;34m\u001b[0m\u001b[0;34m\u001b[0m\u001b[0m\n\u001b[0m",
      "\u001b[0;31mNameError\u001b[0m: name 'product' is not defined"
     ]
    }
   ],
   "source": [
    "a=[1,2,3]\n",
    "product(a)"
   ]
  },
  {
   "cell_type": "code",
   "execution_count": 28,
   "id": "5b3d59e3",
   "metadata": {},
   "outputs": [
    {
     "data": {
      "text/plain": [
       "dict_values([1, 1])"
      ]
     },
     "execution_count": 28,
     "metadata": {},
     "output_type": "execute_result"
    }
   ],
   "source": [
    "from collections import Counter\n",
    "\n",
    "a = [[1,2],[3,1]]\n",
    "Counter(a[1]).values()"
   ]
  },
  {
   "cell_type": "code",
   "execution_count": 29,
   "id": "e9dc40e1",
   "metadata": {},
   "outputs": [],
   "source": [
    "from collections import Counter\n",
    "import itertools\n",
    "\n",
    "def solution(clothes):\n",
    "    answer = 0\n",
    "    \n",
    "    c = []\n",
    "    for x in clothes:\n",
    "        c.append(x[1])\n",
    "    kinds = list(Counter(c).values())\n",
    "    for i in range(2, len(kinds) + 1):\n",
    "        tmp = list(itertools.combinations(kinds, i))\n",
    "        for x in tmp:\n",
    "            a = 1\n",
    "            for y in x:\n",
    "                a *= y\n",
    "            answer += a\n",
    "\n",
    "    if len(kinds) == 1:\n",
    "        answer += sum(kinds)\n",
    "    else:\n",
    "        a = 1\n",
    "        for x in kinds:\n",
    "            a *= x\n",
    "        answer += sum(kinds) + a\n",
    "    \n",
    "    return answer"
   ]
  },
  {
   "cell_type": "code",
   "execution_count": 30,
   "id": "b2124571",
   "metadata": {},
   "outputs": [
    {
     "data": {
      "text/plain": [
       "3"
      ]
     },
     "execution_count": 30,
     "metadata": {},
     "output_type": "execute_result"
    }
   ],
   "source": [
    "solution([[\"crowmask\", \"face\"], [\"bluesunglasses\", \"face\"], [\"smoky_makeup\", \"face\"]])"
   ]
  },
  {
   "cell_type": "code",
   "execution_count": null,
   "id": "7c3929ad",
   "metadata": {},
   "outputs": [],
   "source": [
    "from collections import Counter\n",
    "\n",
    "def solution(clothes):    \n",
    "    c = []\n",
    "    for x in clothes:\n",
    "        c.append(x[1])\n",
    "    kinds = list(Counter(c).values())\n",
    "    \n",
    "    a = 1\n",
    "    for x in kinds:\n",
    "        a *= (x + 1)\n",
    "    \n",
    "    return a - 1"
   ]
  }
 ],
 "metadata": {
  "kernelspec": {
   "display_name": "Python 3 (ipykernel)",
   "language": "python",
   "name": "python3"
  },
  "language_info": {
   "codemirror_mode": {
    "name": "ipython",
    "version": 3
   },
   "file_extension": ".py",
   "mimetype": "text/x-python",
   "name": "python",
   "nbconvert_exporter": "python",
   "pygments_lexer": "ipython3",
   "version": "3.9.6"
  }
 },
 "nbformat": 4,
 "nbformat_minor": 5
}
