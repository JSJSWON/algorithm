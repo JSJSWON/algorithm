{
 "cells": [
  {
   "cell_type": "code",
   "execution_count": 26,
   "id": "17d51565",
   "metadata": {},
   "outputs": [],
   "source": [
    "import heapq\n",
    "\n",
    "def solution(n, s, a, b, fares):\n",
    "\n",
    "    graph = [[] for _ in range(n + 1)]\n",
    "    for fare in fares:\n",
    "        graph[fare[0]].append([fare[2], fare[1]])\n",
    "        graph[fare[1]].append([fare[2], fare[0]])\n",
    "\n",
    "    def dijkstra(start):\n",
    "        distance = [1000000000] * (n + 1)\n",
    "        distance[start] = 0\n",
    "\n",
    "        heap = []\n",
    "        heapq.heappush(heap, [0, start])\n",
    "        while heap:\n",
    "            value, destination = heapq.heappop(heap)\n",
    "            if value <= distance[destination]:\n",
    "                for v, d in graph[destination]:\n",
    "                    next_value = value + v\n",
    "                    if next_value <= distance[d]:\n",
    "                        distance[d] = next_value\n",
    "                        heapq.heappush(heap, [next_value, d])\n",
    "        return distance\n",
    "\n",
    "    dp = [dijkstra(i) for i in range(n + 1)]\n",
    "\n",
    "    answer = 1000000000\n",
    "\n",
    "    for i in range(1, n + 1):\n",
    "        answer = min(dp[i][a] + dp[i][b] + dp[i][s], answer)\n",
    "\n",
    "    return answer"
   ]
  },
  {
   "cell_type": "code",
   "execution_count": 27,
   "id": "67d5440d",
   "metadata": {
    "scrolled": true
   },
   "outputs": [
    {
     "data": {
      "text/plain": [
       "82"
      ]
     },
     "execution_count": 27,
     "metadata": {},
     "output_type": "execute_result"
    }
   ],
   "source": [
    "solution(6, 4, 6, 2, [[4, 1, 10], [3, 5, 24], [5, 6, 2], [3, 1, 41], [5, 1, 24], [4, 6, 50], [2, 4, 66], [2, 3, 22], [1, 6, 25]])"
   ]
  },
  {
   "cell_type": "code",
   "execution_count": null,
   "id": "9d53127f",
   "metadata": {},
   "outputs": [],
   "source": []
  }
 ],
 "metadata": {
  "kernelspec": {
   "display_name": "Python 3 (ipykernel)",
   "language": "python",
   "name": "python3"
  },
  "language_info": {
   "codemirror_mode": {
    "name": "ipython",
    "version": 3
   },
   "file_extension": ".py",
   "mimetype": "text/x-python",
   "name": "python",
   "nbconvert_exporter": "python",
   "pygments_lexer": "ipython3",
   "version": "3.9.6"
  }
 },
 "nbformat": 4,
 "nbformat_minor": 5
}
