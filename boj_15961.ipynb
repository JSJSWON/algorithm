{
 "cells": [
  {
   "cell_type": "code",
   "execution_count": 45,
   "id": "dc426496",
   "metadata": {},
   "outputs": [
    {
     "name": "stdout",
     "output_type": "stream",
     "text": [
      "8 50 4 7\n",
      "2\n",
      "7\n",
      "9\n",
      "25\n",
      "7\n",
      "9\n",
      "7\n",
      "30\n",
      "4\n"
     ]
    }
   ],
   "source": [
    "import sys\n",
    "from collections import defaultdict\n",
    "\n",
    "# 서로 다른 k개를 먹어야 쿠폰에 있는 스시를 공짜로 주는게 아니라\n",
    "# 그냥 k개 연속으로 먹으면 쿠폰에 있는 스시 공짜로 주는거임\n",
    "\n",
    "N, d, k, c = map(int, input().split())\n",
    "sushi = []\n",
    "for _ in range(N):\n",
    "    sushi.append(int(sys.stdin.readline()))\n",
    "sushi *= 2\n",
    "\n",
    "start, end = 0, 0\n",
    "ans = 0\n",
    "dic = defaultdict(int)\n",
    "dic[c] += 1\n",
    "l = 1\n",
    "\n",
    "for end in range(len(sushi)):\n",
    "    dic[sushi[end]] += 1\n",
    "    if dic[sushi[end]] == 1:\n",
    "        l += 1\n",
    "    if end - start == k-1:\n",
    "        ans = max(ans, l)\n",
    "        dic[sushi[start]] -= 1\n",
    "        if dic[sushi[start]] == 0:\n",
    "            l -= 1\n",
    "        start += 1\n",
    "    if ans == k + 1 or start == N:\n",
    "        break\n",
    "        \n",
    "print(ans)"
   ]
  },
  {
   "cell_type": "code",
   "execution_count": null,
   "id": "221bbfff",
   "metadata": {},
   "outputs": [],
   "source": []
  }
 ],
 "metadata": {
  "kernelspec": {
   "display_name": "Python 3 (ipykernel)",
   "language": "python",
   "name": "python3"
  },
  "language_info": {
   "codemirror_mode": {
    "name": "ipython",
    "version": 3
   },
   "file_extension": ".py",
   "mimetype": "text/x-python",
   "name": "python",
   "nbconvert_exporter": "python",
   "pygments_lexer": "ipython3",
   "version": "3.9.12"
  }
 },
 "nbformat": 4,
 "nbformat_minor": 5
}
