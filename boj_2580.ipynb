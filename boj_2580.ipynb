{
 "cells": [
  {
   "cell_type": "code",
   "execution_count": 15,
   "id": "c4278405",
   "metadata": {
    "scrolled": true
   },
   "outputs": [
    {
     "name": "stdout",
     "output_type": "stream",
     "text": [
      "0 0 1 0 0 0 0 0 7\n",
      "0 9 0 0 0 6 1 3 0\n",
      "0 0 0 3 0 0 0 0 4\n",
      "0 6 0 0 2 0 0 0 0\n",
      "0 0 0 0 0 0 0 0 1\n",
      "0 0 9 7 0 0 5 8 0\n",
      "0 0 5 8 0 0 3 9 0\n",
      "8 0 0 0 0 7 0 0 0\n",
      "0 0 0 0 0 0 0 4 0\n",
      "4 3 1 2 5 9 8 6 7\n",
      "5 9 7 4 8 6 1 3 2\n",
      "6 8 2 3 7 1 9 5 4\n",
      "3 6 8 1 2 5 4 7 9\n",
      "7 5 4 9 3 8 6 2 1\n",
      "2 1 9 7 6 4 5 8 3\n",
      "1 7 5 8 4 2 3 9 6\n",
      "8 4 3 6 9 7 2 1 5\n",
      "9 2 6 5 1 3 7 4 8\n"
     ]
    }
   ],
   "source": [
    "sudoku = []\n",
    "for _ in range(9):\n",
    "    nums = list(map(int, input().split()))\n",
    "    sudoku.append([nums[:3], nums[3:6], nums[6:]])\n",
    "\n",
    "# for x in sudoku:\n",
    "#     print(x)\n",
    "\n",
    "def check(x, y, z):\n",
    "    possible = [i for i in range(1, 10)]\n",
    "\n",
    "    # 같은 행\n",
    "    for i in range(3):\n",
    "        for j in range(3):\n",
    "            if sudoku[x][i][j] in possible:\n",
    "                possible.remove(sudoku[x][i][j])\n",
    "    \n",
    "    # 같은 열\n",
    "    for i in range(9):\n",
    "        if sudoku[i][y][z] in possible:\n",
    "                possible.remove(sudoku[i][y][z])\n",
    "    \n",
    "    # 3*3 같은 사각형\n",
    "    for i in range(3 * (x//3), 3 * ((x//3) + 1)):\n",
    "        for j in range(3):\n",
    "            if sudoku[i][y][j] in possible:\n",
    "                possible.remove(sudoku[i][y][j])\n",
    "    \n",
    "    return possible\n",
    "\n",
    "zeros = []\n",
    "for i in range(9):\n",
    "    for j in range(3):\n",
    "        for k in range(3):\n",
    "            if sudoku[i][j][k] == 0:\n",
    "                zeros.append((i, j, k))\n",
    "\n",
    "ans = False\n",
    "\n",
    "def dfs(index): # index는 zeros의 index\n",
    "    global ans\n",
    "    \n",
    "    if ans:\n",
    "        return\n",
    "    \n",
    "    if index == len(zeros):\n",
    "        for i in range(9):\n",
    "            for j in range(3):\n",
    "                for k in range(3):\n",
    "                    if j == 2 and k == 2:\n",
    "                        print(sudoku[i][j][k])\n",
    "                    else:\n",
    "                        print(sudoku[i][j][k], end=' ')\n",
    "        ans = True # 답이 여러 개 나올 수 있기 때문에\n",
    "        return\n",
    "    \n",
    "    else:\n",
    "        x, y, z = zeros[index]\n",
    "        c = check(x, y, z)\n",
    "        \n",
    "        for num in c:\n",
    "            sudoku[x][y][z] = num\n",
    "            dfs(index+1)\n",
    "            sudoku[x][y][z] = 0\n",
    "\n",
    "dfs(0)"
   ]
  }
 ],
 "metadata": {
  "kernelspec": {
   "display_name": "Python 3 (ipykernel)",
   "language": "python",
   "name": "python3"
  },
  "language_info": {
   "codemirror_mode": {
    "name": "ipython",
    "version": 3
   },
   "file_extension": ".py",
   "mimetype": "text/x-python",
   "name": "python",
   "nbconvert_exporter": "python",
   "pygments_lexer": "ipython3",
   "version": "3.9.12"
  }
 },
 "nbformat": 4,
 "nbformat_minor": 5
}
