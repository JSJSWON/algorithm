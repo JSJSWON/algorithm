{
 "cells": [
  {
   "cell_type": "code",
   "execution_count": 3,
   "id": "a1f9f0cf",
   "metadata": {},
   "outputs": [],
   "source": [
    "def solution(record):\n",
    "    answer = []\n",
    "    \n",
    "    order_id = []\n",
    "    order_act = []\n",
    "    user = dict()\n",
    "    \n",
    "    for x in record:\n",
    "        x = x.split()\n",
    "        act = x[0]\n",
    "        user_id = x[1]\n",
    "        if len(x) == 3:\n",
    "            nickname = x[2]\n",
    "        \n",
    "        if act == 'Enter':\n",
    "            user[user_id] = nickname\n",
    "            order_id.append(user_id)\n",
    "            order_act.append(1)\n",
    "        elif act == 'Change':\n",
    "            user[user_id] = nickname\n",
    "        else:\n",
    "            order_id.append(user_id)\n",
    "            order_act.append(0)\n",
    "    \n",
    "    for i in range(len(order_id)):\n",
    "        ans = str(user[order_id[i]]) + '님이 '\n",
    "        if order_act[i] == 1:\n",
    "            ans += '들어왔습니다.'\n",
    "        else:\n",
    "            ans += '나갔습니다.'\n",
    "        \n",
    "        answer.append(ans)\n",
    "\n",
    "    return answer"
   ]
  },
  {
   "cell_type": "code",
   "execution_count": 4,
   "id": "7741d1a0",
   "metadata": {},
   "outputs": [
    {
     "data": {
      "text/plain": [
       "['Prodo님이 들어왔습니다.', 'Ryan님이 들어왔습니다.', 'Prodo님이 나갔습니다.', 'Prodo님이 들어왔습니다.']"
      ]
     },
     "execution_count": 4,
     "metadata": {},
     "output_type": "execute_result"
    }
   ],
   "source": [
    "solution([\"Enter uid1234 Muzi\", \"Enter uid4567 Prodo\",\"Leave uid1234\",\"Enter uid1234 Prodo\",\"Change uid4567 Ryan\"])"
   ]
  },
  {
   "cell_type": "code",
   "execution_count": null,
   "id": "06913036",
   "metadata": {},
   "outputs": [],
   "source": []
  }
 ],
 "metadata": {
  "kernelspec": {
   "display_name": "Python 3 (ipykernel)",
   "language": "python",
   "name": "python3"
  },
  "language_info": {
   "codemirror_mode": {
    "name": "ipython",
    "version": 3
   },
   "file_extension": ".py",
   "mimetype": "text/x-python",
   "name": "python",
   "nbconvert_exporter": "python",
   "pygments_lexer": "ipython3",
   "version": "3.9.6"
  }
 },
 "nbformat": 4,
 "nbformat_minor": 5
}
