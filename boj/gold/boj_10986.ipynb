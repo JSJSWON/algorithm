{
 "cells": [
  {
   "cell_type": "code",
   "execution_count": 18,
   "id": "931619dd",
   "metadata": {},
   "outputs": [
    {
     "name": "stdout",
     "output_type": "stream",
     "text": [
      "10 7\n",
      "1 2 3 4 5 6 7 8 9 10\n",
      "[2, 3, 0, 3, 0, 0, 2]\n",
      "10\n"
     ]
    }
   ],
   "source": [
    "N, M = map(int, input().split())\n",
    "a = list(map(int, input().split()))\n",
    "\n",
    "nums = [0 for _ in range(M)]\n",
    "\n",
    "tmp = a[0]\n",
    "a[0] %= M\n",
    "nums[a[0]] += 1\n",
    "\n",
    "for i in range(1, N):\n",
    "    a[i] += tmp\n",
    "    tmp = a[i]\n",
    "    a[i] %= M\n",
    "    nums[a[i]] += 1\n",
    "\n",
    "ans = nums[0]\n",
    "for x in nums:\n",
    "    ans += x*(x-1)//2\n",
    "\n",
    "print(ans)"
   ]
  },
  {
   "cell_type": "code",
   "execution_count": null,
   "id": "136ffb79",
   "metadata": {},
   "outputs": [],
   "source": []
  }
 ],
 "metadata": {
  "kernelspec": {
   "display_name": "Python 3 (ipykernel)",
   "language": "python",
   "name": "python3"
  },
  "language_info": {
   "codemirror_mode": {
    "name": "ipython",
    "version": 3
   },
   "file_extension": ".py",
   "mimetype": "text/x-python",
   "name": "python",
   "nbconvert_exporter": "python",
   "pygments_lexer": "ipython3",
   "version": "3.9.12"
  }
 },
 "nbformat": 4,
 "nbformat_minor": 5
}
