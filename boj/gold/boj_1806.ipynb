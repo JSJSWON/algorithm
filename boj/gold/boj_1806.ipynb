{
 "cells": [
  {
   "cell_type": "code",
   "execution_count": 6,
   "id": "ebe1456a",
   "metadata": {},
   "outputs": [
    {
     "name": "stdout",
     "output_type": "stream",
     "text": [
      "10 1\n",
      "123 123 123 123 123 123 123 123 123 123\n",
      "1\n",
      "1\n"
     ]
    }
   ],
   "source": [
    "N, S = map(int, input().split())\n",
    "\n",
    "nums = list(map(int, input().split()))\n",
    "\n",
    "start = 0\n",
    "end = 0\n",
    "s = nums[0]\n",
    "inf = float('inf')\n",
    "ans = inf\n",
    "\n",
    "while True:\n",
    "    if s >= S:\n",
    "        if end - start + 1 < ans:\n",
    "            ans = end - start + 1\n",
    "        if start == end:\n",
    "            ans = 1\n",
    "            break\n",
    "        s -= nums[start]\n",
    "        start += 1\n",
    "    else:\n",
    "        end += 1\n",
    "        if end == N:\n",
    "            break\n",
    "        s += nums[end]\n",
    "if ans == inf:\n",
    "    print(0)\n",
    "else:\n",
    "    print(ans)"
   ]
  },
  {
   "cell_type": "code",
   "execution_count": null,
   "id": "d229ab51",
   "metadata": {},
   "outputs": [],
   "source": []
  }
 ],
 "metadata": {
  "kernelspec": {
   "display_name": "Python 3 (ipykernel)",
   "language": "python",
   "name": "python3"
  },
  "language_info": {
   "codemirror_mode": {
    "name": "ipython",
    "version": 3
   },
   "file_extension": ".py",
   "mimetype": "text/x-python",
   "name": "python",
   "nbconvert_exporter": "python",
   "pygments_lexer": "ipython3",
   "version": "3.9.12"
  }
 },
 "nbformat": 4,
 "nbformat_minor": 5
}
