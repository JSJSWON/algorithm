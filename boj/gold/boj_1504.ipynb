{
 "cells": [
  {
   "cell_type": "code",
   "execution_count": null,
   "id": "2b89d5b6",
   "metadata": {},
   "outputs": [],
   "source": [
    "import heapq\n",
    "import sys\n",
    "input = sys.stdin.readline\n",
    "\n",
    "N, E = map(int, input().split())\n",
    "graph = [[] for _ in range(N+1)]\n",
    "for _ in range(E):\n",
    "    a, b, c = map(int, input().split())\n",
    "    graph[a].append((b, c))\n",
    "    graph[b].append((a, c))\n",
    "v1, v2 = map(int, input().split())\n",
    "\n",
    "inf = float('inf')\n",
    "\n",
    "def dijkstra(start):\n",
    "    distance = [inf] * (N+1)\n",
    "    q = []\n",
    "    heapq.heappush(q, (0, start))\n",
    "    distance[start] = 0\n",
    "    \n",
    "    while q:\n",
    "        dist, node = heapq.heappop(q)\n",
    "        if dist > distance[node]:\n",
    "            continue\n",
    "        \n",
    "        for x in graph[node]:\n",
    "            cost = dist + x[1]\n",
    "            if cost < distance[x[0]]:\n",
    "                distance[x[0]] = cost\n",
    "                heapq.heappush(q, (cost, x[0]))\n",
    "    return distance\n",
    "\n",
    "d1 = dijkstra(1)\n",
    "dv1 = dijkstra(v1)\n",
    "dv2 = dijkstra(v2)\n",
    "\n",
    "# 1 -> v1 -> v2 -> N\n",
    "len1 = d1[v1] + dv1[v2] + dv2[N]\n",
    "# 1 -> v2 -> v1 -> N\n",
    "len2 = d1[v2] + dv2[v1] + dv1[N]\n",
    "\n",
    "if len1 == inf and len2 == inf:\n",
    "    print(-1)\n",
    "else:\n",
    "    print(min(len1, len2))"
   ]
  }
 ],
 "metadata": {
  "kernelspec": {
   "display_name": "Python 3",
   "language": "python",
   "name": "python3"
  },
  "language_info": {
   "codemirror_mode": {
    "name": "ipython",
    "version": 3
   },
   "file_extension": ".py",
   "mimetype": "text/x-python",
   "name": "python",
   "nbconvert_exporter": "python",
   "pygments_lexer": "ipython3",
   "version": "3.9.6 (default, Oct 18 2022, 12:41:40) \n[Clang 14.0.0 (clang-1400.0.29.202)]"
  },
  "vscode": {
   "interpreter": {
    "hash": "31f2aee4e71d21fbe5cf8b01ff0e069b9275f58929596ceb00d14d90e3e16cd6"
   }
  }
 },
 "nbformat": 4,
 "nbformat_minor": 5
}
