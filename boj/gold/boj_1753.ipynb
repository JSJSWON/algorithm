{
 "cells": [
  {
   "cell_type": "code",
   "execution_count": null,
   "id": "0265a63a",
   "metadata": {},
   "outputs": [],
   "source": [
    "import sys\n",
    "from collections import defaultdict\n",
    "import heapq\n",
    "\n",
    "V, E = map(int, input().split())\n",
    "K = int(input())\n",
    "inf = float('INF')\n",
    "\n",
    "graph = [[] for _ in range(V+1)]\n",
    "for _ in range(E):\n",
    "    u, v, w = map(int, sys.stdin.readline().split())\n",
    "    graph[u].append((v, w)) # 목적지, 가중치\n",
    "        \n",
    "distance = [inf] * (V+1)\n",
    "\n",
    "def dijkstra(start):\n",
    "    q = []\n",
    "    heapq.heappush(q, (0, start))\n",
    "    distance[start] = 0\n",
    "    \n",
    "    while q:\n",
    "        dist, node = heapq.heappop(q)\n",
    "        if distance[node] < dist:\n",
    "            continue\n",
    "        for x in graph[node]:\n",
    "            cost = dist + x[1]\n",
    "            if cost < distance[x[0]]:\n",
    "                distance[x[0]] = cost\n",
    "                heapq.heappush(q, (cost, x[0]))\n",
    "\n",
    "dijkstra(K)\n",
    "\n",
    "for i in range(1, V+1):\n",
    "    if distance[i] == inf:\n",
    "        print('INF')\n",
    "    else:\n",
    "        print(distance[i])"
   ]
  }
 ],
 "metadata": {
  "kernelspec": {
   "display_name": "Python 3 (ipykernel)",
   "language": "python",
   "name": "python3"
  },
  "language_info": {
   "codemirror_mode": {
    "name": "ipython",
    "version": 3
   },
   "file_extension": ".py",
   "mimetype": "text/x-python",
   "name": "python",
   "nbconvert_exporter": "python",
   "pygments_lexer": "ipython3",
   "version": "3.9.12"
  }
 },
 "nbformat": 4,
 "nbformat_minor": 5
}
