{
 "cells": [
  {
   "cell_type": "code",
   "execution_count": 60,
   "id": "60a6780f",
   "metadata": {},
   "outputs": [
    {
     "name": "stdout",
     "output_type": "stream",
     "text": [
      "3\n",
      "1 2 3\n",
      "4 5 6\n",
      "4 9 0\n",
      "18 6\n"
     ]
    }
   ],
   "source": [
    "N = int(input())\n",
    "nums = []\n",
    "ans_min = [0, 0, 0]\n",
    "ans_max = [0, 0, 0]\n",
    "for _ in range(N):\n",
    "    nums = list(map(int, input().split()))\n",
    "    ans_min = [nums[0] + min(ans_min[0], ans_min[1]),\n",
    "               nums[1] + min(ans_min[0], ans_min[1], ans_min[2]),\n",
    "               nums[2] + min(ans_min[1], ans_min[2])]\n",
    "    ans_max = [nums[0] + max(ans_max[0], ans_max[1]),\n",
    "               nums[1] + max(ans_max[0], ans_max[1], ans_max[2]),\n",
    "               nums[2] + max(ans_max[1], ans_max[2])]\n",
    "\n",
    "print(max(ans_max), min(ans_min))"
   ]
  },
  {
   "cell_type": "code",
   "execution_count": null,
   "id": "a5169adb",
   "metadata": {},
   "outputs": [],
   "source": []
  }
 ],
 "metadata": {
  "kernelspec": {
   "display_name": "Python 3",
   "language": "python",
   "name": "python3"
  },
  "language_info": {
   "codemirror_mode": {
    "name": "ipython",
    "version": 3
   },
   "file_extension": ".py",
   "mimetype": "text/x-python",
   "name": "python",
   "nbconvert_exporter": "python",
   "pygments_lexer": "ipython3",
   "version": "3.9.6 (default, Oct 18 2022, 12:41:40) \n[Clang 14.0.0 (clang-1400.0.29.202)]"
  },
  "vscode": {
   "interpreter": {
    "hash": "31f2aee4e71d21fbe5cf8b01ff0e069b9275f58929596ceb00d14d90e3e16cd6"
   }
  }
 },
 "nbformat": 4,
 "nbformat_minor": 5
}
