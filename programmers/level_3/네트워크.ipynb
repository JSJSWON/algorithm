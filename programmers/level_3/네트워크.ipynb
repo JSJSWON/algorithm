{
 "cells": [
  {
   "cell_type": "code",
   "execution_count": 8,
   "id": "6c6a9310",
   "metadata": {},
   "outputs": [],
   "source": [
    "from collections import deque\n",
    "\n",
    "def solution(n, computers):\n",
    "    answer = 0\n",
    "    \n",
    "    graph = [[] for _ in range(n)]\n",
    "    visited = [0 for _ in range(n)]\n",
    "    \n",
    "    for i in range(n):\n",
    "        for j in range(n):\n",
    "            if i != j:\n",
    "                if computers[i][j] == 1:\n",
    "                    graph[i].append(j)\n",
    "    \n",
    "    queue = deque()\n",
    "    for i in range(n):\n",
    "        if visited[i] == 0:\n",
    "            queue.append(i)\n",
    "            visited[i] = 1\n",
    "            answer += 1\n",
    "        while True:\n",
    "            if len(queue) == 0:\n",
    "                break\n",
    "            else:\n",
    "                v = queue.popleft()\n",
    "                for x in graph[v]:\n",
    "                    if visited[x] == 0:\n",
    "                        queue.append(x)\n",
    "                        visited[x] = 1\n",
    "\n",
    "    return answer"
   ]
  },
  {
   "cell_type": "code",
   "execution_count": 10,
   "id": "3563cb57",
   "metadata": {},
   "outputs": [
    {
     "name": "stdout",
     "output_type": "stream",
     "text": [
      "[[1], [0], []]\n"
     ]
    },
    {
     "data": {
      "text/plain": [
       "2"
      ]
     },
     "execution_count": 10,
     "metadata": {},
     "output_type": "execute_result"
    }
   ],
   "source": [
    "solution(3, [[1, 1, 0], [1, 1, 0], [0, 0, 1]])"
   ]
  },
  {
   "cell_type": "code",
   "execution_count": null,
   "id": "96491474",
   "metadata": {},
   "outputs": [],
   "source": []
  }
 ],
 "metadata": {
  "kernelspec": {
   "display_name": "Python 3 (ipykernel)",
   "language": "python",
   "name": "python3"
  },
  "language_info": {
   "codemirror_mode": {
    "name": "ipython",
    "version": 3
   },
   "file_extension": ".py",
   "mimetype": "text/x-python",
   "name": "python",
   "nbconvert_exporter": "python",
   "pygments_lexer": "ipython3",
   "version": "3.9.6"
  }
 },
 "nbformat": 4,
 "nbformat_minor": 5
}
