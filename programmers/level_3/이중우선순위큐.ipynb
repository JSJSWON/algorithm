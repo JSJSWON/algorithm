{
 "cells": [
  {
   "cell_type": "code",
   "execution_count": 41,
   "id": "1b7b1a93",
   "metadata": {},
   "outputs": [],
   "source": [
    "import heapq\n",
    "\n",
    "def solution(operations):    \n",
    "    heap_min = []\n",
    "    heap_max = []\n",
    "    \n",
    "    for operation in operations:\n",
    "        if operation[0] == 'I':\n",
    "            heapq.heappush(heap_min, int(operation.split()[1]))\n",
    "            heapq.heappush(heap_max, int(operation.split()[1]) * (-1))\n",
    "        else:\n",
    "            if len(heap_min) != 0:\n",
    "                if operation == 'D 1':\n",
    "                    tmp = heapq.heappop(heap_max)\n",
    "                    heap_min.remove(-tmp)\n",
    "                    heapq.heapify(heap_min)\n",
    "                else:\n",
    "                    tmp = heapq.heappop(heap_min)\n",
    "                    heap_max.remove(-tmp)\n",
    "                    heapq.heapify(heap_max)\n",
    "\n",
    "    if len(heap_min) == 0:\n",
    "        return [0, 0]\n",
    "    else:\n",
    "        return [heap_max[0] * (-1), heap_min[0]]"
   ]
  },
  {
   "cell_type": "code",
   "execution_count": 42,
   "id": "8642396d",
   "metadata": {},
   "outputs": [
    {
     "data": {
      "text/plain": [
       "[0, 0]"
      ]
     },
     "execution_count": 42,
     "metadata": {},
     "output_type": "execute_result"
    }
   ],
   "source": [
    "solution([\"I 16\",\"D 1\"])"
   ]
  },
  {
   "cell_type": "code",
   "execution_count": 43,
   "id": "eb5d21d5",
   "metadata": {},
   "outputs": [
    {
     "data": {
      "text/plain": [
       "[7, 5]"
      ]
     },
     "execution_count": 43,
     "metadata": {},
     "output_type": "execute_result"
    }
   ],
   "source": [
    "solution([\"I 7\",\"I 5\",\"I -5\",\"D -1\"])"
   ]
  },
  {
   "cell_type": "code",
   "execution_count": 44,
   "id": "2bb5b9ca",
   "metadata": {},
   "outputs": [
    {
     "data": {
      "text/plain": [
       "[7, 4]"
      ]
     },
     "execution_count": 44,
     "metadata": {},
     "output_type": "execute_result"
    }
   ],
   "source": [
    "solution([\"I 6\", \"I 2\", \"I 1\", \"I 4\", \"I 5\", \"I 3\", \"D 1\", \"I 7\", \"D -1\", \"I 6\", \"D -1\", \"D -1\"])"
   ]
  },
  {
   "cell_type": "code",
   "execution_count": null,
   "id": "a73aaafe",
   "metadata": {},
   "outputs": [],
   "source": []
  }
 ],
 "metadata": {
  "kernelspec": {
   "display_name": "Python 3 (ipykernel)",
   "language": "python",
   "name": "python3"
  },
  "language_info": {
   "codemirror_mode": {
    "name": "ipython",
    "version": 3
   },
   "file_extension": ".py",
   "mimetype": "text/x-python",
   "name": "python",
   "nbconvert_exporter": "python",
   "pygments_lexer": "ipython3",
   "version": "3.9.6"
  }
 },
 "nbformat": 4,
 "nbformat_minor": 5
}
