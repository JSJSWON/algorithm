{
 "cells": [
  {
   "cell_type": "code",
   "execution_count": 88,
   "id": "0f7cfb89",
   "metadata": {},
   "outputs": [],
   "source": [
    "# from collections import deque\n",
    "# import heapq\n",
    "\n",
    "# def solution(tickets):\n",
    "#     answer = []\n",
    "\n",
    "#     now = 'ICN'\n",
    "#     answer.append(now)\n",
    "#     used_tickets = [0 for _ in range(len(tickets))]\n",
    "\n",
    "#     while True:\n",
    "#         if 0 not in used_tickets:\n",
    "#             break\n",
    "#         else:\n",
    "#             tmp = []\n",
    "#             for i in range(len(tickets)):\n",
    "#                 if used_tickets[i] == 0 and tickets[i][0] == now:\n",
    "#                     heapq.heappush(tmp, [tickets[i][1], i])\n",
    "#             answer.append(tmp[0][0])\n",
    "#             now = tmp[0][0]\n",
    "#             used_tickets[tmp[0][1]] += 1\n",
    "\n",
    "#     return answer"
   ]
  },
  {
   "cell_type": "code",
   "execution_count": 89,
   "id": "1c4b6903",
   "metadata": {},
   "outputs": [],
   "source": [
    "# solution([[\"ICN\", \"JFK\"], [\"HND\", \"IAD\"], [\"JFK\", \"HND\"]])"
   ]
  },
  {
   "cell_type": "code",
   "execution_count": 90,
   "id": "74668fd1",
   "metadata": {
    "scrolled": true
   },
   "outputs": [],
   "source": [
    "# solution([[\"ICN\", \"SFO\"], [\"ICN\", \"ATL\"], [\"SFO\", \"ATL\"], [\"ATL\", \"ICN\"], [\"ATL\",\"SFO\"]])"
   ]
  },
  {
   "cell_type": "code",
   "execution_count": 91,
   "id": "8c6c567d",
   "metadata": {},
   "outputs": [],
   "source": [
    "# def dfs(tickets, now, used_tickets, answer):\n",
    "#     print(answer)\n",
    "#     if 0 not in used_tickets:\n",
    "#         return\n",
    "#     for ticket in sorted(tickets, key=lambda x: x[1]):\n",
    "#         if used_tickets[tickets.index(ticket)] == 0 and ticket[0] == now:\n",
    "#             answer.append(ticket)\n",
    "#             used_tickets[tickets.index(ticket)] = 1\n",
    "#             print(ticket[1])\n",
    "#             dfs(tickets, ticket[1], used_tickets, answer)\n",
    "\n",
    "# def solution(tickets):\n",
    "#     answer = []\n",
    "    \n",
    "#     used_tickets = [0 for _ in range(len(tickets))]\n",
    "#     now = 'ICN'\n",
    "#     dfs(tickets, now, used_tickets, answer)\n",
    "#     ans = []\n",
    "#     for i in range(len(answer)):\n",
    "#         if i == 0:\n",
    "#             ans.append(answer[i][0])\n",
    "#             ans.append(answer[i][1])\n",
    "#         else:\n",
    "#             ans.append(answer[i][1])\n",
    "    \n",
    "#     return ans"
   ]
  },
  {
   "cell_type": "code",
   "execution_count": 92,
   "id": "6c38dc27",
   "metadata": {},
   "outputs": [],
   "source": [
    "# solution([[\"ICN\", \"JFK\"], [\"HND\", \"IAD\"], [\"JFK\", \"HND\"]])"
   ]
  },
  {
   "cell_type": "code",
   "execution_count": 93,
   "id": "3c659b8c",
   "metadata": {},
   "outputs": [],
   "source": [
    "# solution([[\"ICN\", \"SFO\"], [\"ICN\", \"ATL\"], [\"SFO\", \"ATL\"], [\"ATL\", \"ICN\"], [\"ATL\",\"SFO\"]])"
   ]
  },
  {
   "cell_type": "code",
   "execution_count": 94,
   "id": "2be63dc5",
   "metadata": {},
   "outputs": [],
   "source": [
    "# solution([['ICN','aaa'], ['ICN','bbb'], ['bbb','ICN']])"
   ]
  },
  {
   "cell_type": "code",
   "execution_count": 84,
   "id": "0c7c3efc",
   "metadata": {},
   "outputs": [],
   "source": [
    "def dfs(graph):\n",
    "    stack = ['ICN']\n",
    "    path = []\n",
    "    while len(stack) > 0:\n",
    "        top = stack[-1]\n",
    "        if top not in graph or len(graph[top]) == 0: # top에서 더 이상 어디로도 갈 수 없을 때 (top이 현재 상황에서 끝점일 때)\n",
    "            path.append(stack.pop())\n",
    "        else: # 위의 상황이 아니라면 알파벳 순으로 stack에 넣고 이어 나가기\n",
    "            stack.append(graph[top].pop())\n",
    "    return path[::-1]\n",
    "\n",
    "def solution(tickets):\n",
    "    answer = []\n",
    "    \n",
    "    graph = dict()\n",
    "    for ticket in tickets:\n",
    "        s = ticket[0]\n",
    "        e = ticket[1]\n",
    "        \n",
    "        if s in graph:\n",
    "            graph[s].append(e)\n",
    "        else:\n",
    "            graph[s] = [e]\n",
    "    for g in graph:\n",
    "        graph[g].sort(reverse=True)\n",
    "\n",
    "    return dfs(graph)"
   ]
  },
  {
   "cell_type": "code",
   "execution_count": 85,
   "id": "6ca1aa59",
   "metadata": {
    "scrolled": true
   },
   "outputs": [
    {
     "data": {
      "text/plain": [
       "['ICN', 'JFK', 'HND', 'IAD']"
      ]
     },
     "execution_count": 85,
     "metadata": {},
     "output_type": "execute_result"
    }
   ],
   "source": [
    "solution([[\"ICN\", \"JFK\"], [\"HND\", \"IAD\"], [\"JFK\", \"HND\"]])"
   ]
  },
  {
   "cell_type": "code",
   "execution_count": 86,
   "id": "81485b9c",
   "metadata": {},
   "outputs": [
    {
     "data": {
      "text/plain": [
       "['ICN', 'ATL', 'ICN', 'SFO', 'ATL', 'SFO']"
      ]
     },
     "execution_count": 86,
     "metadata": {},
     "output_type": "execute_result"
    }
   ],
   "source": [
    "solution([[\"ICN\", \"SFO\"], [\"ICN\", \"ATL\"], [\"SFO\", \"ATL\"], [\"ATL\", \"ICN\"], [\"ATL\",\"SFO\"]])"
   ]
  },
  {
   "cell_type": "code",
   "execution_count": 87,
   "id": "d0d02c72",
   "metadata": {},
   "outputs": [
    {
     "data": {
      "text/plain": [
       "['ICN', 'bbb', 'ICN', 'aaa']"
      ]
     },
     "execution_count": 87,
     "metadata": {},
     "output_type": "execute_result"
    }
   ],
   "source": [
    "solution([['ICN','aaa'], ['ICN','bbb'], ['bbb','ICN']])"
   ]
  },
  {
   "cell_type": "code",
   "execution_count": null,
   "id": "757aea81",
   "metadata": {},
   "outputs": [],
   "source": []
  }
 ],
 "metadata": {
  "kernelspec": {
   "display_name": "Python 3 (ipykernel)",
   "language": "python",
   "name": "python3"
  },
  "language_info": {
   "codemirror_mode": {
    "name": "ipython",
    "version": 3
   },
   "file_extension": ".py",
   "mimetype": "text/x-python",
   "name": "python",
   "nbconvert_exporter": "python",
   "pygments_lexer": "ipython3",
   "version": "3.9.6"
  }
 },
 "nbformat": 4,
 "nbformat_minor": 5
}
