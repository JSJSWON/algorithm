{
 "cells": [
  {
   "cell_type": "code",
   "execution_count": 315,
   "id": "fd248cc3",
   "metadata": {},
   "outputs": [],
   "source": [
    "from collections import deque\n",
    "\n",
    "def solution(board):\n",
    "    def bfs(start):\n",
    "        inf = 1000000000\n",
    "        dic = [[-1, 0], [0, 1], [1, 0], [0, -1]]\n",
    "        l = len(board)\n",
    "        visited = [[inf for _ in range(l)] for _ in range(l)]\n",
    "        visited[0][0] = 0\n",
    "\n",
    "        queue = deque([start])\n",
    "        while queue:\n",
    "            x, y, value, direction = queue.popleft()\n",
    "            for i in range(4):\n",
    "                nx = x + dic[i][0]\n",
    "                ny = y + dic[i][1]\n",
    "\n",
    "                if 0 <= nx < l and 0 <= ny < l and board[nx][ny] == 0:\n",
    "                    if i == direction:\n",
    "                        new_value = value + 100\n",
    "                    else:\n",
    "                        new_value = value + 600\n",
    "                    if new_value < visited[nx][ny]:\n",
    "                        visited[nx][ny] = new_value\n",
    "                        queue.append([nx, ny, new_value, i])\n",
    "                        \n",
    "        return visited[-1][-1]\n",
    "    \n",
    "    return min([bfs([0, 0, 0, 1]), bfs([0, 0, 0, 2])])"
   ]
  },
  {
   "cell_type": "code",
   "execution_count": 316,
   "id": "2019848b",
   "metadata": {},
   "outputs": [
    {
     "data": {
      "text/plain": [
       "900"
      ]
     },
     "execution_count": 316,
     "metadata": {},
     "output_type": "execute_result"
    }
   ],
   "source": [
    "solution([[0,0,0],[0,0,0],[0,0,0]])"
   ]
  },
  {
   "cell_type": "code",
   "execution_count": null,
   "id": "bba6ce40",
   "metadata": {},
   "outputs": [],
   "source": []
  }
 ],
 "metadata": {
  "kernelspec": {
   "display_name": "Python 3 (ipykernel)",
   "language": "python",
   "name": "python3"
  },
  "language_info": {
   "codemirror_mode": {
    "name": "ipython",
    "version": 3
   },
   "file_extension": ".py",
   "mimetype": "text/x-python",
   "name": "python",
   "nbconvert_exporter": "python",
   "pygments_lexer": "ipython3",
   "version": "3.9.6"
  }
 },
 "nbformat": 4,
 "nbformat_minor": 5
}
