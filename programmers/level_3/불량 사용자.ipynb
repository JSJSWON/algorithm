{
 "cells": [
  {
   "cell_type": "code",
   "execution_count": 3,
   "id": "545c8f50",
   "metadata": {},
   "outputs": [],
   "source": [
    "def solution(user_id, user):\n",
    "    answer = 0\n",
    "    \n",
    "    user_id_len = [[] for _ in range(9)]\n",
    "    for x in user_id:\n",
    "        l = len(x)\n",
    "        user_id_len[l].append(x)\n",
    "    \n",
    "    for x in user:\n",
    "        l = len(x)\n",
    "        ans = 0\n",
    "        for y in user_id_len[l]:\n",
    "            cnt = 0\n",
    "            for i in range(l):\n",
    "                if x[i] == '*':\n",
    "                    cnt += 1\n",
    "                else:\n",
    "                    if x[i] == y[i]:\n",
    "                        cnt += 1\n",
    "                    else:\n",
    "                        break\n",
    "            if cnt == l:\n",
    "                ans += 1\n",
    "        if ans != 0:\n",
    "            if answer == 0:\n",
    "                answer = ans\n",
    "            else:\n",
    "                answer *= ans\n",
    "    \n",
    "    \n",
    "    return answer"
   ]
  },
  {
   "cell_type": "code",
   "execution_count": 4,
   "id": "5b8edfb9",
   "metadata": {},
   "outputs": [
    {
     "data": {
      "text/plain": [
       "2"
      ]
     },
     "execution_count": 4,
     "metadata": {},
     "output_type": "execute_result"
    }
   ],
   "source": [
    "solution([\"frodo\", \"fradi\", \"crodo\", \"abc123\", \"frodoc\"], [\"fr*d*\", \"abc1**\"])"
   ]
  },
  {
   "cell_type": "code",
   "execution_count": 5,
   "id": "8234fb59",
   "metadata": {},
   "outputs": [
    {
     "data": {
      "text/plain": [
       "8"
      ]
     },
     "execution_count": 5,
     "metadata": {},
     "output_type": "execute_result"
    }
   ],
   "source": [
    "solution([\"frodo\", \"fradi\", \"crodo\", \"abc123\", \"frodoc\"], [\"*rodo\", \"*rodo\", \"******\"])"
   ]
  },
  {
   "cell_type": "code",
   "execution_count": 19,
   "id": "10da806d",
   "metadata": {},
   "outputs": [],
   "source": [
    "def solution(user_id, banned_id):\n",
    "    answer = 0\n",
    "    \n",
    "    cnt = [[] for _ in range(len(banned_id))]\n",
    "    cnt1 = [0 for _ in range(len(user_id))]\n",
    "    for x in user_id:\n",
    "        \n",
    "        for i in range(len(banned_id)):\n",
    "            y = banned_id[i]\n",
    "            tmp = 0\n",
    "            if len(x) == len(y):\n",
    "                for j in range(len(y)):\n",
    "                    if y[j] == '*':\n",
    "                        tmp += 1\n",
    "                    else:\n",
    "                        if x[j] == y[j]:\n",
    "                            tmp += 1\n",
    "                        else:\n",
    "                            break\n",
    "            if tmp == len(y):\n",
    "                cnt[i].append(x)\n",
    "                cnt1[user_id.index(x)] += 1\n",
    "    print(cnt)\n",
    "    print(cnt1)\n",
    "    \n",
    "    \n",
    "    \n",
    "    return answer"
   ]
  },
  {
   "cell_type": "code",
   "execution_count": 66,
   "id": "2d87bcc4",
   "metadata": {},
   "outputs": [],
   "source": [
    "from itertools import permutations\n",
    "\n",
    "def check(user, banned):\n",
    "    if len(user) != len(banned):\n",
    "        return 0\n",
    "    else:\n",
    "        l = len(user)\n",
    "        for i in range(l):        \n",
    "            if banned[i] != '*' and user[i] != banned[i]:\n",
    "                return 0\n",
    "        return 1\n",
    "            \n",
    "\n",
    "def solution(user_id, banned_id):\n",
    "    answer = set()\n",
    "    index = [i for i in range(len(user_id))]\n",
    "    cand = list(permutations(index, len(banned_id)))\n",
    "    \n",
    "    for x in cand:\n",
    "        tmp = []\n",
    "        for i in range(len(x)):\n",
    "            t = check(user_id[x[i]], banned_id[i])\n",
    "            if t == 0:\n",
    "                break\n",
    "            else:\n",
    "                tmp.append(user_id[x[i]])\n",
    "        if len(tmp) == len(banned_id):\n",
    "            answer.add(tuple(sorted(tmp)))\n",
    "\n",
    "    return len(answer)"
   ]
  },
  {
   "cell_type": "code",
   "execution_count": 67,
   "id": "d4db67c7",
   "metadata": {},
   "outputs": [
    {
     "data": {
      "text/plain": [
       "2"
      ]
     },
     "execution_count": 67,
     "metadata": {},
     "output_type": "execute_result"
    }
   ],
   "source": [
    "solution([\"frodo\", \"fradi\", \"crodo\", \"abc123\", \"frodoc\"], [\"fr*d*\", \"abc1**\"])"
   ]
  },
  {
   "cell_type": "code",
   "execution_count": 68,
   "id": "0161dfed",
   "metadata": {},
   "outputs": [
    {
     "data": {
      "text/plain": [
       "2"
      ]
     },
     "execution_count": 68,
     "metadata": {},
     "output_type": "execute_result"
    }
   ],
   "source": [
    "solution([\"frodo\", \"fradi\", \"crodo\", \"abc123\", \"frodoc\"], [\"*rodo\", \"*rodo\", \"******\"])"
   ]
  },
  {
   "cell_type": "code",
   "execution_count": 69,
   "id": "5b746f26",
   "metadata": {},
   "outputs": [
    {
     "data": {
      "text/plain": [
       "3"
      ]
     },
     "execution_count": 69,
     "metadata": {},
     "output_type": "execute_result"
    }
   ],
   "source": [
    "solution([\"frodo\", \"fradi\", \"crodo\", \"abc123\", \"frodoc\"], [\"fr*d*\", \"*rodo\", \"******\", \"******\"])"
   ]
  },
  {
   "cell_type": "code",
   "execution_count": 57,
   "id": "1df460bb",
   "metadata": {},
   "outputs": [
    {
     "name": "stdout",
     "output_type": "stream",
     "text": [
      "(1, 2, 3)\n"
     ]
    }
   ],
   "source": [
    "a = [3,2,1]\n",
    "print(tuple(sorted(a)))"
   ]
  },
  {
   "cell_type": "code",
   "execution_count": null,
   "id": "45125b6f",
   "metadata": {},
   "outputs": [],
   "source": []
  }
 ],
 "metadata": {
  "kernelspec": {
   "display_name": "Python 3 (ipykernel)",
   "language": "python",
   "name": "python3"
  },
  "language_info": {
   "codemirror_mode": {
    "name": "ipython",
    "version": 3
   },
   "file_extension": ".py",
   "mimetype": "text/x-python",
   "name": "python",
   "nbconvert_exporter": "python",
   "pygments_lexer": "ipython3",
   "version": "3.9.6"
  }
 },
 "nbformat": 4,
 "nbformat_minor": 5
}
