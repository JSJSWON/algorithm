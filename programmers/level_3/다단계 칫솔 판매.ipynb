{
 "cells": [
  {
   "cell_type": "code",
   "execution_count": 31,
   "id": "c65b6bf5",
   "metadata": {},
   "outputs": [],
   "source": [
    "def solution(enroll, referral, seller, amount):\n",
    "    answer = [0 for _ in range(len(enroll))]\n",
    "    \n",
    "    for i in range(len(seller)):\n",
    "        m = amount[i] * 100\n",
    "        person = seller[i]\n",
    "        cnt = 0\n",
    "        while True:\n",
    "            down = enroll.index(person)\n",
    "            if referral[down] != '-':\n",
    "                up = enroll.index(referral[down])\n",
    "                answer[up] += m // 10\n",
    "                if cnt == 0:\n",
    "                    answer[down] += m - m // 10\n",
    "                else:\n",
    "                    answer[down] -= m // 10\n",
    "                m = m // 10\n",
    "                person = enroll[up]\n",
    "                cnt += 1\n",
    "            else:\n",
    "                if cnt != 0:\n",
    "                    answer[down] -= m // 10\n",
    "                else:\n",
    "                    answer[down] += m - m // 10\n",
    "                break\n",
    "            \n",
    "    return answer"
   ]
  },
  {
   "cell_type": "code",
   "execution_count": 33,
   "id": "acdea4ce",
   "metadata": {},
   "outputs": [
    {
     "name": "stdout",
     "output_type": "stream",
     "text": [
      "[0, 110, 378, 180, 270, 450, 0, 0]\n",
      "===============================\n"
     ]
    },
    {
     "data": {
      "text/plain": [
       "[0, 110, 378, 180, 270, 450, 0, 0]"
      ]
     },
     "execution_count": 33,
     "metadata": {},
     "output_type": "execute_result"
    }
   ],
   "source": [
    "solution([\"john\", \"mary\", \"edward\", \"sam\", \"emily\", \"jaimie\", \"tod\", \"young\"], \\\n",
    "        [\"-\", \"-\", \"mary\", \"edward\", \"mary\", \"mary\", \"jaimie\", \"edward\"], \\\n",
    "        [\"sam\", \"emily\", \"jaimie\", \"edward\"], \\\n",
    "        [2,3,5,4])"
   ]
  },
  {
   "cell_type": "code",
   "execution_count": 62,
   "id": "fde734d0",
   "metadata": {},
   "outputs": [],
   "source": [
    "def solution(enroll, referral, seller, amount):\n",
    "    answer = [0 for _ in range(len(enroll))]\n",
    "    enrolls = dict()\n",
    "    \n",
    "    for i in range(len(enroll)):\n",
    "        enrolls[enroll[i]] = i\n",
    "\n",
    "    for i in range(len(referral)):\n",
    "        if referral[i] != '-':\n",
    "            referral[i] = enrolls[referral[i]]\n",
    "    \n",
    "    for i in range(len(seller)):\n",
    "        seller[i] = enrolls[seller[i]]\n",
    "    \n",
    "    for i in range(len(seller)):\n",
    "        m = amount[i] * 100\n",
    "        person = seller[i]\n",
    "        cnt = 0\n",
    "        while True:\n",
    "            down = person\n",
    "            if referral[down] != '-':\n",
    "                up = referral[down]\n",
    "                answer[up] += m // 10\n",
    "                if cnt == 0:\n",
    "                    answer[down] += m - m // 10\n",
    "                else:\n",
    "                    answer[down] -= m // 10\n",
    "                m = m // 10\n",
    "                person = up\n",
    "                cnt += 1\n",
    "            else:\n",
    "                if cnt != 0:\n",
    "                    answer[down] -= m // 10\n",
    "                else:\n",
    "                    answer[down] += m - m // 10\n",
    "                break\n",
    "            \n",
    "    return answer"
   ]
  },
  {
   "cell_type": "code",
   "execution_count": 63,
   "id": "6aab7e99",
   "metadata": {},
   "outputs": [
    {
     "data": {
      "text/plain": [
       "[360, 958, 108, 0, 450, 18, 180, 1080]"
      ]
     },
     "execution_count": 63,
     "metadata": {},
     "output_type": "execute_result"
    }
   ],
   "source": [
    "solution([\"john\", \"mary\", \"edward\", \"sam\", \"emily\", \"jaimie\", \"tod\", \"young\"], \\\n",
    "        [\"-\", \"-\", \"mary\", \"edward\", \"mary\", \"mary\", \"jaimie\", \"edward\"], \\\n",
    "        [\"young\", \"john\", \"tod\", \"emily\", \"mary\"], \\\n",
    "        [12,4,2,5,10])"
   ]
  },
  {
   "cell_type": "code",
   "execution_count": 71,
   "id": "0065184c",
   "metadata": {},
   "outputs": [],
   "source": [
    "def solution(enroll, referral, seller, amount):\n",
    "    answer = [0 for _ in range(len(enroll))]\n",
    "    enrolls = dict()\n",
    "    \n",
    "    for i in range(len(enroll)):\n",
    "        enrolls[enroll[i]] = i\n",
    "\n",
    "    for i in range(len(referral)):\n",
    "        if referral[i] != '-':\n",
    "            referral[i] = enrolls[referral[i]]\n",
    "    \n",
    "    for i in range(len(seller)):\n",
    "        seller[i] = enrolls[seller[i]]\n",
    "    \n",
    "    for i in range(len(seller)):\n",
    "        m = amount[i] * 100\n",
    "        person = seller[i]\n",
    "        cnt = 0\n",
    "        while True:\n",
    "            down = person\n",
    "            if referral[down] != '-':\n",
    "                up = referral[down]\n",
    "                answer[up] += m // 10\n",
    "                if cnt == 0:\n",
    "                    answer[down] += m - m // 10\n",
    "                else:\n",
    "                    answer[down] -= m // 10\n",
    "                m = m // 10\n",
    "                if m < 10:\n",
    "                     break\n",
    "                person = up\n",
    "                cnt += 1\n",
    "            else:\n",
    "                if cnt != 0:\n",
    "                    answer[down] -= m // 10\n",
    "                else:\n",
    "                    answer[down] += m - m // 10\n",
    "                break\n",
    "            \n",
    "    return answer"
   ]
  },
  {
   "cell_type": "code",
   "execution_count": 72,
   "id": "24c81f37",
   "metadata": {},
   "outputs": [
    {
     "data": {
      "text/plain": [
       "[0, 0, 0, 0, 0, 1, 9, 90]"
      ]
     },
     "execution_count": 72,
     "metadata": {},
     "output_type": "execute_result"
    }
   ],
   "source": [
    "solution(['a','b','c','d','e','f','g','h'],\\\n",
    "        ['-','a','b','c','d','e','f','g'],\\\n",
    "        ['h'], [1])"
   ]
  },
  {
   "cell_type": "code",
   "execution_count": null,
   "id": "24decb10",
   "metadata": {},
   "outputs": [],
   "source": []
  }
 ],
 "metadata": {
  "kernelspec": {
   "display_name": "Python 3 (ipykernel)",
   "language": "python",
   "name": "python3"
  },
  "language_info": {
   "codemirror_mode": {
    "name": "ipython",
    "version": 3
   },
   "file_extension": ".py",
   "mimetype": "text/x-python",
   "name": "python",
   "nbconvert_exporter": "python",
   "pygments_lexer": "ipython3",
   "version": "3.9.6"
  }
 },
 "nbformat": 4,
 "nbformat_minor": 5
}
