{
 "cells": [
  {
   "cell_type": "code",
   "execution_count": 71,
   "id": "29f833ca",
   "metadata": {},
   "outputs": [],
   "source": [
    "from collections import deque\n",
    "\n",
    "def solution(begin, target, words):\n",
    "    if target not in words:\n",
    "        return 0\n",
    "    answer = [0 for _ in range(len(words))]\n",
    "    queue = deque()\n",
    "    length = len(begin)\n",
    "    \n",
    "    for i in range(len(words)):\n",
    "        tmp = 0\n",
    "        l = len(words[i])\n",
    "        for j in range(len(words[i])):\n",
    "            if begin[j] == words[i][j]:\n",
    "                tmp += 1\n",
    "        if tmp == length - 1:\n",
    "            queue.append(words[i])\n",
    "            if words[i] == target:\n",
    "                return 1\n",
    "            answer[i] += 1\n",
    "\n",
    "    while queue:\n",
    "        word = queue.popleft()\n",
    "        for i in range(len(words)):\n",
    "            tmp = 0\n",
    "            if answer[i] == 0:\n",
    "                for j in range(length):\n",
    "                    if word[j] == words[i][j]:\n",
    "                        tmp += 1\n",
    "                if tmp == length - 1:\n",
    "                    if words[i] == target:\n",
    "                        return answer[words.index(word)] + 1\n",
    "                    queue.append(words[i])\n",
    "                    answer[i] += answer[words.index(word)] + 1\n",
    "    return 0"
   ]
  },
  {
   "cell_type": "code",
   "execution_count": 72,
   "id": "2e182b5c",
   "metadata": {},
   "outputs": [
    {
     "data": {
      "text/plain": [
       "4"
      ]
     },
     "execution_count": 72,
     "metadata": {},
     "output_type": "execute_result"
    }
   ],
   "source": [
    "solution('hit', 'cog', [\"hot\", \"dot\", \"dog\", \"lot\", \"log\", \"cog\"])"
   ]
  },
  {
   "cell_type": "code",
   "execution_count": 73,
   "id": "7fe7e00a",
   "metadata": {},
   "outputs": [
    {
     "data": {
      "text/plain": [
       "0"
      ]
     },
     "execution_count": 73,
     "metadata": {},
     "output_type": "execute_result"
    }
   ],
   "source": [
    "solution('hit','cog',[\"hot\", \"dot\", \"dog\", \"lot\", \"log\"])"
   ]
  },
  {
   "cell_type": "code",
   "execution_count": 74,
   "id": "0c7143cd",
   "metadata": {},
   "outputs": [
    {
     "data": {
      "text/plain": [
       "1"
      ]
     },
     "execution_count": 74,
     "metadata": {},
     "output_type": "execute_result"
    }
   ],
   "source": [
    "solution('hit', 'hot', ['hot', 'dot'])"
   ]
  },
  {
   "cell_type": "code",
   "execution_count": null,
   "id": "b172b688",
   "metadata": {},
   "outputs": [],
   "source": []
  }
 ],
 "metadata": {
  "kernelspec": {
   "display_name": "Python 3 (ipykernel)",
   "language": "python",
   "name": "python3"
  },
  "language_info": {
   "codemirror_mode": {
    "name": "ipython",
    "version": 3
   },
   "file_extension": ".py",
   "mimetype": "text/x-python",
   "name": "python",
   "nbconvert_exporter": "python",
   "pygments_lexer": "ipython3",
   "version": "3.9.6"
  }
 },
 "nbformat": 4,
 "nbformat_minor": 5
}
