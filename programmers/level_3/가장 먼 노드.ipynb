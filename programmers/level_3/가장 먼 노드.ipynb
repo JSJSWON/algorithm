{
 "cells": [
  {
   "cell_type": "code",
   "execution_count": 113,
   "id": "24f4bdfc",
   "metadata": {},
   "outputs": [],
   "source": [
    "from collections import deque\n",
    "\n",
    "def solution(n, edge):\n",
    "    answer = 0\n",
    "    f = []\n",
    "    visited = [False for _ in range(n + 1)]\n",
    "    visited[0] = True\n",
    "    visited[1] = True\n",
    "#     print(visited)\n",
    "    for i in range(len(edge)):\n",
    "        if 1 in edge[i]:\n",
    "            if edge[i][0] == 1:\n",
    "                f.append(edge[i][1])\n",
    "            else:\n",
    "                f.append(edge[i][0])\n",
    "    if len(f) == n - 1:\n",
    "        return len(f)\n",
    "#     print(edge)\n",
    "#     print(f)\n",
    "    queue = deque(f)\n",
    "    tmp = []\n",
    "    ans = []\n",
    "    while True:\n",
    "        if False not in visited:\n",
    "            return len(ans)\n",
    "        else:\n",
    "            ans = tmp\n",
    "            tmp = []\n",
    "            while True:\n",
    "#                 print('--;')\n",
    "#                 print(tmp)\n",
    "#                 print('--')\n",
    "                if len(queue) == 0:\n",
    "                    tmp = list(set(tmp))\n",
    "                    queue = deque(tmp)\n",
    "                    break\n",
    "                p = queue.popleft()\n",
    "                if visited[p] == False:\n",
    "                    visited[p] = True\n",
    "                    for i in range(len(edge)):\n",
    "                        if visited[edge[i][0]] == True and visited[edge[i][1]] == True:\n",
    "                            edge[i] = -1\n",
    "                        if p in edge[i]:\n",
    "                            if edge[i][0] == p and visited[edge[i][1]] == False and edge[i][1] not in queue:\n",
    "                                tmp.append(edge[i][1])\n",
    "                            elif edge[i][1] == p and visited[edge[i][0]] == False and edge[i][1] not in queue:\n",
    "                                tmp.append(edge[i][0])"
   ]
  },
  {
   "cell_type": "code",
   "execution_count": 114,
   "id": "a8af7ce4",
   "metadata": {},
   "outputs": [
    {
     "data": {
      "text/plain": [
       "2"
      ]
     },
     "execution_count": 114,
     "metadata": {},
     "output_type": "execute_result"
    }
   ],
   "source": [
    "solution(3, [[1, 2], [1, 3]])"
   ]
  },
  {
   "cell_type": "code",
   "execution_count": 102,
   "id": "04b23b16",
   "metadata": {},
   "outputs": [],
   "source": [
    "a=[[0,0]]\n",
    "a.remove([0,0])"
   ]
  },
  {
   "cell_type": "code",
   "execution_count": 103,
   "id": "29a9262a",
   "metadata": {},
   "outputs": [
    {
     "name": "stdout",
     "output_type": "stream",
     "text": [
      "[]\n"
     ]
    }
   ],
   "source": [
    "print(a)"
   ]
  },
  {
   "cell_type": "code",
   "execution_count": 106,
   "id": "81e36135",
   "metadata": {},
   "outputs": [],
   "source": []
  },
  {
   "cell_type": "code",
   "execution_count": 107,
   "id": "6435c1e4",
   "metadata": {
    "scrolled": true
   },
   "outputs": [
    {
     "ename": "TypeError",
     "evalue": "unhashable type: 'list'",
     "output_type": "error",
     "traceback": [
      "\u001b[0;31m---------------------------------------------------------------------------\u001b[0m",
      "\u001b[0;31mTypeError\u001b[0m                                 Traceback (most recent call last)",
      "\u001b[0;32m/var/folders/h4/qkygjbx150l41hr_cmr5wpt80000gn/T/ipykernel_9332/2323132615.py\u001b[0m in \u001b[0;36m<module>\u001b[0;34m\u001b[0m\n\u001b[0;32m----> 1\u001b[0;31m \u001b[0msolution\u001b[0m\u001b[0;34m(\u001b[0m\u001b[0;36m3\u001b[0m\u001b[0;34m,\u001b[0m \u001b[0;34m[\u001b[0m\u001b[0;34m[\u001b[0m\u001b[0;36m1\u001b[0m\u001b[0;34m,\u001b[0m \u001b[0;36m2\u001b[0m\u001b[0;34m]\u001b[0m\u001b[0;34m,\u001b[0m \u001b[0;34m[\u001b[0m\u001b[0;36m1\u001b[0m\u001b[0;34m,\u001b[0m \u001b[0;36m3\u001b[0m\u001b[0;34m]\u001b[0m\u001b[0;34m]\u001b[0m\u001b[0;34m)\u001b[0m\u001b[0;34m\u001b[0m\u001b[0;34m\u001b[0m\u001b[0m\n\u001b[0m",
      "\u001b[0;32m/var/folders/h4/qkygjbx150l41hr_cmr5wpt80000gn/T/ipykernel_9332/3258375335.py\u001b[0m in \u001b[0;36msolution\u001b[0;34m(n, edge)\u001b[0m\n\u001b[1;32m     15\u001b[0m                 \u001b[0mf\u001b[0m\u001b[0;34m.\u001b[0m\u001b[0mappend\u001b[0m\u001b[0;34m(\u001b[0m\u001b[0medge\u001b[0m\u001b[0;34m[\u001b[0m\u001b[0mi\u001b[0m\u001b[0;34m]\u001b[0m\u001b[0;34m[\u001b[0m\u001b[0;36m0\u001b[0m\u001b[0;34m]\u001b[0m\u001b[0;34m)\u001b[0m\u001b[0;34m\u001b[0m\u001b[0;34m\u001b[0m\u001b[0m\n\u001b[1;32m     16\u001b[0m             \u001b[0medge\u001b[0m\u001b[0;34m[\u001b[0m\u001b[0mi\u001b[0m\u001b[0;34m]\u001b[0m \u001b[0;34m=\u001b[0m \u001b[0;34m[\u001b[0m\u001b[0;36m0\u001b[0m\u001b[0;34m,\u001b[0m \u001b[0;36m0\u001b[0m\u001b[0;34m]\u001b[0m\u001b[0;34m\u001b[0m\u001b[0;34m\u001b[0m\u001b[0m\n\u001b[0;32m---> 17\u001b[0;31m     \u001b[0medge\u001b[0m \u001b[0;34m=\u001b[0m \u001b[0mlist\u001b[0m\u001b[0;34m(\u001b[0m\u001b[0mset\u001b[0m\u001b[0;34m(\u001b[0m\u001b[0medge\u001b[0m\u001b[0;34m)\u001b[0m\u001b[0;34m)\u001b[0m\u001b[0;34m\u001b[0m\u001b[0;34m\u001b[0m\u001b[0m\n\u001b[0m\u001b[1;32m     18\u001b[0m     \u001b[0;32mif\u001b[0m \u001b[0mlen\u001b[0m\u001b[0;34m(\u001b[0m\u001b[0mf\u001b[0m\u001b[0;34m)\u001b[0m \u001b[0;34m==\u001b[0m \u001b[0mn\u001b[0m \u001b[0;34m-\u001b[0m \u001b[0;36m1\u001b[0m\u001b[0;34m:\u001b[0m\u001b[0;34m\u001b[0m\u001b[0;34m\u001b[0m\u001b[0m\n\u001b[1;32m     19\u001b[0m         \u001b[0;32mreturn\u001b[0m \u001b[0mlen\u001b[0m\u001b[0;34m(\u001b[0m\u001b[0mf\u001b[0m\u001b[0;34m)\u001b[0m\u001b[0;34m\u001b[0m\u001b[0;34m\u001b[0m\u001b[0m\n",
      "\u001b[0;31mTypeError\u001b[0m: unhashable type: 'list'"
     ]
    }
   ],
   "source": [
    "solution(3, [[1, 2], [1, 3]])"
   ]
  },
  {
   "cell_type": "code",
   "execution_count": 108,
   "id": "0c24c82c",
   "metadata": {},
   "outputs": [
    {
     "ename": "TypeError",
     "evalue": "unhashable type: 'list'",
     "output_type": "error",
     "traceback": [
      "\u001b[0;31m---------------------------------------------------------------------------\u001b[0m",
      "\u001b[0;31mTypeError\u001b[0m                                 Traceback (most recent call last)",
      "\u001b[0;32m/var/folders/h4/qkygjbx150l41hr_cmr5wpt80000gn/T/ipykernel_9332/3337957579.py\u001b[0m in \u001b[0;36m<module>\u001b[0;34m\u001b[0m\n\u001b[1;32m      1\u001b[0m \u001b[0ma\u001b[0m\u001b[0;34m=\u001b[0m\u001b[0;34m[\u001b[0m\u001b[0;34m[\u001b[0m\u001b[0;36m1\u001b[0m\u001b[0;34m,\u001b[0m\u001b[0;36m2\u001b[0m\u001b[0;34m]\u001b[0m\u001b[0;34m]\u001b[0m\u001b[0;34m\u001b[0m\u001b[0;34m\u001b[0m\u001b[0m\n\u001b[0;32m----> 2\u001b[0;31m \u001b[0ma\u001b[0m\u001b[0;34m=\u001b[0m\u001b[0mlist\u001b[0m\u001b[0;34m(\u001b[0m\u001b[0mset\u001b[0m\u001b[0;34m(\u001b[0m\u001b[0ma\u001b[0m\u001b[0;34m)\u001b[0m\u001b[0;34m)\u001b[0m\u001b[0;34m\u001b[0m\u001b[0;34m\u001b[0m\u001b[0m\n\u001b[0m",
      "\u001b[0;31mTypeError\u001b[0m: unhashable type: 'list'"
     ]
    }
   ],
   "source": [
    "a=[[1,2]]\n",
    "a=list(set(a))"
   ]
  },
  {
   "cell_type": "code",
   "execution_count": 119,
   "id": "4d94ee8b",
   "metadata": {},
   "outputs": [],
   "source": [
    "from collections import deque\n",
    "\n",
    "def solution(n, edge):\n",
    "    graph=[[] for _ in range(n+1)]\n",
    "    for x in edge:\n",
    "        graph[x[0]].append(x[1])\n",
    "        graph[x[1]].append(x[0])\n",
    "    visited = [0 for _ in range(n+1)]\n",
    "    visited[1] = 1\n",
    "    queue = deque([1])\n",
    "    while True:\n",
    "        if len(queue) == 0:\n",
    "            break\n",
    "        v = queue.popleft()\n",
    "        for x in graph[v]:\n",
    "            if visited[x] == 0:\n",
    "                queue.append(x)\n",
    "                visited[x] = visited[v] + 1\n",
    "    return visited.count(max(visited))"
   ]
  },
  {
   "cell_type": "code",
   "execution_count": 120,
   "id": "3c2163f3",
   "metadata": {},
   "outputs": [
    {
     "data": {
      "text/plain": [
       "3"
      ]
     },
     "execution_count": 120,
     "metadata": {},
     "output_type": "execute_result"
    }
   ],
   "source": [
    "solution(6, [[3, 6], [4, 3], [3, 2], [1, 3], [1, 2], [2, 4], [5, 2]])"
   ]
  },
  {
   "cell_type": "code",
   "execution_count": null,
   "id": "feff71bb",
   "metadata": {},
   "outputs": [],
   "source": []
  },
  {
   "cell_type": "code",
   "execution_count": null,
   "id": "4265f569",
   "metadata": {},
   "outputs": [],
   "source": []
  },
  {
   "cell_type": "code",
   "execution_count": null,
   "id": "b64e0ef0",
   "metadata": {},
   "outputs": [],
   "source": []
  },
  {
   "cell_type": "code",
   "execution_count": null,
   "id": "775e56ce",
   "metadata": {},
   "outputs": [],
   "source": []
  },
  {
   "cell_type": "code",
   "execution_count": null,
   "id": "3f807cfe",
   "metadata": {},
   "outputs": [],
   "source": []
  },
  {
   "cell_type": "code",
   "execution_count": null,
   "id": "2b26de06",
   "metadata": {},
   "outputs": [],
   "source": []
  },
  {
   "cell_type": "code",
   "execution_count": null,
   "id": "c2083728",
   "metadata": {},
   "outputs": [],
   "source": []
  },
  {
   "cell_type": "code",
   "execution_count": null,
   "id": "932f1e8b",
   "metadata": {},
   "outputs": [],
   "source": []
  },
  {
   "cell_type": "code",
   "execution_count": null,
   "id": "4166b7a5",
   "metadata": {},
   "outputs": [],
   "source": []
  }
 ],
 "metadata": {
  "kernelspec": {
   "display_name": "Python 3 (ipykernel)",
   "language": "python",
   "name": "python3"
  },
  "language_info": {
   "codemirror_mode": {
    "name": "ipython",
    "version": 3
   },
   "file_extension": ".py",
   "mimetype": "text/x-python",
   "name": "python",
   "nbconvert_exporter": "python",
   "pygments_lexer": "ipython3",
   "version": "3.9.6"
  }
 },
 "nbformat": 4,
 "nbformat_minor": 5
}
