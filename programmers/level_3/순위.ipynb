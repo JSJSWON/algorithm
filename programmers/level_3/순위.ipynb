{
 "cells": [
  {
   "cell_type": "code",
   "execution_count": 39,
   "id": "79f519d0",
   "metadata": {},
   "outputs": [],
   "source": [
    "from collections import deque\n",
    "\n",
    "def bfs(graph, n):\n",
    "    for i in range(1, n+1):\n",
    "        queue = deque(graph[i])\n",
    "        while queue:\n",
    "            v = queue.popleft()\n",
    "            for x in graph[v]:\n",
    "                if x not in graph[i]:\n",
    "                    graph[i].append(x)\n",
    "                    queue.append(x)\n",
    "\n",
    "def solution(n, results):\n",
    "    answer = 0\n",
    "    \n",
    "    graph1 = [[] for _ in range(n+1)]\n",
    "    graph2 = [[] for _ in range(n+1)]\n",
    "    for x in results:\n",
    "        graph1[x[0]].append(x[1])\n",
    "        graph2[x[1]].append(x[0])\n",
    "#     print(graph1)\n",
    "#     print(graph2)\n",
    "    bfs(graph1, n)\n",
    "    bfs(graph2, n)\n",
    "    \n",
    "#     for i in range(1, n+1):\n",
    "#         queue = deque(graph1[i])\n",
    "#         while queue:\n",
    "#             v = queue.popleft()\n",
    "#             for x in graph1[v]:\n",
    "#                 if x not in graph1[i]:\n",
    "#                     graph1[i].append(x)\n",
    "#                     queue.append(x)\n",
    "#     for i in range(1, n+1):\n",
    "#         queue = deque(graph2[i])\n",
    "#         while queue:\n",
    "#             v = queue.popleft()\n",
    "#             for x in graph2[v]:\n",
    "#                 if x not in graph2[i]:\n",
    "#                     graph2[i].append(x)\n",
    "#                     queue.append(x)\n",
    "    \n",
    "#     print(graph1)\n",
    "#     print(graph2)\n",
    "    \n",
    "    for i in range(n+1):\n",
    "        if len(graph1[i]) + len(graph2[i]) == n-1:\n",
    "            answer += 1\n",
    "\n",
    "    return answer"
   ]
  },
  {
   "cell_type": "code",
   "execution_count": 40,
   "id": "298a15e8",
   "metadata": {},
   "outputs": [
    {
     "data": {
      "text/plain": [
       "5"
      ]
     },
     "execution_count": 40,
     "metadata": {},
     "output_type": "execute_result"
    }
   ],
   "source": [
    "solution(5, [[1,2], [2,3], [3,4],[4,5]])"
   ]
  },
  {
   "cell_type": "code",
   "execution_count": null,
   "id": "ef3f9aeb",
   "metadata": {},
   "outputs": [],
   "source": []
  }
 ],
 "metadata": {
  "kernelspec": {
   "display_name": "Python 3 (ipykernel)",
   "language": "python",
   "name": "python3"
  },
  "language_info": {
   "codemirror_mode": {
    "name": "ipython",
    "version": 3
   },
   "file_extension": ".py",
   "mimetype": "text/x-python",
   "name": "python",
   "nbconvert_exporter": "python",
   "pygments_lexer": "ipython3",
   "version": "3.9.6"
  }
 },
 "nbformat": 4,
 "nbformat_minor": 5
}
