{
 "cells": [
  {
   "cell_type": "code",
   "execution_count": 3,
   "id": "f04e41e4",
   "metadata": {},
   "outputs": [],
   "source": [
    "def solution(s):\n",
    "    s = list(map(int, s.split()))\n",
    "    str(min(s)) + str(max(s))\n",
    "    \n",
    "    return str(min(s)) + ' ' + str(max(s))"
   ]
  },
  {
   "cell_type": "code",
   "execution_count": 5,
   "id": "0be1f99e",
   "metadata": {},
   "outputs": [
    {
     "data": {
      "text/plain": [
       "'-4 -1'"
      ]
     },
     "execution_count": 5,
     "metadata": {},
     "output_type": "execute_result"
    }
   ],
   "source": [
    "solution(\"-1 -2 -3 -4\")"
   ]
  },
  {
   "cell_type": "code",
   "execution_count": null,
   "id": "6d2191e2",
   "metadata": {},
   "outputs": [],
   "source": []
  }
 ],
 "metadata": {
  "kernelspec": {
   "display_name": "Python 3 (ipykernel)",
   "language": "python",
   "name": "python3"
  },
  "language_info": {
   "codemirror_mode": {
    "name": "ipython",
    "version": 3
   },
   "file_extension": ".py",
   "mimetype": "text/x-python",
   "name": "python",
   "nbconvert_exporter": "python",
   "pygments_lexer": "ipython3",
   "version": "3.9.6"
  }
 },
 "nbformat": 4,
 "nbformat_minor": 5
}
