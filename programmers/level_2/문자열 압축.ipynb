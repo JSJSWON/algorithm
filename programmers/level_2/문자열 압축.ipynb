{
 "cells": [
  {
   "cell_type": "code",
   "execution_count": null,
   "id": "adcc30a4",
   "metadata": {},
   "outputs": [],
   "source": [
    "def solution(s):\n",
    "    answer = 0\n",
    "    \n",
    "    l = len(s) // 2\n",
    "    now = ''\n",
    "    cnt = 0\n",
    "    ans = []\n",
    "    for i in range(len(s) - 1, 0, -l):\n",
    "        \n",
    "        \n",
    "        \n",
    "        \n",
    "    return answer"
   ]
  },
  {
   "cell_type": "code",
   "execution_count": 2,
   "id": "f5b02de5",
   "metadata": {},
   "outputs": [
    {
     "data": {
      "text/plain": [
       "3"
      ]
     },
     "execution_count": 2,
     "metadata": {},
     "output_type": "execute_result"
    }
   ],
   "source": [
    "7//2"
   ]
  },
  {
   "cell_type": "code",
   "execution_count": 4,
   "id": "56e39f67",
   "metadata": {
    "scrolled": true
   },
   "outputs": [
    {
     "name": "stdout",
     "output_type": "stream",
     "text": [
      "10\n",
      "3\n"
     ]
    }
   ],
   "source": [
    "for i in range(10, 0, -7):\n",
    "    print(i)"
   ]
  },
  {
   "cell_type": "code",
   "execution_count": 52,
   "id": "d0983612",
   "metadata": {},
   "outputs": [],
   "source": [
    "def solution(s):\n",
    "    answer = len(s)\n",
    "    \n",
    "    l = len(s) // 2 # 단어 길이\n",
    "    now = 0 # 현재 위치\n",
    "    word = '' # 현재 단어\n",
    "    cnt = 0 # 얼마나 중복되는지\n",
    "    t = 0 # 중복 단어의 수\n",
    "    num = 0 # 중복 단어의 점프 체크\n",
    "    while True:\n",
    "        if l == 0:\n",
    "            break\n",
    "        if now + 2 * l > len(s):\n",
    "            tmp = len(s) - cnt * l + t\n",
    "            if answer > tmp:\n",
    "                answer = tmp\n",
    "            l -= 1\n",
    "            now = 0\n",
    "            word = ''\n",
    "            cnt = 0\n",
    "            t = 0\n",
    "            num = 0\n",
    "        else:\n",
    "            if s[now:now + l] == s[now + l:now + 2 * l]:\n",
    "                word = s[now:now + l]\n",
    "                if num == 0:\n",
    "                    t += 1\n",
    "                    num = 1\n",
    "                now += l\n",
    "                cnt += 1\n",
    "            else:\n",
    "                now += l\n",
    "                num = 0\n",
    "\n",
    "    return answer"
   ]
  },
  {
   "cell_type": "code",
   "execution_count": 67,
   "id": "77d580e1",
   "metadata": {},
   "outputs": [
    {
     "data": {
      "text/plain": [
       "10"
      ]
     },
     "execution_count": 67,
     "metadata": {},
     "output_type": "execute_result"
    }
   ],
   "source": [
    "solution(\"abcdabcdeeeeeeee\")"
   ]
  },
  {
   "cell_type": "code",
   "execution_count": 10,
   "id": "bab01105",
   "metadata": {},
   "outputs": [
    {
     "name": "stdout",
     "output_type": "stream",
     "text": [
      "2\n"
     ]
    }
   ],
   "source": [
    "a = 'aabbaaaabaa'\n",
    "print(a.count('baa'))"
   ]
  },
  {
   "cell_type": "code",
   "execution_count": null,
   "id": "54043bcf",
   "metadata": {},
   "outputs": [],
   "source": []
  },
  {
   "cell_type": "code",
   "execution_count": null,
   "id": "0af3b981",
   "metadata": {},
   "outputs": [],
   "source": []
  },
  {
   "cell_type": "code",
   "execution_count": null,
   "id": "31fa187d",
   "metadata": {},
   "outputs": [],
   "source": []
  },
  {
   "cell_type": "code",
   "execution_count": null,
   "id": "62cde702",
   "metadata": {},
   "outputs": [],
   "source": []
  },
  {
   "cell_type": "code",
   "execution_count": 94,
   "id": "f6381214",
   "metadata": {},
   "outputs": [],
   "source": [
    "def solution(s):\n",
    "    answer = len(s)\n",
    "    \n",
    "    l = len(s) // 2 # 단어 길이\n",
    "    \n",
    "    \n",
    "    while True:\n",
    "        if l == 0:\n",
    "            break\n",
    "        words = []\n",
    "        tmp = 0\n",
    "        cnt = 0\n",
    "        for i in range(0, len(s), l):\n",
    "            words.append(s[i:i + l])\n",
    "        \n",
    "        now = words[0]\n",
    "        for i in range(1, len(words)):\n",
    "            if now == words[i]:\n",
    "                cnt += 1\n",
    "            else:\n",
    "                now = words[i]\n",
    "                if l * cnt - len(str(cnt + 1)) > 0:\n",
    "                    tmp += l * cnt - len(str(cnt + 1))\n",
    "                cnt = 0\n",
    "\n",
    "                \n",
    "        if l * cnt - len(str(cnt + 1)) > 0:\n",
    "            tmp += l * cnt - len(str(cnt + 1))\n",
    "\n",
    "        \n",
    "        if answer > len(s) - tmp:\n",
    "            answer = len(s) - tmp\n",
    "        \n",
    "        l -= 1\n",
    "            \n",
    "    \n",
    "\n",
    "    return answer"
   ]
  },
  {
   "cell_type": "code",
   "execution_count": 96,
   "id": "134f5884",
   "metadata": {},
   "outputs": [
    {
     "name": "stdout",
     "output_type": "stream",
     "text": [
      "0\n",
      "0\n",
      "0\n",
      "0\n",
      "0\n",
      "0\n",
      "0\n",
      "0\n",
      "0\n",
      "0\n",
      "0\n",
      "0\n",
      "0\n",
      "0\n",
      "0\n",
      "0\n",
      "0\n",
      "0\n",
      "0\n",
      "0\n",
      "0\n",
      "0\n",
      "0\n",
      "0\n"
     ]
    },
    {
     "data": {
      "text/plain": [
       "14"
      ]
     },
     "execution_count": 96,
     "metadata": {},
     "output_type": "execute_result"
    }
   ],
   "source": [
    "solution(\"abcabcabcabcdededededede\")"
   ]
  },
  {
   "cell_type": "code",
   "execution_count": 68,
   "id": "4ee9a875",
   "metadata": {},
   "outputs": [
    {
     "name": "stdout",
     "output_type": "stream",
     "text": [
      "123\n",
      "456\n",
      "7\n"
     ]
    }
   ],
   "source": [
    "t = '1234567'\n",
    "l = 3\n",
    "for i in range(0, len(t), l):\n",
    "    print(t[i:i+l])"
   ]
  },
  {
   "cell_type": "code",
   "execution_count": null,
   "id": "3602eb90",
   "metadata": {},
   "outputs": [],
   "source": []
  },
  {
   "cell_type": "code",
   "execution_count": null,
   "id": "0ef79f32",
   "metadata": {},
   "outputs": [],
   "source": []
  },
  {
   "cell_type": "code",
   "execution_count": null,
   "id": "a83fa852",
   "metadata": {},
   "outputs": [],
   "source": []
  },
  {
   "cell_type": "code",
   "execution_count": null,
   "id": "2734cb94",
   "metadata": {},
   "outputs": [],
   "source": []
  },
  {
   "cell_type": "code",
   "execution_count": null,
   "id": "e4075da6",
   "metadata": {},
   "outputs": [],
   "source": []
  }
 ],
 "metadata": {
  "kernelspec": {
   "display_name": "Python 3 (ipykernel)",
   "language": "python",
   "name": "python3"
  },
  "language_info": {
   "codemirror_mode": {
    "name": "ipython",
    "version": 3
   },
   "file_extension": ".py",
   "mimetype": "text/x-python",
   "name": "python",
   "nbconvert_exporter": "python",
   "pygments_lexer": "ipython3",
   "version": "3.9.6"
  }
 },
 "nbformat": 4,
 "nbformat_minor": 5
}
