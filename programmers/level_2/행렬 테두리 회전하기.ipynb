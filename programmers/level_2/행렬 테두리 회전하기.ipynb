{
 "cells": [
  {
   "cell_type": "code",
   "execution_count": 125,
   "id": "f3f0fd0d",
   "metadata": {},
   "outputs": [],
   "source": [
    "def solution(rows, columns, queries):\n",
    "    answer = []\n",
    "    g = [[] for _ in range(rows)]\n",
    "    \n",
    "    i = 1\n",
    "    for x in g:\n",
    "        for j in range(i, i + columns):\n",
    "            x.append(j)\n",
    "        i += columns\n",
    "    \n",
    "    for q in queries:\n",
    "        x, y = q[0] - 1, q[1] - 1\n",
    "        now = g[x + 1][y]\n",
    "        tmp = 0\n",
    "        ans = now\n",
    "        for _ in range(q[3] - q[1] + 1):\n",
    "            tmp = g[x][y]\n",
    "            if ans > tmp:\n",
    "                ans = tmp\n",
    "            g[x][y] = now\n",
    "            now = tmp\n",
    "            y += 1\n",
    "        y -= 1\n",
    "        x += 1\n",
    "        for _ in range(q[2] - q[0]):\n",
    "            tmp = g[x][y]\n",
    "            if ans > tmp:\n",
    "                ans = tmp\n",
    "            g[x][y] = now\n",
    "            now = tmp\n",
    "            x += 1\n",
    "        x -= 1\n",
    "        y -= 1\n",
    "        for _ in range(q[3] - q[1]):\n",
    "            tmp = g[x][y]\n",
    "            if ans > tmp:\n",
    "                ans = tmp\n",
    "            g[x][y] = now\n",
    "            now = tmp\n",
    "            y -= 1\n",
    "        y += 1\n",
    "        x -= 1\n",
    "        for _ in range(q[2] - q[0] - 2):\n",
    "            tmp = g[x][y]\n",
    "            if ans > tmp:\n",
    "                ans = tmp\n",
    "            g[x][y] = now\n",
    "            now = tmp\n",
    "            x -= 1\n",
    "        print(g)\n",
    "        answer.append(ans)\n",
    "\n",
    "    return answer"
   ]
  },
  {
   "cell_type": "code",
   "execution_count": 127,
   "id": "6e013eef",
   "metadata": {},
   "outputs": [
    {
     "name": "stdout",
     "output_type": "stream",
     "text": [
      "[[4, 1, 3], [5, 2, 6], [7, 8, 9]]\n",
      "[[4, 2, 1], [5, 6, 3], [7, 8, 9]]\n",
      "[[4, 2, 1], [7, 5, 3], [8, 6, 9]]\n",
      "[[4, 2, 1], [7, 6, 5], [8, 9, 3]]\n"
     ]
    },
    {
     "data": {
      "text/plain": [
       "[1, 1, 5, 3]"
      ]
     },
     "execution_count": 127,
     "metadata": {},
     "output_type": "execute_result"
    }
   ],
   "source": [
    "solution(3, 3, [[1,1,2,2],[1,2,2,3],[2,1,3,2],[2,2,3,3]])"
   ]
  },
  {
   "cell_type": "code",
   "execution_count": 128,
   "id": "ef3f63a0",
   "metadata": {},
   "outputs": [],
   "source": [
    "for i in range(-1):\n",
    "    print(1)"
   ]
  },
  {
   "cell_type": "code",
   "execution_count": 27,
   "id": "8068bb1d",
   "metadata": {},
   "outputs": [],
   "source": [
    "from collections import deque\n",
    "\n",
    "def solution(rows, columns, queries):\n",
    "    answer = []\n",
    "    g = [[] for _ in range(rows)]\n",
    "    \n",
    "    i = 1\n",
    "    for x in g:\n",
    "        for j in range(i, i + columns):\n",
    "            x.append(j)\n",
    "        i += columns\n",
    "        \n",
    "    for q in queries:\n",
    "        x, y = q[0] - 1, q[1] - 1\n",
    "        tmp = deque()\n",
    "        ans = 100000\n",
    "        \n",
    "        for _ in range(q[3] - q[1]):\n",
    "            tmp.append(g[x][y])\n",
    "            if ans > g[x][y]:\n",
    "                ans = g[x][y]\n",
    "            y += 1\n",
    "        for _ in range(q[2] - q[0]):\n",
    "            tmp.append(g[x][y])\n",
    "            if ans > g[x][y]:\n",
    "                ans = g[x][y]\n",
    "            x += 1\n",
    "        for _ in range(q[3] - q[1]):\n",
    "            tmp.append(g[x][y])\n",
    "            if ans > g[x][y]:\n",
    "                ans = g[x][y]\n",
    "            y -= 1\n",
    "        for _ in range(q[2] - q[0]):\n",
    "            tmp.append(g[x][y])\n",
    "            if ans > g[x][y]:\n",
    "                ans = g[x][y]\n",
    "            x -= 1\n",
    "        tmp.rotate(1)\n",
    "        answer.append(ans)\n",
    "        \n",
    "        x, y = q[0] - 1, q[1] - 1\n",
    "        i = 0\n",
    "        for _ in range(q[3] - q[1]):\n",
    "            g[x][y] = tmp[i]\n",
    "            i += 1\n",
    "            y += 1\n",
    "        for _ in range(q[2] - q[0]):\n",
    "            g[x][y] = tmp[i]\n",
    "            i += 1\n",
    "            x += 1\n",
    "        for _ in range(q[3] - q[1]):\n",
    "            g[x][y] = tmp[i]\n",
    "            i += 1\n",
    "            y -= 1\n",
    "        for _ in range(q[2] - q[0]):\n",
    "            g[x][y] = tmp[i]\n",
    "            i += 1\n",
    "            x -= 1\n",
    "\n",
    "    return answer"
   ]
  },
  {
   "cell_type": "code",
   "execution_count": 28,
   "id": "fa4880c7",
   "metadata": {},
   "outputs": [
    {
     "name": "stdout",
     "output_type": "stream",
     "text": [
      "[[1, 2, 3, 4, 5, 6], [7, 14, 8, 9, 11, 12], [13, 20, 15, 10, 17, 18], [19, 26, 21, 16, 23, 24], [25, 27, 28, 22, 29, 30], [31, 32, 33, 34, 35, 36]]\n",
      "[[1, 2, 3, 4, 5, 6], [7, 14, 8, 9, 11, 12], [13, 20, 21, 15, 10, 17], [19, 26, 28, 16, 23, 18], [25, 27, 33, 22, 29, 24], [31, 32, 34, 35, 36, 30]]\n",
      "[[1, 2, 3, 4, 5, 6], [7, 14, 8, 9, 11, 12], [13, 20, 21, 15, 10, 17], [19, 26, 28, 16, 23, 18], [31, 25, 27, 22, 29, 24], [32, 34, 33, 35, 36, 30]]\n"
     ]
    },
    {
     "data": {
      "text/plain": [
       "[8, 10, 25]"
      ]
     },
     "execution_count": 28,
     "metadata": {},
     "output_type": "execute_result"
    }
   ],
   "source": [
    "solution(6, 6, [[2,2,5,4],[3,3,6,6],[5,1,6,3]])"
   ]
  },
  {
   "cell_type": "code",
   "execution_count": null,
   "id": "fb5cb612",
   "metadata": {},
   "outputs": [],
   "source": []
  },
  {
   "cell_type": "code",
   "execution_count": null,
   "id": "d4163eb3",
   "metadata": {},
   "outputs": [],
   "source": []
  },
  {
   "cell_type": "code",
   "execution_count": null,
   "id": "19c5d4c6",
   "metadata": {},
   "outputs": [],
   "source": []
  },
  {
   "cell_type": "code",
   "execution_count": null,
   "id": "eb7a2be7",
   "metadata": {},
   "outputs": [],
   "source": []
  },
  {
   "cell_type": "code",
   "execution_count": null,
   "id": "0b12824a",
   "metadata": {},
   "outputs": [],
   "source": []
  },
  {
   "cell_type": "code",
   "execution_count": null,
   "id": "51cb6e15",
   "metadata": {},
   "outputs": [],
   "source": []
  },
  {
   "cell_type": "code",
   "execution_count": null,
   "id": "b9c19be3",
   "metadata": {},
   "outputs": [],
   "source": []
  },
  {
   "cell_type": "code",
   "execution_count": null,
   "id": "fd873b06",
   "metadata": {},
   "outputs": [],
   "source": []
  }
 ],
 "metadata": {
  "kernelspec": {
   "display_name": "Python 3 (ipykernel)",
   "language": "python",
   "name": "python3"
  },
  "language_info": {
   "codemirror_mode": {
    "name": "ipython",
    "version": 3
   },
   "file_extension": ".py",
   "mimetype": "text/x-python",
   "name": "python",
   "nbconvert_exporter": "python",
   "pygments_lexer": "ipython3",
   "version": "3.9.6"
  }
 },
 "nbformat": 4,
 "nbformat_minor": 5
}
