{
 "cells": [
  {
   "cell_type": "code",
   "execution_count": 33,
   "id": "a06e35fe",
   "metadata": {},
   "outputs": [],
   "source": [
    "def solution(money):\n",
    "    \n",
    "    dp_no_first = [0, 0]\n",
    "    dp_no_last = [0, money[0]]\n",
    "    for i in range(2, len(money)+1):\n",
    "        if i != len(money):\n",
    "            dp_no_last.append(max(dp_no_last[i-1], dp_no_last[i-2] + money[i-1]))\n",
    "        dp_no_first.append(max(dp_no_first[i-1], dp_no_first[i-2] + money[i-1]))\n",
    "    \n",
    "    return max(dp_no_first[-1], dp_no_last[-1])"
   ]
  },
  {
   "cell_type": "code",
   "execution_count": 34,
   "id": "ab52c205",
   "metadata": {},
   "outputs": [
    {
     "data": {
      "text/plain": [
       "10"
      ]
     },
     "execution_count": 34,
     "metadata": {},
     "output_type": "execute_result"
    }
   ],
   "source": [
    "solution([0,1,10])"
   ]
  },
  {
   "cell_type": "code",
   "execution_count": null,
   "id": "d8a9923b",
   "metadata": {},
   "outputs": [],
   "source": []
  }
 ],
 "metadata": {
  "kernelspec": {
   "display_name": "Python 3 (ipykernel)",
   "language": "python",
   "name": "python3"
  },
  "language_info": {
   "codemirror_mode": {
    "name": "ipython",
    "version": 3
   },
   "file_extension": ".py",
   "mimetype": "text/x-python",
   "name": "python",
   "nbconvert_exporter": "python",
   "pygments_lexer": "ipython3",
   "version": "3.9.6"
  }
 },
 "nbformat": 4,
 "nbformat_minor": 5
}
