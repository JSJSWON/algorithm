{
 "cells": [
  {
   "cell_type": "code",
   "execution_count": 20,
   "id": "5895a5a3",
   "metadata": {},
   "outputs": [],
   "source": [
    "def solution(s):\n",
    "    answer = ''\n",
    "    \n",
    "    num = [str(i) for i in range(0, 10)]\n",
    "    word = ['zero', 'one', 'two', 'three', 'four', 'five', 'six', 'seven', 'eight', 'nine']\n",
    "\n",
    "    i = 0\n",
    "    while True:\n",
    "        if i == len(s):\n",
    "            break\n",
    "        j = 1\n",
    "        while True:\n",
    "            if s[i:i+j] in num:\n",
    "                answer += s[i:i+j]\n",
    "                i += j\n",
    "                break\n",
    "            elif s[i:i+j] in word:\n",
    "                answer += num[word.index(s[i:i+j])]\n",
    "                i += j\n",
    "                break\n",
    "            else:\n",
    "                j += 1\n",
    "\n",
    "    return answer"
   ]
  },
  {
   "cell_type": "code",
   "execution_count": 25,
   "id": "0dad5df3",
   "metadata": {},
   "outputs": [
    {
     "data": {
      "text/plain": [
       "'1'"
      ]
     },
     "execution_count": 25,
     "metadata": {},
     "output_type": "execute_result"
    }
   ],
   "source": [
    "solution(\"one\")"
   ]
  },
  {
   "cell_type": "code",
   "execution_count": 5,
   "id": "0ebb331a",
   "metadata": {},
   "outputs": [
    {
     "name": "stdout",
     "output_type": "stream",
     "text": [
      "*23\n",
      "123\n"
     ]
    }
   ],
   "source": [
    "a = '123'\n",
    "b = a\n",
    "a = a.replace('1', '*')\n",
    "print(a)\n",
    "print(b)"
   ]
  },
  {
   "cell_type": "code",
   "execution_count": null,
   "id": "5b59e6b5",
   "metadata": {},
   "outputs": [],
   "source": []
  }
 ],
 "metadata": {
  "kernelspec": {
   "display_name": "Python 3 (ipykernel)",
   "language": "python",
   "name": "python3"
  },
  "language_info": {
   "codemirror_mode": {
    "name": "ipython",
    "version": 3
   },
   "file_extension": ".py",
   "mimetype": "text/x-python",
   "name": "python",
   "nbconvert_exporter": "python",
   "pygments_lexer": "ipython3",
   "version": "3.9.6"
  }
 },
 "nbformat": 4,
 "nbformat_minor": 5
}
