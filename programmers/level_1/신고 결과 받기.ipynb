{
 "cells": [
  {
   "cell_type": "code",
   "execution_count": 43,
   "id": "a07e27d2",
   "metadata": {},
   "outputs": [],
   "source": [
    "def solution(id_list, report, k):\n",
    "    answer = [0 for _ in range(len(id_list))]\n",
    "    ans = [0 for _ in range(len(id_list))]\n",
    "    report = sorted(list(set(report)))\n",
    "    now = report[0].split()[0]\n",
    "    ind = []\n",
    "    ind.append(id_list.index(report[0].split()[1]))\n",
    "    for i in range(1, len(report)):\n",
    "        tmp = report[i].split()[0]\n",
    "        if now == tmp:\n",
    "            ind.append(id_list.index(report[i].split()[1]))\n",
    "        else:\n",
    "            tmp1 = []\n",
    "            for x in ind:\n",
    "                if x not in tmp1:\n",
    "                    ans[x] += 1\n",
    "                    tmp1.append(x)\n",
    "            ind = []\n",
    "            \n",
    "            now = tmp\n",
    "            ind.append(id_list.index(report[i].split()[1]))\n",
    "    tmp1 = []\n",
    "    for x in ind:\n",
    "        if x not in tmp1:\n",
    "            ans[x] += 1\n",
    "            tmp1.append(x)\n",
    "    for i in range(len(ans)):\n",
    "        if ans[i] >= k:\n",
    "            for y in report:\n",
    "                if id_list[i] == y.split()[1]:\n",
    "                    answer[id_list.index(y.split()[0])] += 1\n",
    "    return answer"
   ]
  },
  {
   "cell_type": "code",
   "execution_count": 44,
   "id": "a3757375",
   "metadata": {},
   "outputs": [
    {
     "name": "stdout",
     "output_type": "stream",
     "text": [
      "[0, 1]\n"
     ]
    }
   ],
   "source": [
    "print(solution([\"con\", \"ryan\"], [\"ryan con\", \"ryan con\", \"ryan con\", \"ryan con\"], 1))"
   ]
  },
  {
   "cell_type": "code",
   "execution_count": null,
   "id": "0545fd07",
   "metadata": {},
   "outputs": [],
   "source": []
  },
  {
   "cell_type": "code",
   "execution_count": 49,
   "id": "49bf05a7",
   "metadata": {},
   "outputs": [],
   "source": [
    "def solution(id_list, report, k):\n",
    "    answer = [0 for _ in range(len(id_list))]\n",
    "    ans = [0 for _ in range(len(id_list))]\n",
    "    report = sorted(list(set(report)))\n",
    "    now = report[0].split()[0]\n",
    "    cand = []\n",
    "    cand.append(report[0].split()[1])\n",
    "    for i in range(1, len(report)):\n",
    "        tmp = report[i].split()[0]\n",
    "        if now == tmp:\n",
    "            cand.append(report[i].split()[1])\n",
    "        else:\n",
    "            cand = list(set(cand))\n",
    "            for x in cand:\n",
    "                ans[id_list.index(x)] += 1\n",
    "            cand = []\n",
    "            \n",
    "            now = tmp\n",
    "            cand.append(report[i].split()[1])\n",
    "    cand = list(set(cand))\n",
    "    for x in cand:\n",
    "        ans[id_list.index(x)] += 1\n",
    "    for i in range(len(ans)):\n",
    "        if ans[i] >= k:\n",
    "            for y in report:\n",
    "                if id_list[i] == y.split()[1]:\n",
    "                    answer[id_list.index(y.split()[0])] += 1\n",
    "    return answer"
   ]
  },
  {
   "cell_type": "code",
   "execution_count": 50,
   "id": "f3476702",
   "metadata": {},
   "outputs": [
    {
     "name": "stdout",
     "output_type": "stream",
     "text": [
      "[0, 1]\n"
     ]
    }
   ],
   "source": [
    "print(solution([\"con\", \"ryan\"], [\"ryan con\", \"ryan con\", \"ryan con\", \"ryan con\"], 1))"
   ]
  },
  {
   "cell_type": "code",
   "execution_count": 58,
   "id": "5990935d",
   "metadata": {},
   "outputs": [],
   "source": [
    "def solution(id_list, report, k):\n",
    "    answer = []\n",
    "    ans = [0 for _ in range(len(id_list))]\n",
    "    report = sorted(list(set(report)))\n",
    "    now = report[0].split()[0]\n",
    "    cand_total = []\n",
    "    cand = []\n",
    "    cand.append(report[0].split()[1])\n",
    "    for i in range(1, len(report)):\n",
    "        tmp = report[i].split()[0]\n",
    "        if now == tmp:\n",
    "            cand.append(report[i].split()[1])\n",
    "        else:\n",
    "            cand = list(set(cand))\n",
    "            cand_total += cand\n",
    "            cand = []\n",
    "            \n",
    "            now = tmp\n",
    "            cand.append(report[i].split()[1])\n",
    "    cand = list(set(cand))\n",
    "    cand_total += cand\n",
    "    \n",
    "    print(cand_total)\n",
    "    \n",
    "    for i in range(len(id_list)):\n",
    "        t = cand_total.count(id_list[i])\n",
    "        if t >= k:\n",
    "            \n",
    "\n",
    "    return answer"
   ]
  },
  {
   "cell_type": "code",
   "execution_count": 59,
   "id": "10a4bfa7",
   "metadata": {},
   "outputs": [
    {
     "name": "stdout",
     "output_type": "stream",
     "text": [
      "['muzi', 'frodo', 'neo', 'frodo', 'neo']\n",
      "[1, 2, 0, 2]\n"
     ]
    }
   ],
   "source": [
    "print(solution([\"muzi\", \"frodo\", \"apeach\", \"neo\"], [\"muzi frodo\",\"apeach frodo\",\"frodo neo\",\"muzi neo\",\"apeach muzi\"], 2))"
   ]
  },
  {
   "cell_type": "code",
   "execution_count": null,
   "id": "82df101f",
   "metadata": {},
   "outputs": [],
   "source": []
  },
  {
   "cell_type": "code",
   "execution_count": 77,
   "id": "02fa564d",
   "metadata": {},
   "outputs": [],
   "source": [
    "def solution(id_list, report, k):\n",
    "    answer = [0 for _ in range(len(id_list))]\n",
    "    report = set(report)\n",
    "    \n",
    "    tmp = dict()\n",
    "    for x in report:\n",
    "        t = x.split()[1]\n",
    "        if t not in tmp:\n",
    "            tmp[t] = 1\n",
    "        else:\n",
    "            tmp[t] += 1\n",
    "    \n",
    "    for x in tmp:\n",
    "        t = tmp[x]\n",
    "        if t >= k:\n",
    "            # 여기서 반복 심하네\n",
    "            \n",
    "            report1 = set()\n",
    "            for y in report:\n",
    "                tt = y.split()\n",
    "                if tt[1] == x:\n",
    "                    answer[id_list.index(tt[0])] += 1\n",
    "                else:\n",
    "                    report1.add(y)\n",
    "            report = report1\n",
    "    \n",
    "\n",
    "    \n",
    "    return answer"
   ]
  },
  {
   "cell_type": "code",
   "execution_count": 78,
   "id": "4688761d",
   "metadata": {},
   "outputs": [
    {
     "ename": "RuntimeError",
     "evalue": "Set changed size during iteration",
     "output_type": "error",
     "traceback": [
      "\u001b[0;31m---------------------------------------------------------------------------\u001b[0m",
      "\u001b[0;31mRuntimeError\u001b[0m                              Traceback (most recent call last)",
      "\u001b[0;32m/var/folders/h4/qkygjbx150l41hr_cmr5wpt80000gn/T/ipykernel_28194/301918013.py\u001b[0m in \u001b[0;36m<module>\u001b[0;34m\u001b[0m\n\u001b[0;32m----> 1\u001b[0;31m \u001b[0mprint\u001b[0m\u001b[0;34m(\u001b[0m\u001b[0msolution\u001b[0m\u001b[0;34m(\u001b[0m\u001b[0;34m[\u001b[0m\u001b[0;34m\"muzi\"\u001b[0m\u001b[0;34m,\u001b[0m \u001b[0;34m\"frodo\"\u001b[0m\u001b[0;34m,\u001b[0m \u001b[0;34m\"apeach\"\u001b[0m\u001b[0;34m,\u001b[0m \u001b[0;34m\"neo\"\u001b[0m\u001b[0;34m]\u001b[0m\u001b[0;34m,\u001b[0m \u001b[0;34m[\u001b[0m\u001b[0;34m\"muzi frodo\"\u001b[0m\u001b[0;34m,\u001b[0m\u001b[0;34m\"apeach frodo\"\u001b[0m\u001b[0;34m,\u001b[0m\u001b[0;34m\"frodo neo\"\u001b[0m\u001b[0;34m,\u001b[0m\u001b[0;34m\"muzi neo\"\u001b[0m\u001b[0;34m,\u001b[0m\u001b[0;34m\"apeach muzi\"\u001b[0m\u001b[0;34m]\u001b[0m\u001b[0;34m,\u001b[0m \u001b[0;36m2\u001b[0m\u001b[0;34m)\u001b[0m\u001b[0;34m)\u001b[0m\u001b[0;34m\u001b[0m\u001b[0;34m\u001b[0m\u001b[0m\n\u001b[0m",
      "\u001b[0;32m/var/folders/h4/qkygjbx150l41hr_cmr5wpt80000gn/T/ipykernel_28194/3291882534.py\u001b[0m in \u001b[0;36msolution\u001b[0;34m(id_list, report, k)\u001b[0m\n\u001b[1;32m     16\u001b[0m             \u001b[0;31m# 여기서 반복 심하네\u001b[0m\u001b[0;34m\u001b[0m\u001b[0;34m\u001b[0m\u001b[0;34m\u001b[0m\u001b[0m\n\u001b[1;32m     17\u001b[0m \u001b[0;34m\u001b[0m\u001b[0m\n\u001b[0;32m---> 18\u001b[0;31m             \u001b[0;32mfor\u001b[0m \u001b[0my\u001b[0m \u001b[0;32min\u001b[0m \u001b[0mreport\u001b[0m\u001b[0;34m:\u001b[0m\u001b[0;34m\u001b[0m\u001b[0;34m\u001b[0m\u001b[0m\n\u001b[0m\u001b[1;32m     19\u001b[0m                 \u001b[0mtt\u001b[0m \u001b[0;34m=\u001b[0m \u001b[0my\u001b[0m\u001b[0;34m.\u001b[0m\u001b[0msplit\u001b[0m\u001b[0;34m(\u001b[0m\u001b[0;34m)\u001b[0m\u001b[0;34m\u001b[0m\u001b[0;34m\u001b[0m\u001b[0m\n\u001b[1;32m     20\u001b[0m                 \u001b[0;32mif\u001b[0m \u001b[0mtt\u001b[0m\u001b[0;34m[\u001b[0m\u001b[0;36m1\u001b[0m\u001b[0;34m]\u001b[0m \u001b[0;34m==\u001b[0m \u001b[0mx\u001b[0m\u001b[0;34m:\u001b[0m\u001b[0;34m\u001b[0m\u001b[0;34m\u001b[0m\u001b[0m\n",
      "\u001b[0;31mRuntimeError\u001b[0m: Set changed size during iteration"
     ]
    }
   ],
   "source": [
    "print(solution([\"muzi\", \"frodo\", \"apeach\", \"neo\"], [\"muzi frodo\",\"apeach frodo\",\"frodo neo\",\"muzi neo\",\"apeach muzi\"], 2))"
   ]
  },
  {
   "cell_type": "code",
   "execution_count": 63,
   "id": "ab78d905",
   "metadata": {},
   "outputs": [
    {
     "name": "stdout",
     "output_type": "stream",
     "text": [
      "frodo\n",
      "neo\n",
      "muzi\n"
     ]
    }
   ],
   "source": [
    "tmp = {'frodo': 2, 'neo': 2, 'muzi': 1}\n",
    "\n",
    "for x in tmp:\n",
    "    print(x)"
   ]
  },
  {
   "cell_type": "code",
   "execution_count": 64,
   "id": "e0fd7b87",
   "metadata": {},
   "outputs": [
    {
     "name": "stdout",
     "output_type": "stream",
     "text": [
      "['dsaioj', 'iodjsfoiaj']\n"
     ]
    }
   ],
   "source": [
    "a = \"dsaioj iodjsfoiaj\"\n",
    "print(a.split())"
   ]
  },
  {
   "cell_type": "code",
   "execution_count": 74,
   "id": "a64ace93",
   "metadata": {},
   "outputs": [
    {
     "name": "stdout",
     "output_type": "stream",
     "text": [
      "1\n",
      "2\n",
      "3\n"
     ]
    }
   ],
   "source": [
    "a = {1, 2, 3, 3}\n",
    "for x in a:\n",
    "    print(x)"
   ]
  },
  {
   "cell_type": "code",
   "execution_count": null,
   "id": "e293f7e6",
   "metadata": {},
   "outputs": [],
   "source": [
    "def solution(id_list, report, k):\n",
    "    answer = [0 for _ in range(len(id_list))]\n",
    "    report = list(set(report))\n",
    "    \n",
    "    re = []\n",
    "    for x in report:\n",
    "        re.append(x.split()[1])\n",
    "    tmp = dict()\n",
    "    for x in id_list:\n",
    "        t = re.count(x)\n",
    "        if t >= k:\n",
    "            tmp[x] = t\n",
    "    \n",
    "    for x in tmp:\n",
    "        t = tmp[x]\n",
    "        if t >= k:\n",
    "            # 여기서 반복 심하네\n",
    "            \n",
    "            report1 = []\n",
    "            for y in report:\n",
    "                tt = y.split()\n",
    "                if tt[1] == x:\n",
    "                    answer[id_list.index(tt[0])] += 1\n",
    "                else:\n",
    "                    report1.append(y)\n",
    "            report = report1\n",
    "    \n",
    "\n",
    "    \n",
    "    return answer"
   ]
  },
  {
   "cell_type": "code",
   "execution_count": 87,
   "id": "e5a199a0",
   "metadata": {},
   "outputs": [],
   "source": [
    "def solution(id_list, report, k):\n",
    "    answer = [0 for _ in range(len(id_list))]\n",
    "    report = list(set(report))\n",
    "    \n",
    "    re = []\n",
    "    for x in report:\n",
    "        re.append(x.split()[1])\n",
    "    tmp = dict()\n",
    "    for x in id_list:\n",
    "        t = re.count(x)\n",
    "        if t >= k:\n",
    "            tmp[x] = t\n",
    "            \n",
    "    print(tmp)\n",
    "    \n",
    "    for x in tmp:            \n",
    "        for y in report:\n",
    "            tt = y.split()\n",
    "            if tt[1] == x:\n",
    "                answer[id_list.index(tt[0])] += 1\n",
    "\n",
    "    return answer"
   ]
  },
  {
   "cell_type": "code",
   "execution_count": 88,
   "id": "f4a3f309",
   "metadata": {},
   "outputs": [
    {
     "name": "stdout",
     "output_type": "stream",
     "text": [
      "{'frodo': 2, 'neo': 2}\n",
      "[2, 1, 1, 0]\n"
     ]
    }
   ],
   "source": [
    "print(solution([\"muzi\", \"frodo\", \"apeach\", \"neo\"], [\"muzi frodo\",\"apeach frodo\",\"frodo neo\",\"muzi neo\",\"apeach muzi\"], 2))"
   ]
  },
  {
   "cell_type": "code",
   "execution_count": 96,
   "id": "1d044151",
   "metadata": {},
   "outputs": [],
   "source": [
    "def solution(id_list, report, k):\n",
    "    answer = [0 for _ in range(len(id_list))]\n",
    "    report = set(report)\n",
    "    \n",
    "    tmp = dict()\n",
    "    for x in id_list:\n",
    "        tmp[x] = set()\n",
    "    \n",
    "    for x in report:\n",
    "        t = x.split()\n",
    "        tmp[t[1]].add(t[0])\n",
    "    \n",
    "    for x in tmp:\n",
    "        t = list(tmp[x])\n",
    "        if len(t) >= k:\n",
    "            for y in t:\n",
    "                answer[id_list.index(y)] += 1\n",
    "    \n",
    "    \n",
    "    return answer"
   ]
  },
  {
   "cell_type": "code",
   "execution_count": 97,
   "id": "3cf1e88c",
   "metadata": {},
   "outputs": [
    {
     "name": "stdout",
     "output_type": "stream",
     "text": [
      "[2, 1, 1, 0]\n"
     ]
    }
   ],
   "source": [
    "print(solution([\"muzi\", \"frodo\", \"apeach\", \"neo\"], [\"muzi frodo\",\"apeach frodo\",\"frodo neo\",\"muzi neo\",\"apeach muzi\"], 2))"
   ]
  },
  {
   "cell_type": "code",
   "execution_count": 95,
   "id": "7cd0f48b",
   "metadata": {},
   "outputs": [
    {
     "name": "stdout",
     "output_type": "stream",
     "text": [
      "aa\n",
      "bb\n"
     ]
    }
   ],
   "source": [
    "a = {'aa':{}, 'bb':123}\n",
    "for x in a:\n",
    "    print(x)"
   ]
  },
  {
   "cell_type": "code",
   "execution_count": null,
   "id": "356720e7",
   "metadata": {},
   "outputs": [],
   "source": []
  }
 ],
 "metadata": {
  "kernelspec": {
   "display_name": "Python 3 (ipykernel)",
   "language": "python",
   "name": "python3"
  },
  "language_info": {
   "codemirror_mode": {
    "name": "ipython",
    "version": 3
   },
   "file_extension": ".py",
   "mimetype": "text/x-python",
   "name": "python",
   "nbconvert_exporter": "python",
   "pygments_lexer": "ipython3",
   "version": "3.9.6"
  }
 },
 "nbformat": 4,
 "nbformat_minor": 5
}
