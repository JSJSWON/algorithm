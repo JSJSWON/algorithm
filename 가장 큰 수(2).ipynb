{
 "cells": [
  {
   "cell_type": "code",
   "execution_count": 34,
   "id": "9ecd511c",
   "metadata": {},
   "outputs": [],
   "source": [
    "def solution(numbers):\n",
    "    answer = ''\n",
    "    \n",
    "    for i in range(len(numbers)):\n",
    "        numbers[i] = str(numbers[i]) * 3\n",
    "    \n",
    "    numbers.sort(reverse=True)\n",
    "    for x in numbers:\n",
    "        l = len(x) // 3\n",
    "        answer += x[:l]\n",
    "\n",
    "    return str(int(answer))"
   ]
  },
  {
   "cell_type": "code",
   "execution_count": 35,
   "id": "441d35eb",
   "metadata": {},
   "outputs": [
    {
     "data": {
      "text/plain": [
       "'9534330'"
      ]
     },
     "execution_count": 35,
     "metadata": {},
     "output_type": "execute_result"
    }
   ],
   "source": [
    "solution([3, 30, 34, 5, 9])"
   ]
  },
  {
   "cell_type": "code",
   "execution_count": 36,
   "id": "ce02ae70",
   "metadata": {},
   "outputs": [
    {
     "data": {
      "text/plain": [
       "'2222222120'"
      ]
     },
     "execution_count": 36,
     "metadata": {},
     "output_type": "execute_result"
    }
   ],
   "source": [
    "solution([2, 20, 22,222,21])"
   ]
  },
  {
   "cell_type": "code",
   "execution_count": 37,
   "id": "dd03a105",
   "metadata": {},
   "outputs": [
    {
     "data": {
      "text/plain": [
       "'1010010000'"
      ]
     },
     "execution_count": 37,
     "metadata": {},
     "output_type": "execute_result"
    }
   ],
   "source": [
    "solution([0,10,100,1000])"
   ]
  },
  {
   "cell_type": "code",
   "execution_count": 38,
   "id": "bb98e7d2",
   "metadata": {},
   "outputs": [
    {
     "data": {
      "text/plain": [
       "'0'"
      ]
     },
     "execution_count": 38,
     "metadata": {},
     "output_type": "execute_result"
    }
   ],
   "source": [
    "solution([0, 0, 0])"
   ]
  },
  {
   "cell_type": "code",
   "execution_count": null,
   "id": "2ae6b287",
   "metadata": {},
   "outputs": [],
   "source": []
  }
 ],
 "metadata": {
  "kernelspec": {
   "display_name": "Python 3 (ipykernel)",
   "language": "python",
   "name": "python3"
  },
  "language_info": {
   "codemirror_mode": {
    "name": "ipython",
    "version": 3
   },
   "file_extension": ".py",
   "mimetype": "text/x-python",
   "name": "python",
   "nbconvert_exporter": "python",
   "pygments_lexer": "ipython3",
   "version": "3.9.6"
  }
 },
 "nbformat": 4,
 "nbformat_minor": 5
}
